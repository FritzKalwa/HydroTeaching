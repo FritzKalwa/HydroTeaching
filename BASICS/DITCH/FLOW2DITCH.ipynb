{
 "cells": [
  {
   "cell_type": "markdown",
   "metadata": {},
   "source": [
    "# Analytische Lösung für die 1D Grabenanströmung\n",
    "\n",
    "## Gleichungen\n",
    "\n",
    "$h(x)=\\sqrt{H_o^2-\\frac{H_o^2-H_u^2}{L}x+\\frac{q_n}{K}x(L-x)}$\n"
   ]
  },
  {
   "cell_type": "code",
   "execution_count": 20,
   "metadata": {},
   "outputs": [],
   "source": [
    "# Initialize librarys\n",
    "from scipy.special import erfc, erf\n",
    "import matplotlib\n",
    "import matplotlib.pyplot as plt\n",
    "import numpy as np\n",
    "import math\n",
    "from ipywidgets import *"
   ]
  },
  {
   "cell_type": "code",
   "execution_count": 38,
   "metadata": {},
   "outputs": [],
   "source": [
    "# Definition der Funktion\n",
    "def head(Ho, Hu, L, R, K):\n",
    "    x = np.arange(0, L,L/1000)\n",
    "    R=R/1000/365.25/86400\n",
    "    h=(Ho**2-(Ho**2-Hu**2)/L*x+(R/K*x*(L-x)))**0.5\n",
    "    fig, ax = plt.subplots()\n",
    "    ax.plot(x,h)\n",
    "    ax.set(xlabel='x', ylabel='head',title='Druckpotential bei 1D-Grabenströmung')\n",
    "    plt.yticks(np.arange(Hu-2,Ho+2,0.5))\n",
    "    ax.grid()\n",
    "    plt.show()\n",
    "    print(\"R: \",R)\n"
   ]
  },
  {
   "cell_type": "code",
   "execution_count": 39,
   "metadata": {},
   "outputs": [
    {
     "data": {
      "application/vnd.jupyter.widget-view+json": {
       "model_id": "8c27c3e6e70f42dfa19ba38f6c8e4184",
       "version_major": 2,
       "version_minor": 0
      },
      "text/plain": [
       "interactive(children=(BoundedFloatText(value=150.0, description='Ho:', max=1000.0, step=1.0), BoundedFloatText…"
      ]
     },
     "metadata": {},
     "output_type": "display_data"
    },
    {
     "data": {
      "text/plain": [
       "<function __main__.head(Ho, Hu, L, R, K)>"
      ]
     },
     "execution_count": 39,
     "metadata": {},
     "output_type": "execute_result"
    }
   ],
   "source": [
    "# Berechnung\n",
    "\n",
    "interact(head,\n",
    "         Ho=widgets.BoundedFloatText(value=150, min=0, max=1000, step=1, description='Ho:', disabled=False),\n",
    "         Hu=widgets.BoundedFloatText(value=152, min=0, max=1000, step=1, description='Hu:', disabled=False),\n",
    "         L= widgets.BoundedFloatText(value=2500,min=0, max=10000,step=1, description='L:' , disabled=False),\n",
    "         R=(-500,500,10),\n",
    "         K=widgets.FloatLogSlider(value=0.0001,base=10,min=-6, max=-2, step=0.1,readout=True,readout_format='e'))"
   ]
  },
  {
   "cell_type": "code",
   "execution_count": null,
   "metadata": {},
   "outputs": [],
   "source": []
  }
 ],
 "metadata": {
  "kernelspec": {
   "display_name": "Python 3",
   "language": "python",
   "name": "python3"
  },
  "language_info": {
   "codemirror_mode": {
    "name": "ipython",
    "version": 3
   },
   "file_extension": ".py",
   "mimetype": "text/x-python",
   "name": "python",
   "nbconvert_exporter": "python",
   "pygments_lexer": "ipython3",
   "version": "3.7.4"
  }
 },
 "nbformat": 4,
 "nbformat_minor": 2
}
