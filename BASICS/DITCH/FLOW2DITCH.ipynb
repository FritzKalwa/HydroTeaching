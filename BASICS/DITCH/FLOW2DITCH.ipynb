# Analytische Lösung für die 1D Grabenanströmung

## Gleichungen

$h(x)=\sqrt{H_o^2-\frac{H_o^2-H_u^2}{L}x+\frac{q_n}{K}x(L-x)}$
