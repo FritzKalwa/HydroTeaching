{
 "cells": [
  {
   "cell_type": "markdown",
   "metadata": {},
   "source": [
    "# Groundwater Hydraulics\n",
    "Groundwater flow represents a gradient driven / diffusive movement. The notebook solves a diffusion equation in order to describe hydraulic head as function of space (x) and time (t).  \n",
    "\n",
    "Similar, movement of heat (conduction) is also a diffuse process.  \n",
    "\n",
    "Equations for groundwater flow and conduction behave similar and equations are to some extent equivalent."
   ]
  },
  {
   "cell_type": "markdown",
   "metadata": {},
   "source": [
    "# Equations (groundwater flow and heat conduction [in water])\n",
    "\n",
    "$S = c\\rho$\n",
    "\n",
    "$K = \\lambda$\n",
    "\n",
    "$h = T$\n",
    "\n",
    "$D_f=\\frac{K}{S}$ with $D_f$ = hydraulic Diffusivity\n",
    "\n",
    "$D_h=\\frac{\\lambda_w}{c_w \\rho_w}$ with $D_h$ = thermal Diffusivity\n",
    "\n",
    "1-D Conduction without heat storage\n",
    "\n",
    "$T(x,t)=T_0 erfc (\\frac{x}{\\sqrt{4 D_h t}})$\n",
    "\n",
    "1-D Groundwater movement\n",
    "\n",
    "$h(x,t)=h_0 erfc (\\frac{x}{\\sqrt{4 D_f t}})$"
   ]
  },
  {
   "cell_type": "code",
   "execution_count": 6,
   "metadata": {},
   "outputs": [],
   "source": [
    "# Initialize librarys\n",
    "from scipy.special import erfc, erf\n",
    "import matplotlib\n",
    "import matplotlib.pyplot as plt\n",
    "import numpy as np\n",
    "import math\n",
    "from ipywidgets import interact, fixed"
   ]
  },
  {
   "cell_type": "code",
   "execution_count": 7,
   "metadata": {},
   "outputs": [],
   "source": [
    "# Define functions\n",
    "def D_f(K, Ss, m):\n",
    "    S = Ss*m\n",
    "    D_f = K/S\n",
    "    return D_f\n",
    "\n",
    "def Flow1D(t_max,h0,x,K, Ss, m):\n",
    "    t = np.arange(1, t_max,3600)\n",
    "    h=h0*erfc(x/(4*D_f(K, Ss, m)*t)**0.5)\n",
    "    fig, ax = plt.subplots()\n",
    "    ax.plot(t,h)\n",
    "    ax.set(xlabel='time', ylabel='hydraulic head',title='Groundwater flow / hydraulic heads')\n",
    "    ax.grid()\n",
    "    plt.show()\n"
   ]
  },
  {
   "cell_type": "code",
   "execution_count": 11,
   "metadata": {},
   "outputs": [
    {
     "data": {
      "application/vnd.jupyter.widget-view+json": {
       "model_id": "75c3d4fb4b5045319a7a27d42cd56c49",
       "version_major": 2,
       "version_minor": 0
      },
      "text/plain": [
       "interactive(children=(FloatSlider(value=2.0, description='h0', max=5.0), IntSlider(value=2401, description='x'…"
      ]
     },
     "metadata": {},
     "output_type": "display_data"
    }
   ],
   "source": [
    "t_max = 365*86400\n",
    "\n",
    "\n",
    "#x=1\n",
    "h0 = 150\n",
    "t_max = 60 * 86400\n",
    "K_Kfix = 1e-4\n",
    "Ss_fix = 1e-5\n",
    "\n",
    "interact(Flow1D, t_max=fixed(t_max), h0=(0,5,0.1), x=(1,5000,100), K=fixed(K_Kfix), Ss=fixed(Ss_fix), m=(1,50,1));"
   ]
  },
  {
   "cell_type": "code",
   "execution_count": null,
   "metadata": {},
   "outputs": [],
   "source": []
  }
 ],
 "metadata": {
  "kernelspec": {
   "display_name": "Python 3",
   "language": "python",
   "name": "python3"
  },
  "language_info": {
   "codemirror_mode": {
    "name": "ipython",
    "version": 3
   },
   "file_extension": ".py",
   "mimetype": "text/x-python",
   "name": "python",
   "nbconvert_exporter": "python",
   "pygments_lexer": "ipython3",
   "version": "3.8.5"
  }
 },
 "nbformat": 4,
 "nbformat_minor": 4
}
