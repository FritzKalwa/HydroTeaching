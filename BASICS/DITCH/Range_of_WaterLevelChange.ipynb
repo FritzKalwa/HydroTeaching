{
 "cells": [
  {
   "cell_type": "markdown",
   "metadata": {},
   "source": [
    "# Groundwater Hydraulics\n",
    "Groundwater flow represents a gradient driven / diffusive movement. The notebook solves a diffusion equation in order to describe hydraulic head as function of space (x) and time (t).  \n",
    "\n",
    "Similar, movement of heat (conduction) is also a diffuse process.  \n",
    "\n",
    "Equations for groundwater flow and conduction behave similar and equations are to some extent equivalent."
   ]
  },
  {
   "cell_type": "markdown",
   "metadata": {},
   "source": [
    "# Equations (groundwater flow and heat conduction [in water])\n",
    "\n",
    "$S = c\\rho$\n",
    "\n",
    "$K = \\lambda$\n",
    "\n",
    "$h = T$\n",
    "\n",
    "$D_f=\\frac{K}{S}$ with $D_f$ = hydraulic Diffusivity\n",
    "\n",
    "$D_h=\\frac{\\lambda_w}{c_w \\rho_w}$ with $D_h$ = thermal Diffusivity\n",
    "\n",
    "1-D Conduction without heat storage\n",
    "\n",
    "$T(x,t)=T_0 erfc (\\frac{x}{\\sqrt{4 D_h t}})$\n",
    "\n",
    "1-D Groundwater movement\n",
    "\n",
    "$h(x,t)=h_0 erfc (\\frac{x}{\\sqrt{4 D_f t}})$"
   ]
  },
  {
   "cell_type": "code",
   "execution_count": 60,
   "metadata": {},
   "outputs": [],
   "source": [
    "# Initialize librarys\n",
    "from scipy.special import erfc, erf\n",
    "import matplotlib\n",
    "import matplotlib.pyplot as plt\n",
    "import numpy as np\n",
    "import math\n",
    "from ipywidgets import *"
   ]
  },
  {
   "cell_type": "code",
   "execution_count": 70,
   "metadata": {},
   "outputs": [],
   "source": [
    "# Define functions\n",
    "def D_f(K, Ss, m):\n",
    "    S = Ss*m\n",
    "    D_f = K/S\n",
    "    return D_f\n",
    "\n",
    "def Flow1D(t_max,x_max,h0,x1,t2,K1,K2,m1,m2,Ss):\n",
    "    t1 = np.arange(1, t_max,3600)\n",
    "    x2 = np.arange(1, x_max,1)\n",
    "    h1=h0*erfc(x1/(4*D_f(K1, Ss, m1)*t1)**0.5)\n",
    "    h2=h0*erfc(x2/(4*D_f(K1, Ss, m1)*t2)**0.5)\n",
    "    h3=h0*erfc(x1/(4*D_f(K2, Ss, m2)*t1)**0.5)\n",
    "    h4=h0*erfc(x2/(4*D_f(K2, Ss, m2)*t2)**0.5)\n",
    "    fig = plt.figure(figsize=(18,12))\n",
    "    gs = fig.add_gridspec(2,2)\n",
    "    ax1 = fig.add_subplot(gs[0,0])\n",
    "    ax2 = fig.add_subplot(gs[0,1])\n",
    "    ax3 = fig.add_subplot(gs[1,0])\n",
    "    ax4 = fig.add_subplot(gs[1,1])\n",
    "    #fig, ax = plt.subplots()\n",
    "    ax1.plot(t1,h1, color='r')\n",
    "    ax1.set(xlabel='Zeit (s)', ylabel='Potentialänderung (m)',title='Druckpotential als Funktion des Ortes (oben)')\n",
    "    ax1.grid()\n",
    "    ax1.set_ylim(0,h0)\n",
    "    ax1.set_xlim(0,t_max)\n",
    "    ax1.text(t_max*0.95, h0*0.9, 'x: {} m '.format(x1), horizontalalignment='right', bbox=dict(boxstyle=\"square\", facecolor='grey'))\n",
    "    ax2.plot(x2,h2,color='r')\n",
    "    ax2.set(xlabel='Ort (x)', ylabel='Potentialänderung (m)',title='Druckpotential als Funktion der Zeit(oben)')\n",
    "    ax2.grid()\n",
    "    ax2.set_ylim(0,h0)\n",
    "    ax2.set_xlim(0,x_max)\n",
    "    ax2.text(x_max*0.95, h0*0.9, 't: {} d '.format(t2/86400), horizontalalignment='right', bbox=dict(boxstyle=\"square\", facecolor='grey'))\n",
    "    ax3.plot(t1,h3)\n",
    "    ax3.set(xlabel='Zeit (s)', ylabel='Potentialänderung (m)',title='Druckpotential als Funktion des Ortes(unten)')\n",
    "    ax3.grid()\n",
    "    ax3.set_ylim(0,h0)\n",
    "    ax3.set_xlim(0,t_max)\n",
    "    ax3.text(t_max*0.95, h0*0.9, 'x: {} m '.format(x1), horizontalalignment='right', bbox=dict(boxstyle=\"square\", facecolor='grey'))\n",
    "    ax4.plot(x2,h4)\n",
    "    ax4.set(xlabel='Ort (x)', ylabel='Potentialänderung (m)',title='Druckpotential als Funktion der Zeit(unten)')\n",
    "    ax4.grid()\n",
    "    ax4.set_ylim(0,h0)\n",
    "    ax4.set_xlim(0,x_max)\n",
    "    ax4.text(x_max*0.95, h0*0.9, 't: {} d '.format(t2/86400), horizontalalignment='right', bbox=dict(boxstyle=\"square\", facecolor='grey'))\n",
    "\n",
    "    plt.show()\n"
   ]
  },
  {
   "cell_type": "code",
   "execution_count": 71,
   "metadata": {},
   "outputs": [
    {
     "data": {
      "application/vnd.jupyter.widget-view+json": {
       "model_id": "7014bfcf1f914f4796e501b74c57ed9f",
       "version_major": 2,
       "version_minor": 0
      },
      "text/plain": [
       "interactive(children=(FloatSlider(value=2.0, description='h0', max=5.0), IntSlider(value=4910, description='x1…"
      ]
     },
     "metadata": {},
     "output_type": "display_data"
    }
   ],
   "source": [
    "t_max = 365*86400\n",
    "\n",
    "\n",
    "#x=1\n",
    "h0 = 150\n",
    "t_max = 60*86400\n",
    "x_max = 10000\n",
    "K_Kfix = 1e-4\n",
    "Ss_fix = 1e-5\n",
    "\n",
    "interact(Flow1D,\n",
    "         t_max=fixed(t_max),\n",
    "         x_max=fixed(x_max),\n",
    "         h0=(0,5,0.1),\n",
    "         x1=(10,x_max,100),\n",
    "         t2=(60,t_max,3600),\n",
    "         K1=widgets.FloatLogSlider(value=0.0001,base=10,min=-9, max=-2, step=0.1,readout=True,readout_format='.2e'),\n",
    "         K2=widgets.FloatLogSlider(value=0.0001,base=10,min=-9, max=-2, step=0.1,readout=True,readout_format='.2e'),\n",
    "         m1=(1,50,1),\n",
    "         m2=(1,50,1),\n",
    "         Ss=fixed(Ss_fix));\n"
   ]
  },
  {
   "cell_type": "code",
   "execution_count": null,
   "metadata": {},
   "outputs": [],
   "source": []
  }
 ],
 "metadata": {
  "kernelspec": {
   "display_name": "Python 3",
   "language": "python",
   "name": "python3"
  },
  "language_info": {
   "codemirror_mode": {
    "name": "ipython",
    "version": 3
   },
   "file_extension": ".py",
   "mimetype": "text/x-python",
   "name": "python",
   "nbconvert_exporter": "python",
   "pygments_lexer": "ipython3",
   "version": "3.8.5"
  }
 },
 "nbformat": 4,
 "nbformat_minor": 4
}
