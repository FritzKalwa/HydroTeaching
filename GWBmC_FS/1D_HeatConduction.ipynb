{
 "cells": [
  {
   "cell_type": "markdown",
   "metadata": {},
   "source": [
    "# Analytische Lösung für die 1D Grabenanströmung\n",
    "\n",
    "## Gleichungen\n",
    "\n",
    "$T(x,t)=T_0 erfc \\left(\\frac{x}{\\sqrt{4D_Ht}}\\right)$\n",
    "\n",
    "$D_H=\\frac{n_e \\lambda_w + (1-n_e) \\lambda_s}{n_e c_w \\rho_w}$\n"
   ]
  },
  {
   "cell_type": "code",
   "execution_count": 1,
   "metadata": {},
   "outputs": [],
   "source": [
    "# Initialize librarys\n",
    "from scipy.special import erfc, erf\n",
    "import matplotlib\n",
    "import matplotlib.pyplot as plt\n",
    "import numpy as np\n",
    "import math\n",
    "from ipywidgets import *"
   ]
  },
  {
   "cell_type": "code",
   "execution_count": 2,
   "metadata": {},
   "outputs": [],
   "source": [
    "# Definition der Funktion\n",
    "def temp(T_ini, T_BC, tmax, x, n_e, lambda_w, lambda_s, c_w, rho_w):\n",
    "    T0 = T_BC - T_ini\n",
    "    t = np.arange(0, tmax,tmax/1000)\n",
    "    D_H = (n_e*lambda_w+(1-n_e)*lambda_s)/(n_e*c_w*rho_w)\n",
    "    T = T_ini+T0 * erfc(x/np.sqrt(4*D_H*(t*86400)))\n",
    "    fig, ax = plt.subplots()\n",
    "    ax.plot(t,T)\n",
    "    ax.set(xlabel='time', ylabel='temperature',title='1D Conductive Wärmeausbreitung')\n",
    "    ax.grid()\n",
    "    plt.show()\n",
    "    print(\"D_H: \",D_H)\n"
   ]
  },
  {
   "cell_type": "code",
   "execution_count": 3,
   "metadata": {},
   "outputs": [
    {
     "data": {
      "application/vnd.jupyter.widget-view+json": {
       "model_id": "09cadc78455f498cb1e620ddddbb9011",
       "version_major": 2,
       "version_minor": 0
      },
      "text/plain": [
       "interactive(children=(BoundedFloatText(value=8.0, description='T_ini:', step=1.0), BoundedFloatText(value=13.0…"
      ]
     },
     "metadata": {},
     "output_type": "display_data"
    },
    {
     "data": {
      "text/plain": [
       "<function __main__.temp(T_ini, T_BC, tmax, x, n_e, lambda_w, lambda_s, c_w, rho_w)>"
      ]
     },
     "execution_count": 3,
     "metadata": {},
     "output_type": "execute_result"
    }
   ],
   "source": [
    "# Berechnung\n",
    "\n",
    "\n",
    "interact(temp,\n",
    "         T_ini=widgets.BoundedFloatText(value=8,  min=0, max=100, step=1, description='T_ini:', disabled=False),\n",
    "         T_BC =widgets.BoundedFloatText(value=13, min=0, max=100, step=1, description='T_BC:',  disabled=False),\n",
    "         tmax     = 182,\n",
    "         n_e      = 0.25,\n",
    "         lambda_w = 0.598,\n",
    "         lambda_s = 0.35,\n",
    "         c_w      = 4186,\n",
    "         rho_w    = 1000,\n",
    "         x = 1)"
   ]
  },
  {
   "cell_type": "code",
   "execution_count": null,
   "metadata": {},
   "outputs": [],
   "source": []
  }
 ],
 "metadata": {
  "celltoolbar": "Slideshow",
  "kernelspec": {
   "display_name": "Python 3",
   "language": "python",
   "name": "python3"
  },
  "language_info": {
   "codemirror_mode": {
    "name": "ipython",
    "version": 3
   },
   "file_extension": ".py",
   "mimetype": "text/x-python",
   "name": "python",
   "nbconvert_exporter": "python",
   "pygments_lexer": "ipython3",
   "version": "3.7.6"
  }
 },
 "nbformat": 4,
 "nbformat_minor": 2
}
