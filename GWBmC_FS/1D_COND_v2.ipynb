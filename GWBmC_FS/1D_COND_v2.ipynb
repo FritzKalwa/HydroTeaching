{
 "cells": [
  {
   "cell_type": "markdown",
   "metadata": {},
   "source": [
    "# Analytische Lösung für die 1D Grabenanströmung\n",
    "\n",
    "## Gleichungen\n",
    "\n",
    "$T(x,t)=T_0 erfc \\left(\\frac{x}{\\sqrt{4D_Ht}}\\right)$\n",
    "\n",
    "$D_H=\\frac{n_e \\lambda_w + (1-n_e) \\lambda_s}{n_e c_w \\rho_w}$\n"
   ]
  },
  {
   "cell_type": "code",
   "execution_count": 1,
   "metadata": {},
   "outputs": [],
   "source": [
    "# Initialize librarys\n",
    "from scipy.special import erfc, erf\n",
    "import matplotlib\n",
    "import matplotlib.pyplot as plt\n",
    "import numpy as np\n",
    "import math\n",
    "from ipywidgets import *"
   ]
  },
  {
   "cell_type": "code",
   "execution_count": 4,
   "metadata": {},
   "outputs": [],
   "source": [
    "# Definition der Funktion\n",
    "def temp(T_ini, T_BC, tmax, x1, x2, n_e, lambda_w, lambda_s, c_w, rho_w):\n",
    "    T0 = T_BC - T_ini\n",
    "    t = np.arange(0, tmax,tmax/1000)\n",
    "    D_H = (n_e*lambda_w+(1-n_e)*lambda_s)/(n_e*c_w*rho_w)\n",
    "    T1 = T_ini+T0 * erfc(x1/np.sqrt(4*D_H*(t*86400)))\n",
    "    T2 = T_ini+T0 * erfc(x2/np.sqrt(4*D_H*(t*86400)))\n",
    "    fig, ax = plt.subplots()\n",
    "    ax.plot(t,T1)\n",
    "    ax.plot(t,T2)\n",
    "    ax.set(xlabel='time', ylabel='temperature',title='1D Conductive Wärmeausbreitung')\n",
    "    ax.grid()\n",
    "    plt.show()\n",
    "    print(\"D_H: \",D_H)\n"
   ]
  },
  {
   "cell_type": "code",
   "execution_count": 5,
   "metadata": {},
   "outputs": [
    {
     "data": {
      "application/vnd.jupyter.widget-view+json": {
       "model_id": "731738f892004e078b184cffd031a0af",
       "version_major": 2,
       "version_minor": 0
      },
      "text/plain": [
       "interactive(children=(BoundedFloatText(value=8.0, description='T_ini:', step=1.0), BoundedFloatText(value=13.0…"
      ]
     },
     "metadata": {},
     "output_type": "display_data"
    },
    {
     "data": {
      "text/plain": [
       "<function __main__.temp(T_ini, T_BC, tmax, x1, x2, n_e, lambda_w, lambda_s, c_w, rho_w)>"
      ]
     },
     "execution_count": 5,
     "metadata": {},
     "output_type": "execute_result"
    }
   ],
   "source": [
    "# Berechnung\n",
    "\n",
    "\n",
    "interact(temp,\n",
    "         T_ini=widgets.BoundedFloatText(value=8,  min=0, max=100, step=1, description='T_ini:', disabled=False),\n",
    "         T_BC =widgets.BoundedFloatText(value=13, min=0, max=100, step=1, description='T_BC:',  disabled=False),\n",
    "         tmax     = 182,\n",
    "         n_e      = 0.25,\n",
    "         lambda_w = 0.598,\n",
    "         lambda_s = 0.35,\n",
    "         c_w      = 4186,\n",
    "         rho_w    = 1000,\n",
    "         x1 = 1,\n",
    "         x2 = 2)"
   ]
  },
  {
   "cell_type": "code",
   "execution_count": null,
   "metadata": {},
   "outputs": [],
   "source": []
  }
 ],
 "metadata": {
  "celltoolbar": "Slideshow",
  "kernelspec": {
   "display_name": "Python 3",
   "language": "python",
   "name": "python3"
  },
  "language_info": {
   "codemirror_mode": {
    "name": "ipython",
    "version": 3
   },
   "file_extension": ".py",
   "mimetype": "text/x-python",
   "name": "python",
   "nbconvert_exporter": "python",
   "pygments_lexer": "ipython3",
   "version": "3.7.6"
  }
 },
 "nbformat": 4,
 "nbformat_minor": 2
}
