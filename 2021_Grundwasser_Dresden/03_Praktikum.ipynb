{
 "cells": [
  {
   "cell_type": "markdown",
   "metadata": {},
   "source": [
    "<img src='./img/TUD_logo.png' align='right' width='30%'></img>"
   ]
  },
  {
   "cell_type": "markdown",
   "metadata": {},
   "source": [
    "<a href=\"./02_Uebung.ipynb\"><< 02 - Übung zum Grundwasser in Dresden</a><span style=\"float:right;\"></a></span>"
   ]
  },
  {
   "cell_type": "markdown",
   "metadata": {},
   "source": [
    "# Darcy Experiment - zum Selbstaufbau\n",
    "\n",
    "Das Ziel dieses Experimentes ist es, Sie an die grundlegenden Prozesse der Wasserbewegungen im Untergrund heranzuführen. Da Ihnen die Darcy Gleichung bereits vertraut ist, bietet sich hierbei ein Experiment zur praktischen Erläuterung an. Üblicherweise wird der Darcy-Versuch unter kontrollierten Bedingungen mit Hilfe eines großen Zylinders, geregelter Wasserzufuhr und Piezometern durchgeführt. Unter besonderen Umständen jedoch, wie beispielsweise der COVID-19 Epidemie, können nicht immer zentral organisierte Laborpraktika arrangiert werden. An dieser Stelle bietet sich die Möglichkeit eines selbstgebauten Versuches für Sie zu Hause an. Das folgende Experiment soll folglich für jeden Studierenden mit möglichst wenigen, im besten Falle schon im Haushalt vorhandenen Hilfsmitteln, aufgebaut und ausgeführt werden können. Hierbei ist Ihre Kreativität gefragt, um die Ihnen zu Verfügung stehenden Materialien und Hilfsmittel so zu verwenden, dass Sie bestmögliche Ergebnisse erzielen. Alle für diese Experimente benötigten Materialen sollten in Ihrem nächstegelegenen Baumarkt zu finden sein oder bereits zu Hause vorhanden sein. \n",
    "\n",
    "\n",
    "![Bild2.jfif](img/Bild2.jfif \"Abbildung des originalen Darcy Experimentes,1856\")\n",
    "<figcaption>Abb.18 - Abbildung des originalen Darcy Experimentes,1856. https://encrypted-tbn0.gstatic.com/images?q=tbn:ANd9GcTH4zWmobIF73AmbY1QxzW5Dsc9AF8SAGnF6A&usqp=CAU</figcaption> \n",
    "\n",
    "\\begin{equation}\n",
    "q= \\frac{Q} {A} = -K \\cdot i = -K \\frac{\\Delta{h}} {\\Delta{l}}\n",
    "\\end{equation}\n"
   ]
  },
  {
   "cell_type": "markdown",
   "metadata": {},
   "source": [
    "Mit dem folgenden Slider können Sie sehen, wie sich ihr Durchfluss unter verschiedenen Bedingungen ändert. Der ausgegebene Wert entspricht dem Durchfluss Q [$m^3$/s]. Die Startwerte sind so gewählt, dass die den möglichen Einstellungen des Experimentes entsprechen. "
   ]
  },
  {
   "cell_type": "code",
   "execution_count": 4,
   "metadata": {},
   "outputs": [
    {
     "data": {
      "application/vnd.jupyter.widget-view+json": {
       "model_id": "4d26787aca1143e7845955712ed6127a",
       "version_major": 2,
       "version_minor": 0
      },
      "text/plain": [
       "interactive(children=(FloatLogSlider(value=0.0005, description='K [m/s]:', max=0.01, min=-10.0, step=0.0001), …"
      ]
     },
     "metadata": {},
     "output_type": "display_data"
    }
   ],
   "source": [
    "from ipywidgets import interact, interactive, fixed, interact_manual\n",
    "from IPython.display import display\n",
    "from IPython.display import clear_output\n",
    "import ipywidgets as widgets\n",
    "import numpy as np\n",
    "import math as m\n",
    "import matplotlib.pyplot as plt\n",
    "import forallpeople as si\n",
    "import sys\n",
    "\n",
    "def Q(K,A,h,l):\n",
    "    display(K * A * (h/l)) \n",
    "\n",
    "w = interactive(Q,K=widgets.FloatLogSlider(min=-10, max=0.01,value=0.0005, step=0.0001,description='K [m/s]:'),\n",
    "                        A=widgets.FloatLogSlider(min=-4, max=-2, value=0.0050, step=0.001,description='A [$m^2$]:'),\n",
    "                        h=widgets.FloatLogSlider(min=-2, max=-0.2, value=0.2, step=0.001,description='$\\Delta$h [m]:'),\n",
    "                        l=widgets.FloatLogSlider(min=-2, max=-0.3, value=0.1, step=0.001,description='$\\Delta$l [m]:'),\n",
    "                       )\n",
    "display(w)"
   ]
  },
  {
   "cell_type": "markdown",
   "metadata": {},
   "source": [
    "## Planung des Experimentes\n",
    "\n",
    "Anstelle des Darcy Zylinders wählen wir eine handelsübliche PET-Flasche. Idealerweise soll die Flasche die Form eines Zylinders aufweisen, der Durchmesser der Flasche sollte im gesamten Mittelteil konstant bleiben, das heißt es dürfen keine Verengungen oder Auswölbungen vorhanden sein. Sie benötigen folgende Materialien: \n",
    "* mehrere PET-Flaschen\n",
    "* ein Bandmaß oder einen Zollstock\n",
    "* ein Messer (idealerweise Cuttermesser)\n",
    "* ein Smartphone oder eine Stoppuhr\n",
    "* einen Plastikbecher\n",
    "* einen Jogurtbecher \n",
    "* ein wasserdurchlässiges Netzgewebe (es sollte engmaschig genug sein, um den Sand abzuhalten)\n",
    "* eine Küchenwaage\n",
    "* einen Permanentmarker\n",
    "* Kies\n",
    "* zwei Sande unterschiedlicher Korngröße\n",
    "* eine etwa 5-8 cm hohe Schüssel mit ebenem Boden\n",
    "\n",
    "<div>\n",
    "   <img=src=\"img/Bild1.png\" width=\"600\">\n",
    "    <figcaption>Abb.19 - benötigte Materialien und Geräte</figcaption>\n",
    "</div>\n",
    "\n",
    "Zuallererst muss der Boden der Flasche mit dem Cuttermesser abgetrennt werden. Als nächstes versehen Sie die beiden Becher und den abgetrennten Boden mit Löchern.\n",
    "Eine gute Methode um eine gleichmäßige Verteilung zu erreichen, ist das Einbrennen mit einem erhitzen Metall, beispielsweise eines Nagels. Der Plastikbecher wird als Ständer dienen, um ein Umkippen der Flasche zu vermeiden und einen geregelten Wasseraustausch zu gewärleisten. Der durchlöcherte Jogurtbecher wird nur für die gleichmäßige Verteilung des einzufüllenden Wassers benötigt und kann genauso gut gegen einen Gegenstand mit gleichwertiger Funktion ausgetauscht werden. Nachdem Sie dies getan haben, sollte es wiefolgt aussehen:  \n",
    "![Bild3.jfif](img/Bild3.jfif \"\")<figcaption>Abb.20 - Vorbereitung der Flaschen und Becher</figcaption>\n",
    "\n",
    "Setzen Sie nun den abgesägten Flaschenboden verkehrt herum in die umgedrehte Flasche ein, drücken Sie ihn bis ganz nach unten und befüllen Sie die Mulde mit Kies. Der nächste Schritt erfordert ein wenig Fingerspitzengefühl. Sie wollen ihr Netzgewebe so zurechtschneiden, dass es auf der Kiesschicht aufliegt und gleichzeitig einen Mantel für den später hinzugegebenen Sand dient. Haben sie hierbei Probleme, ist es ratsam das Netz an die innere Flaschenwand anzukleben. Setzen Sie also das Netzgewebe ein und füllen Sie die Flasche mit dem gröberen Sand auf, so dass die Höhe der Sandschicht ungefähr zwischen 5-7 cm beträgt.\n",
    "Setzen Sie dann den Experimentieraufbau wie in dieser Abbildung zu sehen, zusammen:\n",
    "<div>\n",
    "   <img=src=\"img/Bild4.png\" width=\"450\">\n",
    "    <figcaption>Abb.21 - mit Kies und Sand/Kies befüllte Flasche </figcaption>\n",
    "</div>\n",
    "\n",
    "## Gesättigte und ungesättigte Verhältnisse \n",
    "Was denken Sie? Ist der Durchfluss unter gesättigten oder unter ungesättigten Bedingungen höher? Um Ihre Vermutung zu bestätigen, führen Sie den folgenden Versuch durch. Platzieren Sie die mit Sand gefüllte Flasche zusammen mit dem Plastikbecher in der Schüssel. Zusätzlich benötigen Sie 300 ml Wasser und eine Stoppuhr. Lassen Sie die Stoppuhr laufen und füllen das Wasser nach und nach in die Flasche, immer gerade so viel, dass der Wasserspiegel einen Zentimeter über dem Sand steht. Stoppen Sie die Zeit, wenn das Wasser aufgebraucht ist und der Wasserspiegel die Höhe der Sandschicht erreicht. Notieren Sie die Dauer. \n",
    "\n",
    "Lassen sie für den zweiten Teil des Versuches eine weitere Menge an Wasser durch die Sandschicht laufen und rühren Sie dabei den Sand gut durch. Daraufhin wird das Experiment wie zuvor durchgeführt, die 300 ml Wasser werden abgemessen und unter den selben Bedingungen in die mit feuchtem Sand beladene Flasche eingefüllt. Sobald der Wasserspiegel die Zentimetermarke unterschreitet und bis auf die Sandschicht absinkt, stoppen Sie die Zeit. \n",
    "\n",
    "Inwiefern unterscheiden sich die Zeiten aus den beiden Versuchen? Hat sich Ihre Vermutung bestätigt? \n",
    "\n",
    "## Versuch nach Darcy - Ermittlung der hydraulischen Leitfähigkeit\n",
    "### Vorbereitung des Experimentes\n",
    "Es ist empfehlenswert dieses Experiment in Ihrer Badewanne, der Dusche, dem Waschbecken oder draußen im Freien durchzuführen, da es zu einem Wasserabfluss kommen wird. Zunächst stellen Sie die Schüssel auf dem Boden ab und setzen den Plastikbecher mit der umgedrehten und mit Sand befüllten Flasche in die Mitte der Schüssel. \n",
    "Für die Anwendbarkeit des Darcy Gesetzes wird eine gesättigte Sandschicht benötigt. Befüllen Sie deshalb die Flasche mit Wasser und geben Sie weiter Wasser nach, sodass ein stetiger Fluss entsteht. Dabei ist es angebracht den Sand umzurühren, auf diese Weise können im Sand eingeschlossene, für unser Experiment unerwünschte, Luftblasen entfernt werden. \n",
    "Die Schüssel sollte nach einiger Zeit bis zum Rand mit Wasser gefüllt sein.\n",
    "\n",
    "Nehmen Sie ihr Maßband und messen Sie entlang der Flasche eine Distanz von 20 cm ab, beginnend vom Wasserstand der Schüssel bis hin zum oberen Drittel der Flasche. Markieren Sie mit dem Permanentmarker die Position mit einem Strich. Nutzen Sie das Maßband um den Umfang zu messen und daraus die Querschnittsfläche der Flasche zu berechnen. Sie kennen nun den Druckhöhenunterschied, Die Länge und den Querschnitt des durchströmen Mediums. Um die Darcy Gleichung anwenden zu können und die hydraulische Leitfähigkeit zu bestimmen, muss nur noch der Durchfluss pro Zeit ermittelt werden.\n",
    "Füllen Sie zwei leere PET-Flaschen mit Wasser.\n",
    "Eine grobe Skizze des Versuchsdurchgangs sieht folgendermaßen aus: \n",
    "![Bild5.png](img/Bild5.png \"\")<figcaption>Abb.22 - skizzenhafte Versuchsdurchführung</figcaption>\n",
    "\n",
    "### Durchführung des Experimentes \n",
    "Wiegen sie nun die erste Flasche mit der Küchenwaage und notieren Sie sich das Gewicht. \n",
    "Befüllen Sie als nächstes mit der zweiten Flasche die Darcy-Flasche, sodass der Wasserstand weit über der Markierung liegt. Halten Sie die Stoppuhr bereit, denn sobald der sinkende Wasserpegel die Markierung erreicht, muss die Zeit gemessen werden. Hierbei ist es Ihnen überlassen, wie lange Sie den Versuch durchführen werden. Zu beachten ist jedoch, dass eine längere Durchlaufzeit ein genaueres Ergebnis liefern wird. Sobald sie Anfangen die Zeit zu messen, sollten Sie im gleichmäßigen Abstand Wasser aus der ersten Flasche nachfüllen, sodass der Wasserpegel immer erhalten bleibt und das Ergebnis nicht verfälscht wird.\n",
    "Nachdem Sie sich dazu entschieden haben den Versuch zu stoppen, notieren Sie sich die verlaufene Zeit und wiegen die PET-Flasche erneut. Mit der Differenz der Gewichte und der gemessenen Zeit ist es dann möglich, den Durchfluss zu errechnen. \n",
    "\n",
    "Führen Sie diesen Versuch mehrere Male durch und ermitteln sie den mittleren Durchfluss. Damit sind Ihnen alle notwendigen Werte bekannt um die hydraulische Leitfähigkeit mit Hilfe der Darcy Gleichung zu berechnen. \n",
    "\n",
    "\n",
    "Führen Sie im Anschluss exakt den selben Versuch nocheinmal durch (er wird zur gleichen Zeit abgebrochen), doch diesmal mit der anderen, feineren Sandprobe. \n",
    "Welche Veränderung des Durchflusses erwarten Sie? Wird der Unterschied minimal oder doch gravierend sein? \n",
    "Berechnen Sie auch hier die hydraulische Leitfähigkeit. \n",
    "Ordnen Sie Ihre Probe an Hand der hydraulischen Leitfähigkeit einem Sedimenttyp zu:\n",
    "<div>\n",
    "   <img=src=\"img/Bild27.png\" width=\"290\">\n",
    "    <figcaption>Abb.23 - K-Werte unterschiedlicher Sedimente. Wagner,Einführung in die Geoströmungstechnik, TU-Freiberg</figcaption>\n",
    "</div>\n",
    "\n",
    "Berechnen Sie noch einmal die hydraulische Leitfähigkeit, aber diesmal unter veränderten Startbedingungen: \n",
    "* Verdoppeln Sie die Höhe der Sandschicht bei gleichbleibender Druckhöhe \n",
    "* Halbieren Sie die die Druckhöhe bei gleichbleibender Höhe der Sandschicht\n",
    "Was fällt Ihnen bei Betrachtung der Ergebnisse auf? In welcher Korrelation stehen sie zueinander? "
   ]
  },
  {
   "cell_type": "code",
   "execution_count": 5,
   "metadata": {},
   "outputs": [
    {
     "name": "stdout",
     "output_type": "stream",
     "text": [
      "\u001b[1m 1) Frage 1: Wie verändert sich der Durchfluss Q, wenn die Höhe der Sandschicht verdoppelt wird? \u001b[0m\n"
     ]
    },
    {
     "data": {
      "application/vnd.jupyter.widget-view+json": {
       "model_id": "5676bdfd86a8413abec654a3340c9332",
       "version_major": 2,
       "version_minor": 0
      },
      "text/plain": [
       "RadioButtons(options=(('A) Q unterscheidet sich kaum', 1), ('B) Q ist halb so hoch', 2), ('C) Q ist doppelt so…"
      ]
     },
     "metadata": {},
     "output_type": "display_data"
    },
    {
     "data": {
      "application/vnd.jupyter.widget-view+json": {
       "model_id": "10b80f6ab76b4fd0bd99f49fc8972380",
       "version_major": 2,
       "version_minor": 0
      },
      "text/plain": [
       "Button(description='Antwort überprüfen', style=ButtonStyle())"
      ]
     },
     "metadata": {},
     "output_type": "display_data"
    },
    {
     "data": {
      "application/vnd.jupyter.widget-view+json": {
       "model_id": "84e9bcbe5b9f4234adc959f8d471f0d6",
       "version_major": 2,
       "version_minor": 0
      },
      "text/plain": [
       "Output()"
      ]
     },
     "metadata": {},
     "output_type": "display_data"
    }
   ],
   "source": [
    "out = widgets.Output()\n",
    "\n",
    "alternativ = widgets.RadioButtons(\n",
    "    options=[('A) Q unterscheidet sich kaum', 1), ('B) Q ist halb so hoch', 2), ('C) Q ist doppelt so hoch', 3),('D) Q sinkt exponentiell ab', 4)],\n",
    "    description='',\n",
    "    disabled=False\n",
    ")\n",
    "print('\\033[1m','1) Frage 1: Wie verändert sich der Durchfluss Q, wenn die Höhe der Sandschicht verdoppelt wird?','\\033[0m')\n",
    "check = widgets.Button(description=\"Antwort überprüfen\")\n",
    "display(alternativ)\n",
    "display(check)\n",
    "\n",
    "def sjekksvar(b):\n",
    "        a = int(alternativ.value)\n",
    "        right_answer = 2\n",
    "        if(a==right_answer): \n",
    "            color = '\\x1b[6;30;42m' + \"Richtig.\" + '\\x1b[0m' +\"\\n\" #green color\n",
    "        else:\n",
    "            color = '\\x1b[5;30;41m' + \"Leider falsch, Antwort B ist richtig. \" + '\\x1b[0m' +\"\\n\" #red color\n",
    "        svar = [\"\",\"\",\"\",\"\"] \n",
    "        with out:\n",
    "            clear_output()\n",
    "        with out:\n",
    "            print(color+\"\"+svar[a-1])\n",
    "        \n",
    "display(out)\n",
    "check.on_click(sjekksvar)"
   ]
  },
  {
   "cell_type": "code",
   "execution_count": 6,
   "metadata": {},
   "outputs": [
    {
     "name": "stdout",
     "output_type": "stream",
     "text": [
      "\u001b[1m 1) Frage 2: Wie verändert sich der Durchfluss Q, wenn $Delta h$ halbiert wird? \u001b[0m\n"
     ]
    },
    {
     "data": {
      "application/vnd.jupyter.widget-view+json": {
       "model_id": "157c35cb211741dd9ede9093bd1c7925",
       "version_major": 2,
       "version_minor": 0
      },
      "text/plain": [
       "RadioButtons(options=(('A) Q unterscheidet sich kaum', 1), ('B) Q ist halb so hoch', 2), ('C) Q ist doppelt so…"
      ]
     },
     "metadata": {},
     "output_type": "display_data"
    },
    {
     "data": {
      "application/vnd.jupyter.widget-view+json": {
       "model_id": "cb06ac40111144d0a6e26653fa0ca88e",
       "version_major": 2,
       "version_minor": 0
      },
      "text/plain": [
       "Button(description='Antwort überprüfen', style=ButtonStyle())"
      ]
     },
     "metadata": {},
     "output_type": "display_data"
    },
    {
     "data": {
      "application/vnd.jupyter.widget-view+json": {
       "model_id": "f0c69476181b48998ba66d2e5768358a",
       "version_major": 2,
       "version_minor": 0
      },
      "text/plain": [
       "Output()"
      ]
     },
     "metadata": {},
     "output_type": "display_data"
    }
   ],
   "source": [
    "out = widgets.Output()\n",
    "\n",
    "alternativ = widgets.RadioButtons(\n",
    "    options=[('A) Q unterscheidet sich kaum', 1), ('B) Q ist halb so hoch', 2), ('C) Q ist doppelt so hoch', 3),('D) Q sinkt exponentiell ab', 4)],\n",
    "    description='',\n",
    "    disabled=False\n",
    ")\n",
    "print('\\033[1m','1) Frage 2: Wie verändert sich der Durchfluss Q, wenn $Delta h$ halbiert wird?','\\033[0m')\n",
    "check = widgets.Button(description=\"Antwort überprüfen\")\n",
    "display(alternativ)\n",
    "display(check)\n",
    "\n",
    "def sjekksvar(b):\n",
    "        a = int(alternativ.value)\n",
    "        right_answer = 2\n",
    "        if(a==right_answer): \n",
    "            color = '\\x1b[6;30;42m' + \"Richtig.\" + '\\x1b[0m' +\"\\n\" #green color\n",
    "        else:\n",
    "            color = '\\x1b[5;30;41m' + \"Leider falsch, Antwort B ist richtig. \" + '\\x1b[0m' +\"\\n\" #red color\n",
    "        svar = [\"\",\"\",\"\",\"\"] \n",
    "        with out:\n",
    "            clear_output()\n",
    "        with out:\n",
    "            print(color+\"\"+svar[a-1])   \n",
    "        \n",
    "display(out)\n",
    "check.on_click(sjekksvar)"
   ]
  },
  {
   "cell_type": "code",
   "execution_count": 7,
   "metadata": {},
   "outputs": [
    {
     "name": "stdout",
     "output_type": "stream",
     "text": [
      "\u001b[1m 1) Frage 3:Nehmen Sie an, das Wasser benötigt in ihrem Versuch 10 Sekunden um durch die Sandschicht zu filtrieren. Wie lange würde es ganz grob geschätzt dauern, wenn Sie den Sand durch Ton ersetzen? \u001b[0m\n"
     ]
    },
    {
     "data": {
      "application/vnd.jupyter.widget-view+json": {
       "model_id": "e17fce41834b4d29b525c145e602b785",
       "version_major": 2,
       "version_minor": 0
      },
      "text/plain": [
       "RadioButtons(options=(('A) länger als 1 Stunde', 1), ('B) länger als 10 Stunden', 2), ('C) länger als 1 Tag', …"
      ]
     },
     "metadata": {},
     "output_type": "display_data"
    },
    {
     "data": {
      "application/vnd.jupyter.widget-view+json": {
       "model_id": "b199a247b6d24c2890ef4d2c11268f89",
       "version_major": 2,
       "version_minor": 0
      },
      "text/plain": [
       "Button(description='Antwort überprüfen', style=ButtonStyle())"
      ]
     },
     "metadata": {},
     "output_type": "display_data"
    },
    {
     "data": {
      "application/vnd.jupyter.widget-view+json": {
       "model_id": "126c11a91cf64208acf7ea23fa1a67c5",
       "version_major": 2,
       "version_minor": 0
      },
      "text/plain": [
       "Output()"
      ]
     },
     "metadata": {},
     "output_type": "display_data"
    }
   ],
   "source": [
    "out = widgets.Output()\n",
    "\n",
    "alternativ = widgets.RadioButtons(\n",
    "    options=[('A) länger als 1 Stunde', 1), ('B) länger als 10 Stunden', 2), ('C) länger als 1 Tag', 3),('D) länger als 10 Tage', 4)],\n",
    "    description='',\n",
    "    disabled=False\n",
    ")\n",
    "print('\\033[1m','1) Frage 3:Nehmen Sie an, das Wasser benötigt in ihrem Versuch 10 Sekunden um durch die Sandschicht zu filtrieren. Wie lange würde es ganz grob geschätzt dauern, wenn Sie den Sand durch Ton ersetzen?','\\033[0m')\n",
    "check = widgets.Button(description=\"Antwort überprüfen\")\n",
    "display(alternativ)\n",
    "display(check)\n",
    "\n",
    "def sjekksvar(b):\n",
    "        a = int(alternativ.value)\n",
    "        right_answer = 4\n",
    "        if(a==right_answer): \n",
    "            color = '\\x1b[6;30;42m' + \"Richtig.\" + '\\x1b[0m' +\"\\n\" #green color\n",
    "        else:\n",
    "            color = '\\x1b[5;30;41m' + \"Leider falsch, Antwort D ist richtig. \" + '\\x1b[0m' +\"\\n\" #red color\n",
    "        svar = [\"\",\"\",\"\",\"\"] \n",
    "        with out:\n",
    "            clear_output()\n",
    "        with out:\n",
    "            print(color+\"\"+svar[a-1])   \n",
    "        \n",
    "display(out)\n",
    "check.on_click(sjekksvar)"
   ]
  },
  {
   "cell_type": "markdown",
   "metadata": {},
   "source": [
    "<hr>\n",
    "&copy; 2021 | Bruno Scheffel / Thomas Reimann\n",
    "<a rel=\"license\" href=\"http://creativecommons.org/licenses/by/4.0/\"><img style=\"float: right\" alt=\"Creative Commons Lizenzvertrag\" style=\"border-width:0\" src=\"https://i.creativecommons.org/l/by/4.0/88x31.png\" /></a>"
   ]
  },
  {
   "cell_type": "code",
   "execution_count": null,
   "metadata": {},
   "outputs": [],
   "source": []
  }
 ],
 "metadata": {
  "kernelspec": {
   "display_name": "Python 3",
   "language": "python",
   "name": "python3"
  },
  "language_info": {
   "codemirror_mode": {
    "name": "ipython",
    "version": 3
   },
   "file_extension": ".py",
   "mimetype": "text/x-python",
   "name": "python",
   "nbconvert_exporter": "python",
   "pygments_lexer": "ipython3",
   "version": "3.8.5"
  }
 },
 "nbformat": 4,
 "nbformat_minor": 4
}
