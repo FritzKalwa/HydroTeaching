{
 "cells": [
  {
   "cell_type": "markdown",
   "metadata": {},
   "source": [
    "# Erste Schritte mit Jupyter Notebooks\n",
    "\n",
    "Dieser Leitfaden soll die Handhabung und die Vorteile von Jupyter-Notebooks als Hilfsmittel zum Lernen, Verstehen und Entdecken theoretischer und angewandter Zusammenhänge aufzeigen. Wenn Sie dieses Notebook durcharbeiten, werden Sie folgende Fragen beantworten können bzw. Zusammenhänge verstehen:\n",
    "- Was ist ein Jupyter-Notizbuch?\n",
    "- Wie werden Jupyter-Notebooks verwendet?\n",
    "- Was sind die Vorteile von Jupyter-Notebooks im Vergleich zu anderen Hilfsmitteln wie Tabellenkalkulationen (z. B. Microsoft EXCEL)?\n",
    "<br>\n",
    "\n",
    "**Wichtig zu Beginn: Das Notebook ist aus Zellen / Boxen aufgebaut, welche hintereinander ausgeführt werden. Dazu den Button \">| Run\" in der oberen Menüzeile verwenden - alternativ funktioniert auch die Tastenkombination *Shift+Enter*.**"
   ]
  },
  {
   "cell_type": "markdown",
   "metadata": {},
   "source": [
    "## Was ist ein Jupyter-Notebook\n",
    "\n",
    "Ein Jupyter-Notebook ist mehr oder weniger ein interaktives Dokument, das\n",
    "- Text, Zahlen und andere Inhalte  (ähnlich wie eine Webseite)\n",
    "- mit ausführbarem Programmcode kombiniert.\n",
    "\n",
    "Dieser ausführbare Programmiercode kann Dinge wie Berechnungen, das Durchführen einiger Operationen, das Erzeugen von Plots und Grafiken usw. enthalten. Der Programmiercode wird von einer Programmiersprache höherer Ordnung wie ___Python___ oder ___R___ verarbeitet (Jupyter steht für _Julia_, _Python_ und _R_ - alles gängige Programmiersprachen).\n",
    "\n",
    "Der Code wird von einem Interpreter verarbeitet, der die Handlungsanweisungen ausführt. Auf diesen Interpreter wird über einen Webbrowser zugegriffen. Dieser Interpreter kann sich auf dem lokalen Computer oder irgendwo im Internet befinden. Folglich lassen sich Jupyter Notebooks über einen Webbrowser verwenden und sind mehr oder weniger plattformunabhängig (mit anderen Worten: Sie brauchen nichts auf Ihrem Computer zu installieren, und Sie können die Notebooks auch z. B. über Ihr Smartphone verwenden - obwohl dies vielleicht durch die Bildschirmgröße etwas eingeschränkt ist)."
   ]
  },
  {
   "cell_type": "markdown",
   "metadata": {},
   "source": [
    "## Wie man Jupyter-Notebooks verwendet\n",
    "\n",
    "Das Notizbuch ist in Zellen organisiert, die \n",
    "- Markdown-Sprache (wie diese Zelle) zur Erklärung oder\n",
    "- Code zur Durchführung von Berechnungen\n",
    "enthalten können. Als Benutzer können Sie die einzelnen Zellen ausführen und anschließend die sich daraus ergebende Aktion innerhalb des Notebooks sehen.\n",
    "\n",
    "Beginnen wir mit einem einfachen Beispiel. Die folgende Zelle enthält einigen grundlegenden _Python_-Code. Sie können die Zelle ausführen, indem Sie\n",
    "- durch Klicken auf die Schaltfläche __>| RUN__ oben auf dem Notebook (im Abschnitt der Kontrollleiste) oder\n",
    "- indem Sie einfach die Tasten __SHIFT__ und __ENTER__ Ihrer Computertastatur drücken."
   ]
  },
  {
   "cell_type": "code",
   "execution_count": 2,
   "metadata": {},
   "outputs": [
    {
     "name": "stdout",
     "output_type": "stream",
     "text": [
      "Hello\n"
     ]
    }
   ],
   "source": [
    "# Diese Zelle enthält grundlegenden Python-Code.\n",
    "# Der Hash-Tag # in Python wird verwendet, um Kommentare zu markieren\n",
    "# Es wird als \"Code\" definiert und kommt mit den Symbolen ln [ ]: vor der Zelle.\n",
    "# Wenn Sie die Zelle ausführen, wird der Code interpretiert und ein Sternchen * erscheint\n",
    "# in den vorangehenden Klammern -> ln [*].\n",
    "# Wenn die Zelle vollständig abgearbeitet ist, wird das Sternchen durch eine Zahl ersetzt -> ln[1].\n",
    "# Diese Zahlen geben die sequentielle Reihenfolge der Zellverarbeitung an.\n",
    "\n",
    "# Nun ein einfacher Code\n",
    "# Beobachten Sie was passiert, wenn Sie die Zelle ausführen (>| Run in der Kontrollleiste oben oder SHIFT-ENTER)\n",
    "A = \"Hello\"\n",
    "print (A)\n",
    "\n"
   ]
  },
  {
   "cell_type": "code",
   "execution_count": 3,
   "metadata": {},
   "outputs": [
    {
     "name": "stdout",
     "output_type": "stream",
     "text": [
      "Hello World\n"
     ]
    }
   ],
   "source": [
    "# Mehr Computercode\n",
    "B = \"World\"\n",
    "\n",
    "print (A, B)"
   ]
  },
  {
   "cell_type": "code",
   "execution_count": 4,
   "metadata": {},
   "outputs": [
    {
     "ename": "NameError",
     "evalue": "name 'prind' is not defined",
     "output_type": "error",
     "traceback": [
      "\u001b[1;31m---------------------------------------------------------------------------\u001b[0m",
      "\u001b[1;31mNameError\u001b[0m                                 Traceback (most recent call last)",
      "\u001b[1;32m<ipython-input-4-13643817a81b>\u001b[0m in \u001b[0;36m<module>\u001b[1;34m\u001b[0m\n\u001b[0;32m      3\u001b[0m \u001b[0mC\u001b[0m \u001b[1;33m=\u001b[0m \u001b[1;34m\"again\"\u001b[0m\u001b[1;33m\u001b[0m\u001b[1;33m\u001b[0m\u001b[0m\n\u001b[0;32m      4\u001b[0m \u001b[1;33m\u001b[0m\u001b[0m\n\u001b[1;32m----> 5\u001b[1;33m \u001b[0mprind\u001b[0m \u001b[1;33m(\u001b[0m\u001b[0mA\u001b[0m\u001b[1;33m,\u001b[0m \u001b[0mC\u001b[0m\u001b[1;33m)\u001b[0m\u001b[1;33m\u001b[0m\u001b[1;33m\u001b[0m\u001b[0m\n\u001b[0m",
      "\u001b[1;31mNameError\u001b[0m: name 'prind' is not defined"
     ]
    }
   ],
   "source": [
    "# Wenn der Code in einer Zelle Fehler enthält, werden Sie vom Interpreter darauf hingewiesen.\n",
    "# Führen Sie Folgendes durch und versuchen Sie zu korrigieren\n",
    "C = \"again\"\n",
    "\n",
    "prind (A, C)"
   ]
  },
  {
   "cell_type": "markdown",
   "metadata": {},
   "source": [
    "Diese Beispiele demonstrieren die grundlegende Funktionalität von Jupyter-Notebooks. Es sollte klar sein, dass zwar ein gewisser Computercode verarbeitet wird, es aber nicht notwendig ist, die Programmiersprache vollständig zu verstehen.\n",
    "\n",
    "Das nächste Beispiel demonstriert einige erweiterte Funktionen von Jupyter-Notebooks. Wir werden eine mathematische Funktion (y = 3+x^2) definieren und diese Funktion darstellen. Also, bitte:\n",
    "- führen Sie die Zellen aus,\n",
    "- versuchen zu verstehen, wie die Funktion definiert ist,\n",
    "- versuchen Sie, die Funktion zu modifizieren und sehen Sie, was passiert - FERTIG."
   ]
  },
  {
   "cell_type": "code",
   "execution_count": 5,
   "metadata": {},
   "outputs": [
    {
     "data": {
      "text/plain": [
       "[<matplotlib.lines.Line2D at 0x2bd42245b48>]"
      ]
     },
     "execution_count": 5,
     "metadata": {},
     "output_type": "execute_result"
    },
    {
     "data": {
      "image/png": "[encoded data removed]",
      "text/plain": [
       "<Figure size 432x288 with 1 Axes>"
      ]
     },
     "metadata": {
      "needs_background": "light"
     },
     "output_type": "display_data"
    }
   ],
   "source": [
    "# Die folgenden Funktionen werden importiert, um numerische Berechnungen durchzuführen und Plots zu generieren\n",
    "import numpy as np\n",
    "import matplotlib.pyplot as plt\n",
    "\n",
    "%matplotlib inline\n",
    "\n",
    "# Hier definieren wir die Funktion - an dieser Stelle können Sie einige Modifikationen vornehmen (z.B. den Exponenten ändern)\n",
    "# Sie müssen nur wissen, dass \"**\" in Python für den Exponenten steht (1^2 = 1**2)\n",
    "\n",
    "def superfunction(x):\n",
    "    return 3 + x**2\n",
    "\n",
    "# Nachfolgende Linien für die Darstellung der Funktion von x = -10 bis 10; auch dies können Sie ändern.\n",
    "\n",
    "X = np.linspace(-10, 10)\n",
    "Y = superfunction(X)\n",
    "plt.plot(X, Y)"
   ]
  },
  {
   "cell_type": "markdown",
   "metadata": {},
   "source": [
    "## Was sind die Vorteile von Jupyter-Notebooks\n",
    "\n",
    "Die Verwendung von Jupyter-Notebooks bringt mehrere Vorteile mit sich, die nachfolgend aufgeführt werden. __Jupyter-Notebooks__:\n",
    "- sind plattformunabhängig. Es ist nicht notwendig, etwas auf einem lokalen Rechner zu installieren, vielmehr kann auf Jupyter-Notebooks von jedem Rechner aus zugegriffen werden, der mit einem Web-Browser ausgestattet ist;\n",
    "- sind frei zugängliche Open-Source-Werkzeuge. Dementsprechend können diese Tools kostenfrei genutzt werden;\n",
    "- erlauben die Kombination von Berechnungen, grafischer Visualisierung usw. in einem einzigen interaktiven Dokument;\n",
    "- ermöglichen es den Benutzern, auf die Formeln und Berechnungen zuzugreifen und sie damit zu verstehen. Dementsprechend können die Benutzer diese modifizieren und auf dieser Grundlage ihre eigene Untersuchung starten;\n",
    "- kombinieren Code und Erklärungen und sind daher viel verständlicher als z. B. eine einzelne Tabellenkalkulation;\n",
    "- können den Benutzern Computercodierung und Programmiersprache nahe bringen (obwohl sie dies nicht vollständig verstehen müssen, um die Notebooks benutzen zu können)."
   ]
  },
  {
   "cell_type": "code",
   "execution_count": null,
   "metadata": {},
   "outputs": [],
   "source": []
  }
 ],
 "metadata": {
  "kernelspec": {
   "display_name": "Python 3",
   "language": "python",
   "name": "python3"
  },
  "language_info": {
   "codemirror_mode": {
    "name": "ipython",
    "version": 3
   },
   "file_extension": ".py",
   "mimetype": "text/x-python",
   "name": "python",
   "nbconvert_exporter": "python",
   "pygments_lexer": "ipython3",
   "version": "3.7.6"
  },
  "toc": {
   "base_numbering": 1,
   "nav_menu": {},
   "number_sections": true,
   "sideBar": true,
   "skip_h1_title": false,
   "title_cell": "Table of Contents",
   "title_sidebar": "Contents",
   "toc_cell": false,
   "toc_position": {},
   "toc_section_display": true,
   "toc_window_display": false
  },
  "varInspector": {
   "cols": {
    "lenName": 16,
    "lenType": 16,
    "lenVar": 40
   },
   "kernels_config": {
    "python": {
     "delete_cmd_postfix": "",
     "delete_cmd_prefix": "del ",
     "library": "var_list.py",
     "varRefreshCmd": "print(var_dic_list())"
    },
    "r": {
     "delete_cmd_postfix": ") ",
     "delete_cmd_prefix": "rm(",
     "library": "var_list.r",
     "varRefreshCmd": "cat(var_dic_list()) "
    }
   },
   "types_to_exclude": [
    "module",
    "function",
    "builtin_function_or_method",
    "instance",
    "_Feature"
   ],
   "window_display": false
  }
 },
 "nbformat": 4,
 "nbformat_minor": 2
}
