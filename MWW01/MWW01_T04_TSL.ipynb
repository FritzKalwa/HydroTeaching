{
 "cells": [
  {
   "cell_type": "markdown",
   "metadata": {},
   "source": [
    "## Developed by: Thomas.Reimann@tu-dresden.de\n",
    "<br>Last change: 2020 12 14 \n",
    "<br>Current state: finalizing\n",
    "<br>ToDo:\n",
    "\n",
    "- Aufgabenstellung / Benutzerführung\n",
    "- Finalisieren"
   ]
  },
  {
   "cell_type": "markdown",
   "metadata": {},
   "source": [
    "<center>\n",
    "    \n",
    "### MWW01 - Grundwasserbewirtschaftung mit Computermodellen\n",
    "\n",
    "### Thema 04: Numerische Lösung des Stofftransports\n",
    "\n",
    "# Ausweisung von Schutzzonen / Abschätzung des Einzugsgbietes eines Brunnens mit der Trennstromlinie  </center>\n",
    "Dieses Notebook ... [wird noch komplettiert - die Funktionalität ist bereits gegeben]\n",
    "\n",
    "### Lernziele:\n",
    "Nachdem Sie dieses Notebook erfolgreich bearbeitet haben, können Sie:\n",
    "* ...\n",
    "* ...\n",
    "\n",
    "### Ausgangssituation\n",
    "Betrachtet wird \n",
    "\n",
    "Trennstromlinie nach Grubb (1993):\n",
    "\n",
    "<br>\n",
    "<center>\n",
    "$\\large x_0 = -\\frac{Q}{2\\pi Kib}$</center>\n",
    "\n",
    "<br>\n",
    "<center>\n",
    "$\\large B = 2y_{max} = \\frac{Q}{Kib}$</center>\n",
    "\n",
    "<br>\n",
    "<center>\n",
    "$\\large y_{max} = \\pm \\frac{Q}{2KiB}$</center>"
   ]
  },
  {
   "cell_type": "code",
   "execution_count": 1,
   "metadata": {},
   "outputs": [],
   "source": [
    "# Initialize librarys\n",
    "import matplotlib\n",
    "import matplotlib.pyplot as plt\n",
    "import numpy as np\n",
    "import math\n",
    "from ipywidgets import *\n",
    "from math import pi, tan"
   ]
  },
  {
   "cell_type": "code",
   "execution_count": 2,
   "metadata": {},
   "outputs": [],
   "source": [
    "# Function for catchment width (maximale Breite des Einzugsgebietes)\n",
    "def ymax_conf(Q, K, i, b):\n",
    "    ymax = Q/(2.*K*i*b)\n",
    "    return ymax\n",
    "\n",
    "# Function for the culmination point (Kulminationspunkt)\n",
    "def x0_conf(Q, K, i, b):\n",
    "    x0 = -Q/(2.*np.pi*K*i*b)\n",
    "    return x0\n",
    "\n",
    "# Computaton of the well catchment (Berechnung der Trennstromlinie)\n",
    "def TSL_conf(x_max, K, i, b, x_scale, y_scale, x_Punkt, y_Punkt):\n",
    "    ymax = ymax_conf(Q, K, i, b)\n",
    "    x0   = x0_conf(Q, K, i, b)\n",
    "    x = np.arange(int(x0)-1, x_max,1)\n",
    "    y = np.arange(-ymax, ymax, 0.1)\n",
    "    \n",
    "    # Compute catchment\n",
    "    x = -1*y/(np.tan(2*np.pi*K*i*b*y/Q))\n",
    "    \n",
    "    x_plot = 500 * x_scale\n",
    "    y_plot = 1000 * y_scale\n",
    "    \n",
    "    # Plot\n",
    "    fig, ax = plt.subplots()\n",
    "    ax.plot(x,y, label='Trennstromlinie')\n",
    "    plt.plot(x_Punkt,y_Punkt, marker='o', color='r',linestyle ='None', label='Schadstoffquelle') \n",
    "    ax.set(xlabel='x', ylabel='y',title='Brunnen-EZG')\n",
    "    ax.set(xlim=(-x_plot, 10*x_plot), ylim=(-y_plot, y_plot))\n",
    "    plt.fill_between(x,y,color='blue', alpha=.1)\n",
    "    ax.grid()\n",
    "    plt.legend()\n",
    "    plt.show()\n",
    "    \n",
    "    print('y_max', ymax)\n",
    "    print('x0', x0)"
   ]
  },
  {
   "cell_type": "code",
   "execution_count": 5,
   "metadata": {},
   "outputs": [
    {
     "data": {
      "application/vnd.jupyter.widget-view+json": {
       "model_id": "b7dd0e804ac1451581475ccb6d6fca9a",
       "version_major": 2,
       "version_minor": 0
      },
      "text/plain": [
       "interactive(children=(FloatLogSlider(value=0.0001, description='K', max=-2.0, min=-6.0, readout_format='.2e'),…"
      ]
     },
     "metadata": {},
     "output_type": "display_data"
    },
    {
     "data": {
      "text/plain": [
       "<function __main__.TSL_conf(x_max, K, i, b, x_scale, y_scale, x_Punkt, y_Punkt)>"
      ]
     },
     "execution_count": 5,
     "metadata": {},
     "output_type": "execute_result"
    }
   ],
   "source": [
    "x_max = 1000\n",
    "Q = 0.00324074\n",
    "K = 0.00028\n",
    "i = 0.0012\n",
    "b = 14\n",
    "\n",
    "interact(TSL_conf,\n",
    "         x_max=fixed(x_max),\n",
    "         K=widgets.FloatLogSlider(value=0.0001,base=10,min=-6, max=-2, step=0.1,readout=True,readout_format='.2e'),\n",
    "         i=widgets.FloatText(value=0.001,base=10,min=-4, max=-0, step=0.1,readout=True,readout_format='e'),\n",
    "         b= widgets.FloatText(value=30,min = 1,max = 200, step = 1),\n",
    "         x_scale = widgets.FloatText(value=1,min = 0.1,max = 10, step = 0.1),\n",
    "         y_scale = widgets.FloatText(value=1,min = 0.1,max = 10, step = 0.1),\n",
    "         x_Punkt= widgets.FloatText(value=0, step=10),\n",
    "         y_Punkt=widgets.FloatText(value=0,step=10))"
   ]
  },
  {
   "cell_type": "markdown",
   "metadata": {},
   "source": [
    "### Aufgabe\n",
    "\n",
    "Bestimmen Sie die Einzugsgebietsform eines Entnahmebrunnens. Benutzen Sie die nachfolgende Funktionalität.\n",
    "*\tgespannter Aquifer\n",
    "*\tHydraulische Leitfähigkeit\tK = 457,5 m/d\n",
    "*\tHydraulischer Gradient\t\tI = 0,003 [-]\n",
    "*\tMächtigkeit\t\t\tb = 23 m\n",
    "*\tEntnahmerate\t\t\tQ = 4320 m3/d\n",
    "Ermitteln Sie:\n",
    "a)\tMaximale Breite des Einzugsgebiets\n",
    "b)\tAbstand zum Kulminationspunkt\n",
    "c)\tForm der Kurve, die das Einzugsgebiet beschreibt, d. h. die Trennstromlinie\n"
   ]
  },
  {
   "cell_type": "code",
   "execution_count": null,
   "metadata": {},
   "outputs": [],
   "source": []
  }
 ],
 "metadata": {
  "kernelspec": {
   "display_name": "Python 3",
   "language": "python",
   "name": "python3"
  },
  "language_info": {
   "codemirror_mode": {
    "name": "ipython",
    "version": 3
   },
   "file_extension": ".py",
   "mimetype": "text/x-python",
   "name": "python",
   "nbconvert_exporter": "python",
   "pygments_lexer": "ipython3",
   "version": "3.7.6"
  }
 },
 "nbformat": 4,
 "nbformat_minor": 4
}
