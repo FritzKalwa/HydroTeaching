{
 "cells": [
  {
   "cell_type": "markdown",
   "metadata": {},
   "source": [
    "<br>Developed by: Thomas.Reimann@tu-dresden.de\n",
    "<br>Last change: 2021 02 13\n",
    "<br>Current state: Funktional / ggf. noch optimieren"
   ]
  },
  {
   "cell_type": "markdown",
   "metadata": {},
   "source": [
    "<center>\n",
    "    \n",
    "### MWW01 - Grundwasserbewirtschaftung mit Computermodellen\n",
    "\n",
    "### Thema 04: Numerische Lösung des Stofftransports\n",
    "\n",
    "# Ausweisung von Schutzzonen / Abschätzung des Einzugsgbietes eines Brunnens mit der Trennstromlinie  </center>\n",
    "\n",
    "### Lernziele:\n",
    "Nachdem Sie dieses Notebook erfolgreich bearbeitet haben, können Sie:\n",
    "* die Trennstromlinie mit Hilfe einer analytischen Gleichung berechnen,\n",
    "* erläutern, wie sich die Parameter (bzw. die Unsicherheit, mit der die Parameter bestimmt werden) auf die Trennstromlinie auswirken,\n",
    "* die Wasserentnahme im Falle einer Havarie / Kontamination so optimieren, dass die Qualität des gefassten Rohwassers möglichst nicht beeinträchtigt wird.\n",
    "\n",
    "### Ausgangssituation\n",
    "Betrachtet wird eine Wasserfassung, welche sich in einem gespannten, homogenen und isotropen Grundwasserleiter befindet. Bei Wasserentnahme bildet sich die Trennstromlinie der Wasserfassung. Die Trennstromlinie wird durch zwei charakteristische Größen gekennzeichnet (Abbildung 1):\n",
    "* der Kulminationspunkt x_0 sowie\n",
    "* die Breite B der Trennstromlinie.\n",
    "\n",
    "<br>\n",
    "<center>\n",
    "$\\large x_0 = -\\frac{Q}{2\\pi Kib}$</center>\n",
    "\n",
    "<br>\n",
    "<center>\n",
    "$\\large B = 2y_{max} = \\frac{Q}{Kib}$</center>\n",
    "\n",
    "<br>\n",
    "<center>\n",
    "$\\large y_{max} = \\pm \\frac{Q}{2KiB}$</center>\n",
    "\n",
    "<br>\n",
    "<figure>\n",
    "  <img src=\"FIG/MWW01_T04_TSL_1.jpg\" alt=\"Trennstromlinie mit charakteristischen Größen\" style=\"width:50%\">\n",
    "  <figcaption>Abb.1 - Trennstromlinie einer Wasserfassung mit charakteristischen Größen.</figcaption>\n",
    "</figure>\n",
    "\n",
    "Weiterhin kann die Form der Trennstromlinie mit Hilfe der analytischen Gleichung nach <a href=\"https://ngwa.onlinelibrary.wiley.com/doi/10.1111/j.1745-6584.1993.tb00824.x\" target=\"_blank\">Grubb (1993)</a> beschrieben werden.\n",
    "\n",
    "<br>\n",
    "<center>\n",
    "$\\large x = \\frac{-y}{tan(\\frac{2\\pi K i b y}{Q})}$</center>\n",
    "\n",
    "<br>\n",
    "Nachfolgend werden die nötigen Python-Bibliotheken / Funktionen geladen, um die Rechnungen durchzuführen und zu visualisieren."
   ]
  },
  {
   "cell_type": "code",
   "execution_count": null,
   "metadata": {},
   "outputs": [],
   "source": [
    "# Initialize librarys\n",
    "import matplotlib\n",
    "import matplotlib.pyplot as plt\n",
    "import numpy as np\n",
    "import math\n",
    "from ipywidgets import *\n",
    "from math import pi, tan"
   ]
  },
  {
   "cell_type": "code",
   "execution_count": 34,
   "metadata": {},
   "outputs": [],
   "source": [
    "# Function for catchment width (maximale Breite des Einzugsgebietes)\n",
    "def ymax_conf(Q, K, i, b):\n",
    "    ymax = Q/(2.*K*i*b)\n",
    "    return ymax\n",
    "\n",
    "# Function for the culmination point (Kulminationspunkt)\n",
    "def x0_conf(Q, K, i, b):\n",
    "    x0 = -Q/(2.*np.pi*K*i*b)\n",
    "    return x0\n",
    "\n",
    "# Computaton of the well catchment (Berechnung der Trennstromlinie)\n",
    "def TSL_conf(x_max, Q, K, i, b, x_scale, y_scale, x_Punkt, y_Punkt):\n",
    "    ymax = ymax_conf(Q, K, i, b)\n",
    "    x0   = x0_conf(Q, K, i, b)\n",
    "    x = np.arange(int(x0)-1, x_max,1)\n",
    "    y = np.arange(-ymax, ymax, 0.1)\n",
    "    \n",
    "    # Compute catchment\n",
    "    x = -1*y/(np.tan(2*np.pi*K*i*b*y/Q))\n",
    "    \n",
    "    x_plot = 500 * x_scale\n",
    "    y_plot = 1000 * y_scale\n",
    "    \n",
    "    # Plot\n",
    "    fig = plt.figure(figsize=(12,8))\n",
    "    ax = fig.add_subplot(1, 1, 1)\n",
    "\n",
    "    ax.plot(x,y, label='Trennstromlinie')\n",
    "    plt.plot(x_Punkt,y_Punkt, marker='o', color='r',linestyle ='None', label='Schadstoffquelle') \n",
    "    ax.set(xlabel='x', ylabel='y',title='Brunnen-EZG')\n",
    "    ax.set(xlim=(-x_plot, 10*x_plot), ylim=(-y_plot, y_plot))\n",
    "    plt.fill_between(x,y,color='blue', alpha=.1)\n",
    "    ax.grid()\n",
    "    plt.legend()\n",
    "    plt.show()\n",
    "    \n",
    "    print('y_max', ymax)\n",
    "    print('x0', x0)"
   ]
  },
  {
   "cell_type": "markdown",
   "metadata": {},
   "source": [
    "### Aufgabe 1\n",
    "\n",
    "Bestimmen Sie die Einzugsgebietsform eines Entnahmebrunnens. Benutzen Sie die nachfolgende Funktionalität.\n",
    "*\tgespannter Aquifer\n",
    "*\tHydraulische Leitfähigkeit\tK = 457,5 m/d\n",
    "*\tHydraulischer Gradient\t\tI = 0,003 [-]\n",
    "*\tMächtigkeit\t\t\t        b = 23 m\n",
    "*\tEntnahmerate\t\t\t    Q = 4320 m3/d\n",
    "\n",
    "Ermitteln Sie:  \n",
    "**a)**\tMaximale Breite *B* des Einzugsgebiets  \n",
    "**b)**\tAbstand *x_0* zum Kulminationspunkt  \n",
    "**c)**\tForm der Kurve, die das Einzugsgebiet beschreibt, d. h. die Trennstromlinie\n",
    "\n",
    "Die nachfolgende Box realisiert die Berechung und visualisiert das Ergebnis. Der Wertebereich des Diagramms kann mit x_scale und y_scale angepasst werden."
   ]
  },
  {
   "cell_type": "code",
   "execution_count": 35,
   "metadata": {},
   "outputs": [
    {
     "data": {
      "application/vnd.jupyter.widget-view+json": {
       "model_id": "8fb74f2f565c4850a28fd24b9319334d",
       "version_major": 2,
       "version_minor": 0
      },
      "text/plain": [
       "interactive(children=(FloatText(value=0.05, description='Q', step=0.01), FloatLogSlider(value=0.00529513888888…"
      ]
     },
     "metadata": {},
     "output_type": "display_data"
    },
    {
     "data": {
      "text/plain": [
       "<function __main__.TSL_conf(x_max, Q, K, i, b, x_scale, y_scale, x_Punkt, y_Punkt)>"
      ]
     },
     "execution_count": 35,
     "metadata": {},
     "output_type": "execute_result"
    }
   ],
   "source": [
    "x_max = 1000      # Interne Variable um den Zahlenbereich zu definieren\n",
    "Q = 4320 / 86400  # Entnahmerate, umgerechnet in m und sek\n",
    "K = 457.5 / 86400 # hydraulische Leitfähigkeit in m und sek         \n",
    "i = 0.003         # Gradient der (Grund)Strömung\n",
    "b = 23            # Mächtigkeit des homogenen und isotropen Grundwasserleiters\n",
    "\n",
    "interact(TSL_conf,\n",
    "         x_max=fixed(x_max),\n",
    "         Q=widgets.FloatText        (value=Q, min = 0.001, max = 1, step = 0.01),\n",
    "         K=widgets.FloatLogSlider   (value=K,base=10,min=-6, max=-2, step=0.1,readout=True,readout_format='.2e'),\n",
    "         i=widgets.FloatText        (value=i,min = 0.0001, max=0.1, step=0.001,readout=True,readout_format='e'),\n",
    "         b=widgets.FloatText        (value=b,min = 1,max = 200, step = 1),\n",
    "         x_scale = widgets.FloatText(value=0.1,min = 0.1,max = 10, step = 0.1),\n",
    "         y_scale = widgets.FloatText(value=0.1,min = 0.1,max = 10, step = 0.1),\n",
    "         x_Punkt= widgets.FloatText (value=0, step=10),\n",
    "         y_Punkt=widgets.FloatText  (value=0,step=10))"
   ]
  },
  {
   "cell_type": "markdown",
   "metadata": {},
   "source": [
    "### Aufgabe 2\n",
    "Sie können nun die einzelnen Parametern der Trennstromlinie variieren um zu untersuchen, wie sich diese Änderungen auf die Form der Trennstromlinie (auch Breite der TSL und Abstand Fassung zum Kulminationspunkt).  \n",
    "Passen Sie ggf. die Skalierung der x- und y-Achse des Diagramms an (x_scale / y_scale).  \n",
    "Beantworten Sie u. a. die Fragen, welche Auswirkungen\n",
    "* ein kleinerer Gradient,\n",
    "* ein größerer Gradient etc. \n",
    "auf die Form der Trennstromlinie haben. Damit können Sie auch einschätzen, welche Auswirkungen Unsicherheiten bei den Eingangsparametern auf die Form und Lage der Trennstromlinie haben.\n"
   ]
  },
  {
   "cell_type": "markdown",
   "metadata": {},
   "source": [
    "### Aufgabe 3 a\n",
    "\n",
    "Ein Wasserversorger entnimmt aus einem gespannten Aquifer Grundwasser. Folgende Angaben stehen\n",
    "Ihnen zur Verfügung:\n",
    "* Entnahmerate (Q) = 2800 m3d-1\n",
    "* hydraulische Leitfähigkeit K = 2,8 × 10-4 ms-1\n",
    "* wassererfüllte Mächtigkeit b = 14 m\n",
    "* natürlicher Gradient des Grundwassers (i) = 0,0012\n",
    "\n",
    "Berechnen Sie mit Hilfe der nächsten Box die Trennstromlinie (Hinweis: Rechnen Sie die Parameter um und geben Sie diese in den nachfolgenden Felder ein. Sie können den jeweils initialen Wert per Maus / Tastatur verändern. Modifizieren Sie am Ende die Skalierung des Diagramms so, dass Sie die TSL komplett visualisieren können.)"
   ]
  },
  {
   "cell_type": "code",
   "execution_count": 36,
   "metadata": {},
   "outputs": [
    {
     "data": {
      "application/vnd.jupyter.widget-view+json": {
       "model_id": "2df3d15684c4453aa5d7e7a4c1274525",
       "version_major": 2,
       "version_minor": 0
      },
      "text/plain": [
       "interactive(children=(FloatText(value=0.05, description='Q', step=0.01), FloatLogSlider(value=0.001, descripti…"
      ]
     },
     "metadata": {},
     "output_type": "display_data"
    },
    {
     "data": {
      "text/plain": [
       "<function __main__.TSL_conf(x_max, Q, K, i, b, x_scale, y_scale, x_Punkt, y_Punkt)>"
      ]
     },
     "execution_count": 36,
     "metadata": {},
     "output_type": "execute_result"
    }
   ],
   "source": [
    "interact(TSL_conf,\n",
    "         x_max=fixed(x_max),\n",
    "         Q=widgets.FloatText        (value=0.05, min = 0.001, max = 1, step = 0.01),\n",
    "         K=widgets.FloatLogSlider(value=1E-3,base=10,min=-6, max=-2, step=0.1,readout=True,readout_format='.2e'),\n",
    "         i=widgets.FloatText(value=0.001,base=10,min=-4, max=-0, step=0.001,readout=True,readout_format='e'),\n",
    "         b= widgets.FloatText(value=30,min = 1,max = 200, step = 1),\n",
    "         x_scale = widgets.FloatText(value=1,min = 0.1,max = 10, step = 0.1),\n",
    "         y_scale = widgets.FloatText(value=1,min = 0.1,max = 10, step = 0.1),\n",
    "         x_Punkt= widgets.FloatText(value=0, step=10),\n",
    "         y_Punkt=widgets.FloatText(value=0,step=10))"
   ]
  },
  {
   "cell_type": "markdown",
   "metadata": {},
   "source": [
    "### Aufgabe 3 b\n",
    "\n",
    "Im Einzugsgebiet der Wasserfassung kam es in einem Randbereich am Punkt x = 1255 m / y = 860 m durch eine Havarie zum Eintrag\n",
    "wassergefährdender Stoffe in den Untergrund. Schlagen Sie eine konkrete Sofortmaßnahme vor, um eine unmittelbare Gefahr für die Wasserfassung abzuwenden. Geben Sie dazu die Koordinaten des Schadens in die Visualisierung der TSL ein (x_Punkt / y_Punkt) und optimieren Sie anschliessend die TSL so, dass die unmittelbare Gefahr für die Wasserfassung abgewendet wird."
   ]
  },
  {
   "cell_type": "code",
   "execution_count": null,
   "metadata": {},
   "outputs": [],
   "source": []
  }
 ],
 "metadata": {
  "kernelspec": {
   "display_name": "Python 3",
   "language": "python",
   "name": "python3"
  },
  "language_info": {
   "codemirror_mode": {
    "name": "ipython",
    "version": 3
   },
   "file_extension": ".py",
   "mimetype": "text/x-python",
   "name": "python",
   "nbconvert_exporter": "python",
   "pygments_lexer": "ipython3",
   "version": "3.8.5"
  }
 },
 "nbformat": 4,
 "nbformat_minor": 4
}
