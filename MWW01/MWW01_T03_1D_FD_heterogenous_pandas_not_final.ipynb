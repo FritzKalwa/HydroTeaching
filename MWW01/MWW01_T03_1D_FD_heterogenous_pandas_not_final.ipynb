{
 "cells": [
  {
   "cell_type": "markdown",
   "metadata": {},
   "source": [
    "Developed by: Thomas.Reimann@tu-dresden.de / Sophie.Pfoertner@mailbox.tu-dresden.de / Anne.Pfoertner@mailbox.tu-dresden.de / Alexander.Oy@mailbox.tu-dresden.de\n",
    "<br>Last change: 2020 11 09\n",
    "<br>Current state: funktional\n",
    "<br>ToDo:\n",
    "- Quellcode kommentieren\n",
    "- Tabelle ordentlich machen --> Momentan noch mehrere tabellen (ersten zwei Zeilen und dann für jede Schleife ne neue Tabelle), diese von der Spaltenbreite gleich groß machen, formatierung der Nachkommastellen\n",
    "- Eingangswerte etvl mit ipywidgets ins Modell\n",
    "- Statt Frage ob neue Schleife, evtl Button einfügen"
   ]
  },
  {
   "cell_type": "code",
   "execution_count": 41,
   "metadata": {},
   "outputs": [],
   "source": [
    "import matplotlib.pyplot as plt\n",
    "import numpy as np\n",
    "from numpy import nan as NaN\n",
    "from ipywidgets import *\n",
    "from IPython.display import display\n",
    "import pandas as pd\n",
    "from IPython.display import clear_output"
   ]
  },
  {
   "cell_type": "code",
   "execution_count": 46,
   "metadata": {},
   "outputs": [
    {
     "name": "stdout",
     "output_type": "stream",
     "text": [
      "4\n",
      "[0.0002, 0.0002, 0.0002, 0.0002, 0.0002, 0.0002, 0.0002, 0.0002, 0.0002, 0.0002, 0.0002]\n",
      "[0.0, 0.0, 0.0, 0.0, 0.0, 0.0, 0.0, 0.0, 0.0, 0.0, 0.0]\n"
     ]
    }
   ],
   "source": [
    "button = Button(description=\"Berechnen\")\n",
    "output = Output()\n",
    "out_plot = Output()\n",
    "\n",
    "dx = 500                # Zellweite\n",
    "\n",
    "m = 12                  # Mächtigkeit\n",
    "imax = 100              # maximale Iterationszahl\n",
    "epsilon = 0.00001       # Abbruchkriterium\n",
    "ncol = 11             # Anzahl der Zellen\n",
    "  \n",
    "#Zonierung\n",
    "Anteil_Zone1 = 0.4      # Anteil der Zone 1 \n",
    "K1 = 2e-4               # hydraulische Leitfähigkeit der Zone 1\n",
    "K2 = 2e-4               # hydraulische Leitfähigkeit der Zone 2\n",
    "GWN1 = 0                # Grundwasserneubildung der Zone 1 in mm/a\n",
    "GWN2 = 0                # Grundwasserneubildung der Zone 2 in mm/a\n",
    "\n",
    "RCH1 = GWN1/1000/365.25/24/3600        #Umrechnung der Grundwasserneubildung in m/s\n",
    "RCH2 = GWN2/1000/365.25/24/3600 \n",
    "\n",
    "K_Zone = []\n",
    "RCH_Zone = []\n",
    "for z in range (0, int(ncol*Anteil_Zone1)):\n",
    "    K_Zone.append(K1)\n",
    "    RCH_Zone.append(RCH1)\n",
    "for z in range (int(ncol*Anteil_Zone1),ncol):\n",
    "    K_Zone.append(K2)\n",
    "    RCH_Zone.append(RCH2)\n",
    "print(int(ncol*Anteil_Zone1))\n",
    "print(K_Zone)\n",
    "print(RCH_Zone)"
   ]
  },
  {
   "cell_type": "code",
   "execution_count": 47,
   "metadata": {},
   "outputs": [
    {
     "name": "stdout",
     "output_type": "stream",
     "text": [
      "   h1  h2  h3  h4  h5  h6  h7  h8  h9  h10  h11\n",
      "0 NaN NaN NaN NaN NaN NaN NaN NaN NaN  NaN  NaN\n"
     ]
    }
   ],
   "source": [
    "# Generate Dataframe and initiate the first row\n",
    "col = []\n",
    "leerZeile = []\n",
    "for n in range (ncol):\n",
    "    col.append('h'+ str(n+1))  # COLUMN HEADER, START WITH 1\n",
    "    leerZeile.append(NaN)      # EMPTY ROW\n",
    "\n",
    "global i\n",
    "i = 0\n",
    "global HEAD\n",
    "HEAD = pd.DataFrame([leerZeile], columns=col)\n",
    "\n",
    "print(HEAD)"
   ]
  },
  {
   "cell_type": "code",
   "execution_count": 48,
   "metadata": {},
   "outputs": [
    {
     "name": "stdout",
     "output_type": "stream",
     "text": [
      "     h1    h2    h3    h4    h5    h6    h7    h8    h9   h10   h11\n",
      "0  18.0  17.0  17.0  17.0  17.0  17.0  17.0  17.0  17.0  17.0  16.0\n"
     ]
    }
   ],
   "source": [
    "#Randbedingungen/ Startwerte der Zellen\n",
    "HEAD[col[ 0]].values[i] = 18               # Potentialhöhe Links in m\n",
    "HEAD[col[-1]].values[i] = 16              # Potentialhöhe Rechts in m\n",
    "\n",
    "# SET INITIAL VALUE TO THE AVERAGE OF BOTH BOUNDARIES\n",
    "for n in range(1,ncol-1):\n",
    "    HEAD[col[n]].values[i] = (HEAD[col[0]].values[i] + HEAD[col[-1]].values[i])/2\n",
    "\n",
    "print(HEAD)"
   ]
  },
  {
   "cell_type": "code",
   "execution_count": 49,
   "metadata": {
    "tags": []
   },
   "outputs": [
    {
     "data": {
      "application/vnd.jupyter.widget-view+json": {
       "model_id": "8718234bda0e45629116921284617508",
       "version_major": 2,
       "version_minor": 0
      },
      "text/plain": [
       "HBox(children=(VBox(children=(Button(description='Berechnen', style=ButtonStyle()), Output())), Output()))"
      ]
     },
     "metadata": {},
     "output_type": "display_data"
    }
   ],
   "source": [
    "  \n",
    "def iterator(HEAD=HEAD, RCH_Zone=RCH_Zone, K_Zone=K_Zone, dx=dx, i=i, col=col, m=m):\n",
    "    T = []\n",
    "    # FIRST ITERATION\n",
    "    if i==0:\n",
    "        i = i + 1\n",
    "        NEW_LINE = pd.DataFrame([leerZeile], columns=col) \n",
    "        HEAD = HEAD.append(NEW_LINE, ignore_index=True)\n",
    "        HEAD[col[ 0]].values[i] = HEAD[col[ 0]].values[i-1]\n",
    "        HEAD[col[-1]].values[i] = HEAD[col[-1]].values[i-1]\n",
    "        for n in range(0,ncol):\n",
    "            T.append(K_Zone[n] * min([m, HEAD[col[n]].values[i-1]]))                     #Transmissivität\n",
    "        for n in range(1,ncol-1):\n",
    "            HEAD[col[n]].values[i]=(2*T[n]*T[n-1]/(T[n]+T[n-1])*HEAD[col[n-1]].values[i-1]+2*T[n]*T[n+1]/(T[n]+T[n+1])*HEAD[col[n+1]].values[i-1]+RCH_Zone[n]*dx**2)/(2*T[n]*T[n-1]/(T[n]+T[n-1])+2*T[n]*T[n+1]/(T[n]+T[n+1]))\n",
    "        HEAD.style.format(\"{:.3f}\") \n",
    "        with output:\n",
    "            clear_output()\n",
    "            print(HEAD)\n",
    "        with out_plot:\n",
    "            clear_output()\n",
    "            HEAD[-1:].T.plot()\n",
    "            plt.show()\n",
    "        return HEAD, i    \n",
    "    else:\n",
    "        i = i + 1\n",
    "        max_head_change = max(abs(HEAD.iloc[-2]-HEAD.iloc[-1]))\n",
    "        if max_head_change<epsilon or i==imax:\n",
    "            with output:\n",
    "                print('Die Iteration wurde beendet.')\n",
    "        else:\n",
    "            NEW_LINE = pd.DataFrame([leerZeile], columns=col) \n",
    "            HEAD = HEAD.append(NEW_LINE, ignore_index=True)\n",
    "            HEAD[col[ 0]].values[i] = HEAD[col[ 0]].values[i-1]\n",
    "            HEAD[col[-1]].values[i] = HEAD[col[-1]].values[i-1]\n",
    "            for n in range(0,ncol):\n",
    "                T.append(K_Zone[n] * min([m, HEAD[col[n]].values[i-1]]))                     #Transmissivität\n",
    "            for n in range(1,ncol-1):\n",
    "                HEAD[col[n]].values[i]=(2*T[n]*T[n-1]/(T[n]+T[n-1])*HEAD[col[n-1]].values[i-1]+2*T[n]*T[n+1]/(T[n]+T[n+1])*HEAD[col[n+1]].values[i-1]+RCH_Zone[n]*dx**2)/(2*T[n]*T[n-1]/(T[n]+T[n-1])+2*T[n]*T[n+1]/(T[n]+T[n+1]))\n",
    "            HEAD.style.format(\"{:.3f}\") \n",
    "            with output:\n",
    "                clear_output()\n",
    "                print(HEAD)              \n",
    "            with out_plot:\n",
    "                clear_output()\n",
    "                HEAD[-1:].T.plot()\n",
    "                plt.show()\n",
    "            return HEAD, i\n",
    "\n",
    "def Iteration(_):\n",
    "    global HEAD, i\n",
    "    HEAD,i = iterator(HEAD=HEAD,i=i)\n",
    "\n",
    "button.on_click(Iteration)\n",
    "box = HBox([VBox([button, output]), out_plot])\n",
    "box"
   ]
  },
  {
   "cell_type": "code",
   "execution_count": null,
   "metadata": {},
   "outputs": [],
   "source": []
  }
 ],
 "metadata": {
  "kernelspec": {
   "display_name": "Python 3",
   "language": "python",
   "name": "python3"
  },
  "language_info": {
   "codemirror_mode": {
    "name": "ipython",
    "version": 3
   },
   "file_extension": ".py",
   "mimetype": "text/x-python",
   "name": "python",
   "nbconvert_exporter": "python",
   "pygments_lexer": "ipython3",
   "version": "3.7.6"
  }
 },
 "nbformat": 4,
 "nbformat_minor": 2
}
