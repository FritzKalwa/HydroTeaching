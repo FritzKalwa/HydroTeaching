{
 "cells": [
  {
   "cell_type": "markdown",
   "metadata": {},
   "source": [
    "# Grundwasserbewirtschaftung mit Computermodellen\n",
    "\n",
    "## Einzugsgebiet von Brunnen\n",
    "\n",
    "Dieses Dokument erläutert die Berechnung des Einzugsgebietes von Wasserfassungen (Filterbrunnen)"
   ]
  },
  {
   "cell_type": "markdown",
   "metadata": {},
   "source": [
    "## Formelverzeichnis\n",
    "\n",
    "Trennstromlinie nach Grubb (1993):\n",
    "\n",
    "$x_0 = -\\frac{Q}{2\\pi Kib}$\n",
    "\n",
    "$B = 2y_{max} = \\frac{Q}{Kib}$\n",
    "\n",
    "$y_{max} = \\pm \\frac{Q}{2KiB}$\n"
   ]
  },
  {
   "cell_type": "code",
   "execution_count": 1,
   "metadata": {},
   "outputs": [],
   "source": [
    "# Initialize librarys\n",
    "import matplotlib\n",
    "import matplotlib.pyplot as plt\n",
    "import numpy as np\n",
    "import math\n",
    "from ipywidgets import *\n",
    "from math import pi, tan"
   ]
  },
  {
   "cell_type": "code",
   "execution_count": 2,
   "metadata": {},
   "outputs": [],
   "source": [
    "def ymax_conf(Q, K, i, b):\n",
    "    ymax = Q/(2.*K*i*b)\n",
    "    return ymax\n",
    "\n",
    "def x0_conf(Q, K, i, b):\n",
    "    x0 = -Q/(2.*np.pi*K*i*b)\n",
    "    return x0\n",
    "\n",
    "def TSL_conf(x_max, K, i, b):\n",
    "    x = np.arange(-1000, x_max,1)\n",
    "    ymax = ymax_conf(Q, K, i, b)\n",
    "    x0 = x0_conf(Q, K, i, b)\n",
    "    y = np.arange(-ymax, ymax, 0.1)\n",
    "    x = -1*y/(np.tan(2*np.pi*K*i*b*y/Q))\n",
    "    fig, ax = plt.subplots()\n",
    "    ax.plot(x,y)\n",
    "    ax.set(xlabel='x', ylabel='y',title='Brunnen-EZG')\n",
    "    ax.set(xlim=(x0*1.5, x_max), ylim=(-1.1*ymax, 1.1*ymax))\n",
    "    ax.grid()\n",
    "    plt.show()\n",
    "    print('y_max', ymax)\n",
    "    print('x0', x0)"
   ]
  },
  {
   "cell_type": "code",
   "execution_count": 4,
   "metadata": {},
   "outputs": [
    {
     "data": {
      "application/vnd.jupyter.widget-view+json": {
       "model_id": "729b1954c5184e4ca1783bc98965658a",
       "version_major": 2,
       "version_minor": 0
      },
      "text/plain": [
       "interactive(children=(FloatLogSlider(value=0.0001, description='K', max=-2.0, min=-6.0, readout_format='e'), F…"
      ]
     },
     "metadata": {},
     "output_type": "display_data"
    },
    {
     "data": {
      "text/plain": [
       "<function __main__.TSL_conf(x_max, K, i, b)>"
      ]
     },
     "execution_count": 4,
     "metadata": {},
     "output_type": "execute_result"
    }
   ],
   "source": [
    "x_max = 1000\n",
    "Q = 0.00324074\n",
    "K = 0.00028\n",
    "i = 0.0012\n",
    "b = 14\n",
    "\n",
    "interact(TSL_conf,\n",
    "         x_max=fixed(x_max),\n",
    "         K=widgets.FloatLogSlider(value=0.0001,base=10,min=-6, max=-2, step=0.1,readout=True,readout_format='e'),\n",
    "         i=widgets.FloatLogSlider(value=0.0001,base=10,min=-6, max=-2, step=0.1,readout=True,readout_format='e'),\n",
    "         b=(1,100,1))"
   ]
  },
  {
   "cell_type": "code",
   "execution_count": 56,
   "metadata": {},
   "outputs": [
    {
     "data": {
      "text/plain": [
       "-98.31188316871634"
      ]
     },
     "execution_count": 56,
     "metadata": {},
     "output_type": "execute_result"
    }
   ],
   "source": []
  },
  {
   "cell_type": "code",
   "execution_count": null,
   "metadata": {},
   "outputs": [],
   "source": []
  }
 ],
 "metadata": {
  "kernelspec": {
   "display_name": "Python 3",
   "language": "python",
   "name": "python3"
  },
  "language_info": {
   "codemirror_mode": {
    "name": "ipython",
    "version": 3
   },
   "file_extension": ".py",
   "mimetype": "text/x-python",
   "name": "python",
   "nbconvert_exporter": "python",
   "pygments_lexer": "ipython3",
   "version": "3.7.6"
  }
 },
 "nbformat": 4,
 "nbformat_minor": 2
}
