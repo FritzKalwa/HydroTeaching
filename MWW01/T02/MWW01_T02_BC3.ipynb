{
 "cells": [
  {
   "cell_type": "markdown",
   "metadata": {},
   "source": [
    "<img src='../img/TUD_logo.png' align='right' width='15%'></img>\n",
    "\n",
    "[Zurück zur Übersicht MWW01 - Grundwasserbewirtschaftung mit Computermodellen](../MWW01_00_index.ipynb)   \n",
    "[Zurück zur Übersicht T02 - Konzeptionelle Modelle](./MWW01_T02_00_index.ipynb)"
   ]
  },
  {
   "cell_type": "markdown",
   "metadata": {},
   "source": [
    "# Analytical solution for 1D unconfined flow with two Robin (3rd type) boundaries\n",
    "\n",
    "## Equations\n",
    "\n",
    "$h(x)=\\sqrt{H_l^2-\\frac{H_l^2-H_r^2}{L}x+\\frac{q_n}{K}x(L-x)}$\n"
   ]
  },
  {
   "cell_type": "code",
   "execution_count": 4,
   "metadata": {},
   "outputs": [],
   "source": [
    "# Initialize librarys\n",
    "from scipy.special import erfc, erf\n",
    "import matplotlib\n",
    "import matplotlib.pyplot as plt\n",
    "import numpy as np\n",
    "import math\n",
    "from ipywidgets import *"
   ]
  },
  {
   "cell_type": "code",
   "execution_count": 5,
   "metadata": {},
   "outputs": [],
   "source": [
    "# Definition of the function\n",
    "def head(L, R, K, hl, hr, Kbl, Kbr, mbl, mbr):\n",
    "    Ll = K/Kbl*mbl\n",
    "    Lr = K/Kbr*mbr\n",
    "    \n",
    "    x = np.arange(0, (L+Ll+Lr),(L+Ll+Lr)/1000)\n",
    "    R=R/1000/365.25/86400\n",
    "    h=(hl**2-(hl**2-hr**2)/(L+Ll+Lr)*x+(R/K*x*((L+Ll+Lr)-x)))**0.5\n",
    "    xt = x-Ll\n",
    "    \n",
    "    #PLOT FIGURE\n",
    "    fig = plt.figure(figsize=(9,6))\n",
    "    ax = fig.add_subplot(1, 1, 1)\n",
    "    ax.plot(xt,h)\n",
    "    ax.set(xlabel='x', ylabel='head',title='Hydraulic head for 1D unconfined flow')\n",
    "    plt.ylim(hl*0.98,hr*1.02)\n",
    "    plt.xlim(0,L)\n",
    "    ax.grid()\n",
    "    plt.show()\n",
    "    print('R: ',R, ' m/s')\n"
   ]
  },
  {
   "cell_type": "code",
   "execution_count": 6,
   "metadata": {},
   "outputs": [
    {
     "data": {
      "application/vnd.jupyter.widget-view+json": {
       "model_id": "c1a1a40bddfd40caa62cd1a5031179a0",
       "version_major": 2,
       "version_minor": 0
      },
      "text/plain": [
       "interactive(children=(BoundedFloatText(value=2500.0, description='L:', max=20000.0, step=100.0), IntSlider(val…"
      ]
     },
     "metadata": {},
     "output_type": "display_data"
    },
    {
     "data": {
      "text/plain": [
       "<function __main__.head(L, R, K, hl, hr, Kbl, Kbr, mbl, mbr)>"
      ]
     },
     "execution_count": 6,
     "metadata": {},
     "output_type": "execute_result"
    }
   ],
   "source": [
    "# Computation\n",
    "\n",
    "interact(head,\n",
    "         L= widgets.BoundedFloatText(value=2500,min=0, max=20000,step=100, description='L:' , disabled=False),\n",
    "         R=(-500,500,10),\n",
    "         K=widgets.FloatLogSlider(value=0.0001,base=10,min=-6, max=-2, step=0.1,readout=True,readout_format='.2e'),\n",
    "         hl=widgets.BoundedFloatText(value=150, min=0, max=1000, step=1, description='h left:', disabled=False),\n",
    "         hr=widgets.BoundedFloatText(value=152, min=0, max=1000, step=1, description='h right:', disabled=False),\n",
    "         Kbl=widgets.FloatLogSlider(value=0.000001,base=10,min=-8, max=-2, step=0.1,readout=True,readout_format='.2e'),\n",
    "         Kbr=widgets.FloatLogSlider(value=0.000001,base=10,min=-8, max=-2, step=0.1,readout=True,readout_format='.2e'),\n",
    "         mbl=widgets.BoundedFloatText(value=0.5, min=0, max=2, step=0.1, description='m left:', disabled=False),\n",
    "         mbr=widgets.BoundedFloatText(value=0.5, min=0, max=2, step=0.1, description='m right:', disabled=False),         \n",
    "        )"
   ]
  },
  {
   "cell_type": "markdown",
   "metadata": {},
   "source": [
    "<hr>\n",
    "&copy; 2021 | Thomas Reimann\n",
    "<a rel=\"license\" href=\"http://creativecommons.org/licenses/by/4.0/\"><img style=\"float: right\" alt=\"Creative Commons Lizenzvertrag\" style=\"border-width:0\" src=\"https://i.creativecommons.org/l/by/4.0/88x31.png\" /></a>"
   ]
  }
 ],
 "metadata": {
  "celltoolbar": "Slideshow",
  "kernelspec": {
   "display_name": "Python 3",
   "language": "python",
   "name": "python3"
  },
  "language_info": {
   "codemirror_mode": {
    "name": "ipython",
    "version": 3
   },
   "file_extension": ".py",
   "mimetype": "text/x-python",
   "name": "python",
   "nbconvert_exporter": "python",
   "pygments_lexer": "ipython3",
   "version": "3.8.5"
  }
 },
 "nbformat": 4,
 "nbformat_minor": 2
}
