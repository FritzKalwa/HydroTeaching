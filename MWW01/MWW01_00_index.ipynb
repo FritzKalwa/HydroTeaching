{
 "cells": [
  {
   "cell_type": "markdown",
   "metadata": {},
   "source": [
    "<img src='./IMG/TUD_logo.png' align='right' width='15%'></img>"
   ]
  },
  {
   "cell_type": "markdown",
   "metadata": {},
   "source": [
    "# MWW01 `Grundwasserbewirtschaftung mit Computermodellen`"
   ]
  },
  {
   "cell_type": "markdown",
   "metadata": {},
   "source": [
    "### Eine Sammlung von `interaktive` Lehrmaterialien für die Veranstaltung MWW 01 `Grundwasserbewirtschaftung mit Computermodellen`\n",
    "\n",
    "\n",
    "#### Autoren\n",
    "* [Thomas Reimann](https://tu-dresden.de/bu/umwelt/hydro/igw) | wiss. Mitarbeiter am Institut für Grundwasserwirtschaft der TU Dresden\n",
    "* [Rudolf Liedl](https://tu-dresden.de/bu/umwelt/hydro/igw) | Prof. für Grundwasserwirtschaft, Institut für Grundwasserwirtschaft der TU Dresden\n",
    "* Anne & Sophie Pförtner, Alexander Oy | Studentierende der Wasserwirtschaft an der TU Dresden\n",
    "\n",
    "#### Verwendetes Material, Informationen, Vorlagen kommen u. a. von\n",
    "* [Julia Wagemann](https://jwagemann.com) | Independent consultant and Phd student at University of Marburg - Gestaltung und Organisation / Layout der interaktiven Dokumente\n",
    "\n",
    "####  Zugang zu den interaktiven Dokumenten\n",
    "Die interaktiven Jupyter Notebooks sind verfügbar auf [GitHub](https://github.com/ThoReimann/HydroTeaching)."
   ]
  },
  {
   "cell_type": "markdown",
   "metadata": {},
   "source": [
    "<hr>"
   ]
  },
  {
   "cell_type": "markdown",
   "metadata": {},
   "source": [
    "## Worum geht es in diesem Lehrmaterial?"
   ]
  },
  {
   "cell_type": "markdown",
   "metadata": {},
   "source": [
    "\n",
    "Das Lehrmaterial möchte eine `interaktive` und `praktische` Einführung und Unterstützung für Themen der Lehrveranstaltung Grundwasserbewirtschaftung mit Computermodellen. Die interaktiven Dokumente in Form von Jupyter Notebooks erlauben es, dass Sie sich eigenständig mit den Inhalten auseinander setzen. Dazu enthalten die interaktiven Jupyter Notebooks Text, Bilder, Video aber auch interaktive Grafiken und Berechnungen sowie Kontrollfragen.\n",
    "\n",
    "Mit dem Lehrmaterial möchten wir Sie motivieren, sich mit dem interessanten und herausfordernden Thema Grundwasserbewirtschaftung auseinander zu setzen. Ebenso möchten wir Ihnen mit den virtuellen Aufgaben und Experimenten einen lebendigen Zugang zu der teilweise abstrakten Materie `Grundwasserbewirtschaftung` erlauben. Viel Erfolg und Viel Spass!"
   ]
  },
  {
   "cell_type": "markdown",
   "metadata": {},
   "source": [
    "## Inhalt"
   ]
  },
  {
   "cell_type": "markdown",
   "metadata": {},
   "source": [
    "Die interaktiven Dokumente sind wie folgt strukturiert:\n",
    "#### [T02 Konzeptionelle Modelle](T02/MWW01_T02_00_index.ipynb)\n",
    "#### [T03 Numerische Lösung der Grundwassergleichung](T03/MWW01_T03_00_index.ipynb)"
   ]
  },
  {
   "cell_type": "markdown",
   "metadata": {},
   "source": [
    "<hr>\n",
    "&copy; 2021 | Thomas Reimann\n",
    "<a rel=\"license\" href=\"http://creativecommons.org/licenses/by/4.0/\"><img style=\"float: right\" alt=\"Creative Commons Lizenzvertrag\" style=\"border-width:0\" src=\"https://i.creativecommons.org/l/by/4.0/88x31.png\" /></a>"
   ]
  },
  {
   "cell_type": "code",
   "execution_count": null,
   "metadata": {},
   "outputs": [],
   "source": []
  }
 ],
 "metadata": {
  "kernelspec": {
   "display_name": "Python 3",
   "language": "python",
   "name": "python3"
  },
  "language_info": {
   "codemirror_mode": {
    "name": "ipython",
    "version": 3
   },
   "file_extension": ".py",
   "mimetype": "text/x-python",
   "name": "python",
   "nbconvert_exporter": "python",
   "pygments_lexer": "ipython3",
   "version": "3.8.5"
  }
 },
 "nbformat": 4,
 "nbformat_minor": 2
}
