{
 "cells": [
  {
   "cell_type": "markdown",
   "metadata": {},
   "source": [
    "MWW01 - Grundwasserbewirtschaftung mit Computermodellen  \n",
    "Kalibrierung  \n",
    "Beispiel Storage  "
   ]
  },
  {
   "cell_type": "markdown",
   "metadata": {},
   "source": [
    "Beispiel nach Doherty (Bsp. Storage für PEST)  \n",
    "\n",
    "Gleichung  \n",
    "  \n",
    "$\\large q = Kh$  \n",
    "  \n",
    "$\\large S\\frac{\\partial h}{\\partial t}+R-Kh$  \n",
    "  \n",
    "$\\large h(t=0) = h_i$  \n",
    "\n",
    "Solution \n",
    "\n",
    "$\\large h = h_i+(\\frac{R}{K}-h_i)(1-e^{\\frac{-Kt}{S}})$"
   ]
  },
  {
   "cell_type": "code",
   "execution_count": 8,
   "metadata": {},
   "outputs": [],
   "source": [
    "# Initialize librarys\n",
    "from scipy.special import erfc, erf\n",
    "import matplotlib\n",
    "import matplotlib.pyplot as plt\n",
    "import numpy as np\n",
    "import math\n",
    "from ipywidgets import *"
   ]
  },
  {
   "cell_type": "code",
   "execution_count": 9,
   "metadata": {},
   "outputs": [],
   "source": [
    "# Measured data\n",
    "t_meas = [0.1, 0.2, 0.5, 1, 2, 5, 10, 20, 50, 100, 200, 500, 1000, 2000, 5000, 10000]\n",
    "h_meas = [0.0499875, 0.0999500, 0.2496878, 0.4987521, 0.9950166, 2.4690090, 4.8770580, 9.5162580, 22.1199200, 39.3469400, 63.2120600, 91.7915000, 99.3262000, 99.9954600, 100.0000000, 100.0000000]\n"
   ]
  },
  {
   "cell_type": "code",
   "execution_count": 12,
   "metadata": {},
   "outputs": [],
   "source": [
    "def EQ(h_i, R, K, S, t_max):\n",
    "    t = np.arange(0, t_max, t_max/1000)\n",
    "    h=h_i+(R/K-h_i)*(1-math.e**(-K*t/S))\n",
    "    \n",
    "    # PLOT FIGURE\n",
    "    fig = plt.figure(figsize=(9,6))\n",
    "    ax = fig.add_subplot(1, 1, 1)\n",
    "    ax.plot(t,h)\n",
    "    ax.plot(t_meas, h_meas, 'ro')\n",
    "    ax.set(xlabel='t', ylabel='head',title='Hydraulic head for Storage')\n"
   ]
  },
  {
   "cell_type": "code",
   "execution_count": null,
   "metadata": {},
   "outputs": [],
   "source": [
    "interact(EQ,\n",
    "         h_i = widgets.BoundedFloatText(value=3, min=1, max=100, step=1, description='h_i:', disabled=False),\n",
    "         R= widgets.FloatLogSlider(value=0.0001,base=10,min=-6, max=6, step=0.1,readout=True,readout_format='.2e'),\n",
    "         K= widgets.FloatLogSlider(value=0.0001,base=10,min=-6, max=6, step=0.1,readout=True,readout_format='.2e'),\n",
    "         S= widgets.FloatLogSlider(value=0.0001,base=10,min=-6, max=6, step=0.1,readout=True,readout_format='.2e'),\n",
    "         t_max = widgets.BoundedFloatText(value=1000, min=1, max=10000, step=1, description='t_max:', disabled=False))"
   ]
  },
  {
   "cell_type": "code",
   "execution_count": null,
   "metadata": {},
   "outputs": [],
   "source": []
  }
 ],
 "metadata": {
  "kernelspec": {
   "display_name": "Python 3",
   "language": "python",
   "name": "python3"
  },
  "language_info": {
   "codemirror_mode": {
    "name": "ipython",
    "version": 3
   },
   "file_extension": ".py",
   "mimetype": "text/x-python",
   "name": "python",
   "nbconvert_exporter": "python",
   "pygments_lexer": "ipython3",
   "version": "3.7.6"
  }
 },
 "nbformat": 4,
 "nbformat_minor": 4
}
