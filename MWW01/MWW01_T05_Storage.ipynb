{
 "cells": [
  {
   "cell_type": "markdown",
   "metadata": {},
   "source": [
    "# MWW01 - Grundwasserbewirtschaftung mit Computermodellen  \n",
    "## Kalibrierung - Beispiel Storage (von John Doherty)\n",
    "\n",
    "Letzte Änderung: 21. April 2021 von Thomas.Reimann@tu-dresden.de"
   ]
  },
  {
   "cell_type": "markdown",
   "metadata": {},
   "source": [
    "Das Beispiel ist einem Tutorial von John Doherty (Autor der Software PEST) entnommen worden. Beschrieben wird ein Einzugsgebiet durch ein Lumped-Parameter-Modell (d. h. das gesamte Gebiet wird mit wenigen, effektiven Parameter beschrieben).  \n",
    "<br>\n",
    "Das interaktive Dokument adressiert die folgenden **Lernziele**: *Nachdem Sie das Arbeitsblatt erfolgreich bearbeitet haben, können Sie*:  \n",
    "+ die Funktionalität eines einfachen konzeptionellen Modells erläutern,\n",
    "+ ein einfaches Modell kalibrieren,\n",
    "+ erläutern, welche Bedeutung und Konsequenz eine Korrelation von Modellparametern hat,\n",
    "+ wie ein Modell mit korrelierten Parametern zielführend kalibriert werden kann.\n",
    "\n",
    "\n",
    "\n",
    "### Modellkonzept\n",
    "\n",
    "Die nachfolgende Skizze zeigt das konzeptionelle Modell. Ein Reservoir wird durch einen Speicher *S* definiert. Ein Zufluss von Wasser wird durch einen Recharge *R* generiert. Der Abfluss *q* stellt sich in Abhängigkeit von der Conductance *C* (auch Leitwert oder hydraulischer Widerstand) und des Wasserstandes *h* ein. Die nachfolgende Abbildung 1 zeigt das Modell schematisch.\n",
    "\n",
    "<figure>\n",
    "  <img src=\"FIG/MWW01_T05_STORAGE.png\" alt=\"System\" style=\"width:40%\">\n",
    "  <figcaption>Abb.1 - Skizze des Lumped-Parameter-Modells.</figcaption>\n",
    "</figure>\n",
    "\n",
    "### Gleichungen\n",
    "Die folgenden Gleichungen beschreiben das Verhalten des Einzugsgebietes\n",
    "\n",
    "**Abfluss *q***  \n",
    "\n",
    "Der Abfluss *q* resultiert aus der Conductance *C* und dem Wasserstand *h*.  \n",
    "<br>\n",
    "<br>\n",
    "$\\large q = Kh$\n",
    "\n",
    "Je höher der Wasserstand, umso mehr Wasser strömt aus dem Reservoir.\n",
    "\n",
    "**Strömungsgleichung mit Kontinuität / Massenerhalt**\n",
    "\n",
    "Die Strömungsgleichung ergibt aus der Kombination von Abfuss und Massenerhalt (Kontinuuität):  \n",
    "<br>\n",
    "<br>\n",
    " $\\large S\\frac{\\partial h}{\\partial t}=R-Kh$ \n",
    "  \n",
    "mit  \n",
    "*S* = Speicher und  \n",
    "*R* = Recharge.  \n",
    "\n",
    "**Anfangsbedingung**\n",
    "\n",
    "Um die Gleichung zu lösen ist eine Anfangfsbedingung notwendig:  \n",
    "<br>\n",
    "<br>\n",
    "$\\large h(t=0) = h_i$ \n",
    "  \n",
    "mit  \n",
    "*hi* = initialer Anfangswasserstand.  \n",
    "\n",
    "### Mathematische  Lösung und grafische Darstellung\n",
    "\n",
    "Die Strömungsgleichung kann wie folgt gelöst werden und beschreibt damit den Wasserstand *h* als Funktion der Zeit *t*:  \n",
    "<br>\n",
    "<br>\n",
    "$\\large h(t) = h_i+(\\frac{R}{K}-h_i)(1-e^{\\frac{-Kt}{S}})$ \n",
    "  \n",
    "Im Folgenden wird die Gleichung gelöst. "
   ]
  },
  {
   "cell_type": "code",
   "execution_count": 26,
   "metadata": {},
   "outputs": [],
   "source": [
    "# Initialize librarys\n",
    "from scipy.special import erfc, erf\n",
    "import matplotlib\n",
    "import matplotlib.pyplot as plt\n",
    "import numpy as np\n",
    "import math\n",
    "from ipywidgets import *"
   ]
  },
  {
   "cell_type": "code",
   "execution_count": 27,
   "metadata": {},
   "outputs": [],
   "source": [
    "# Measured data\n",
    "t_meas = [0.1, 0.2, 0.5, 1, 2, 5, 10, 20, 50, 100, 200, 500, 1000, 2000, 5000, 10000]\n",
    "h_meas = [0.0499875, 0.0999500, 0.2496878, 0.4987521, 0.9950166, 2.4690090, 4.8770580, 9.5162580, 22.1199200, 39.3469400, 63.2120600, 91.7915000, 99.3262000, 99.9954600, 100.0000000, 100.0000000]"
   ]
  },
  {
   "cell_type": "code",
   "execution_count": 32,
   "metadata": {},
   "outputs": [],
   "source": [
    "def EQ(h_i, R, K, S):\n",
    "    t_max = 10000\n",
    "    t = np.arange(0, t_max, t_max/100)\n",
    "    h=h_i+(R/K-h_i)*(1-math.e**(-K*t/S))\n",
    "    \n",
    "    # PLOT FIGURE\n",
    "    fig = plt.figure(figsize=(10,6))\n",
    "    ax = fig.add_subplot(1, 1, 1)\n",
    "    ax.plot(t,h, '--')\n",
    "    ax.plot(t_meas, h_meas, 'ro')\n",
    "    plt.xlim(-1000,11000)\n",
    "    plt.ylim(0,150)\n",
    "    ax.set(xlabel='t', ylabel='head',title='Hydraulic head for Storage')\n",
    "    \n"
   ]
  },
  {
   "cell_type": "markdown",
   "metadata": {},
   "source": []
  },
  {
   "cell_type": "code",
   "execution_count": 33,
   "metadata": {},
   "outputs": [
    {
     "name": "stdout",
     "output_type": "stream",
     "text": [
      "HINWEIS: Sie können die Zahlenwerte hinter den Schiebereglern auch manuell anpassen\n"
     ]
    },
    {
     "data": {
      "application/vnd.jupyter.widget-view+json": {
       "model_id": "eb0f5e6f75bd4b2c9587ef41eff437d7",
       "version_major": 2,
       "version_minor": 0
      },
      "text/plain": [
       "interactive(children=(FloatSlider(value=20.0, description='h_i:', min=1.0, step=1.0), FloatLogSlider(value=0.0…"
      ]
     },
     "metadata": {},
     "output_type": "display_data"
    },
    {
     "data": {
      "text/plain": [
       "<function __main__.EQ(h_i, R, K, S)>"
      ]
     },
     "execution_count": 33,
     "metadata": {},
     "output_type": "execute_result"
    }
   ],
   "source": [
    "print('HINWEIS: Sie können die Zahlenwerte hinter den Schiebereglern auch manuell anpassen')\n",
    "interact(EQ,\n",
    "         h_i = widgets.FloatSlider(value=20, min=1, max=100, step=1, description='h_i:', disabled=False),\n",
    "         R= widgets.FloatLogSlider(value=0.01,base=10,min=-6, max=3, step=0.0001,readout=True,readout_format='.2e'),\n",
    "         K= widgets.FloatLogSlider(value=0.01,base=10,min=-6, max=3, step=0.0001,readout=True,readout_format='.2e'),\n",
    "         S= widgets.FloatLogSlider(value=0.011,base=10,min=-6, max=3, step=0.0001,readout=True,readout_format='.2e'))"
   ]
  },
  {
   "cell_type": "markdown",
   "metadata": {},
   "source": [
    "## Aufgabe 1\n",
    "Sie können die grafische Lösung des Modell mit Hilfe der Schieberegler variieren, um so das Modell zu kalibrieren. Das Ziel ist, eine möglichst optimale Anpassung zwischen den gemessenen und berechneten Werten zu realisieren.  \n",
    "\n",
    "+ Kalibrieren Sie das mathematische Modell und beobachten Sie die Auswirkungen, welche die einzelnen Parameter haben\n",
    "+ Untersuchen Sie, welche Parameter eine ähnliche Auswirkung auf das Ergebnis haben.\n",
    "\n",
    "## Aufgabe 2\n",
    "+ Kalibrieren Sie nun das Modell in den zwei nachfolgenden Abbildungen (Beachten Sie, dass jeweils verschiedene Werte für den Parameter *R* (Recharge) fest eingestellt wurden. Vergleichen Sie resultierenden Werte der Parameter in den drei Varianten (Aufgabe 1 und 2)"
   ]
  },
  {
   "cell_type": "code",
   "execution_count": 43,
   "metadata": {},
   "outputs": [
    {
     "name": "stdout",
     "output_type": "stream",
     "text": [
      "R = 0.001 (fixiert)\n"
     ]
    },
    {
     "data": {
      "application/vnd.jupyter.widget-view+json": {
       "model_id": "dd9dae430d3e4d4e978ddf544e4e116f",
       "version_major": 2,
       "version_minor": 0
      },
      "text/plain": [
       "interactive(children=(FloatSlider(value=20.0, description='h_i:', min=1.0, step=1.0), FloatLogSlider(value=0.0…"
      ]
     },
     "metadata": {},
     "output_type": "display_data"
    },
    {
     "name": "stdout",
     "output_type": "stream",
     "text": [
      "R = 0.5 (fixiert)\n"
     ]
    },
    {
     "data": {
      "application/vnd.jupyter.widget-view+json": {
       "model_id": "998b963b2cd54d72b2b2727e1ac644e0",
       "version_major": 2,
       "version_minor": 0
      },
      "text/plain": [
       "interactive(children=(FloatSlider(value=20.0, description='h_i:', min=1.0, step=1.0), FloatSlider(value=0.5, d…"
      ]
     },
     "metadata": {},
     "output_type": "display_data"
    },
    {
     "data": {
      "text/plain": [
       "<function __main__.EQ(h_i, R, K, S)>"
      ]
     },
     "execution_count": 43,
     "metadata": {},
     "output_type": "execute_result"
    }
   ],
   "source": [
    "print(\"R = 0.001 (fixiert)\")\n",
    "interact(EQ,\n",
    "         h_i = widgets.FloatSlider(value=20, min=1, max=100, step=1, description='h_i:', disabled=False),\n",
    "         R= widgets.fixed(0.001),\n",
    "         K= widgets.FloatLogSlider(value=0.01,base=10,min=-6, max=3, step=0.0001,readout=True,readout_format='.2e'),\n",
    "         S= widgets.FloatLogSlider(value=0.011,base=10,min=-6, max=3, step=0.0001,readout=True,readout_format='.2e'))\n",
    "\n",
    "print(\"R = 0.5 (fixiert)\")\n",
    "interact(EQ,\n",
    "         h_i = widgets.FloatSlider(value=20, min=1, max=100, step=1, description='h_i:', disabled=False),\n",
    "         R= 0.5,\n",
    "         K= widgets.FloatLogSlider(value=0.01,base=10,min=-6, max=3, step=0.0001,readout=True,readout_format='.2e'),\n",
    "         S= widgets.FloatLogSlider(value=0.011,base=10,min=-6, max=3, step=0.0001,readout=True,readout_format='.2e'))"
   ]
  },
  {
   "cell_type": "code",
   "execution_count": null,
   "metadata": {},
   "outputs": [],
   "source": []
  }
 ],
 "metadata": {
  "kernelspec": {
   "display_name": "Python 3",
   "language": "python",
   "name": "python3"
  },
  "language_info": {
   "codemirror_mode": {
    "name": "ipython",
    "version": 3
   },
   "file_extension": ".py",
   "mimetype": "text/x-python",
   "name": "python",
   "nbconvert_exporter": "python",
   "pygments_lexer": "ipython3",
   "version": "3.8.5"
  }
 },
 "nbformat": 4,
 "nbformat_minor": 4
}
