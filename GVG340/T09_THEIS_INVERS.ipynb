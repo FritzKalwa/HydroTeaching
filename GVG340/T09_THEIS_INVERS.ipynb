{
 "cells": [
  {
   "cell_type": "markdown",
   "metadata": {},
   "source": [
    "# Theis pumping test\n",
    "This notebook demonstrate the application of the Theis principle for pumping test evaluation in confined, transient setups. Parts of the notebook use code from Randy Hunt (refer to P3_4 from the textbook of Anderson, Woessner, and Hunt (2015) - available on GITHUB)"
   ]
  },
  {
   "cell_type": "markdown",
   "metadata": {},
   "source": [
    "Initiate"
   ]
  },
  {
   "cell_type": "code",
   "execution_count": 8,
   "metadata": {},
   "outputs": [],
   "source": [
    "%matplotlib inline\n",
    "import numpy as np\n",
    "import matplotlib.pyplot as plt\n",
    "import scipy.special\n",
    "#import sys, os\n",
    "from mpl_toolkits.axes_grid1 import make_axes_locatable"
   ]
  },
  {
   "cell_type": "markdown",
   "metadata": {},
   "source": [
    "Given data (measurement)"
   ]
  },
  {
   "cell_type": "code",
   "execution_count": 9,
   "metadata": {},
   "outputs": [],
   "source": [
    "m_time = [0.50,1.00,1.33,2.00,3.00,5.00,7.00,9.33,13.50,22.00,30.00] # time in minutes\n",
    "m_ddown = [0.30,0.37,0.38,0.40,0.43,0.49,0.52,0.53,0.55,0.56,0.57]   # drawdown in meters"
   ]
  },
  {
   "cell_type": "code",
   "execution_count": 10,
   "metadata": {},
   "outputs": [],
   "source": [
    "#Define a function, class, and object for Theis Well analysis\n",
    "\n",
    "def well_function(u):\n",
    "    return scipy.special.exp1(u)\n",
    "\n",
    "def theis_u(T,S,r,t):\n",
    "    u = r ** 2 * S / 4. / T / t\n",
    "    return u\n",
    "\n",
    "def theis_s(Q, T, u):\n",
    "    s = Q / 4. / np.pi / T * well_function(u)\n",
    "    return s\n",
    "\n",
    "def theis_wu(Q, T, s):\n",
    "    wu = s * 4. * np.pi * T / Q\n",
    "    return wu"
   ]
  },
  {
   "cell_type": "markdown",
   "metadata": {
    "collapsed": true
   },
   "source": [
    "Compute data for the well function"
   ]
  },
  {
   "cell_type": "code",
   "execution_count": 11,
   "metadata": {},
   "outputs": [],
   "source": [
    "u_max = 1\n",
    "r_max = 100000\n",
    "u  = [u_max for x in range(r_max)]\n",
    "um = [u_max for x in range(r_max)]\n",
    "u_inv  = [r_max/u_max for x in range(r_max)]\n",
    "um_inv = [r_max/u_max for x in range(r_max)]\n",
    "w_u  = [well_function(u_max/r_max) for x in range(r_max)]\n",
    "w_um = [well_function(u_max/r_max) for x in range(r_max)]\n",
    "\n",
    "for x in range(1,r_max,1):\n",
    "    if x>0:\n",
    "        u[x] = x*u_max/r_max\n",
    "        u_inv[x] = 1/u[x]\n",
    "        w_u[x] = well_function(u[x])"
   ]
  },
  {
   "cell_type": "markdown",
   "metadata": {},
   "source": [
    "Given data for solution"
   ]
  },
  {
   "cell_type": "code",
   "execution_count": 12,
   "metadata": {},
   "outputs": [],
   "source": [
    "# Parameters needed to solve Theis\n",
    "r = 23      # m\n",
    "m = 8.5       # m\n",
    "Q = 0.0267     #m^3/d"
   ]
  },
  {
   "cell_type": "markdown",
   "metadata": {},
   "source": [
    "Variable data (for fitting)"
   ]
  },
  {
   "cell_type": "code",
   "execution_count": 13,
   "metadata": {},
   "outputs": [],
   "source": [
    "# Parameters needed to solve Theis\n",
    "K = 5E-3     # m/s\n",
    "T = K*m      # m^2/d (100 m/d Kh x 20 m thick)\n",
    "S = 0.0002342  # unitless"
   ]
  },
  {
   "cell_type": "markdown",
   "metadata": {},
   "source": [
    "Compute measured data and plot the well function"
   ]
  },
  {
   "cell_type": "code",
   "execution_count": 14,
   "metadata": {},
   "outputs": [
    {
     "data": {
      "image/png": "[encoded data removed]",
      "text/plain": [
       "<matplotlib.figure.Figure at 0xa8df0f0>"
      ]
     },
     "metadata": {
      "needs_background": "light"
     },
     "output_type": "display_data"
    }
   ],
   "source": [
    "x = 0\n",
    "for t in m_time:\n",
    "    um[x] = theis_u(T,S,r,t*60)\n",
    "    um_inv[x] = 1/um[x]\n",
    "    w_um[x] = theis_wu(Q,T,m_ddown[x])\n",
    "    x = x+1\n",
    "\n",
    "fig, ax = plt.subplots()\n",
    "ax.plot(u_inv, w_u)\n",
    "ax.plot(um_inv, w_um,'ro')\n",
    "plt.yscale(\"log\")\n",
    "plt.xscale(\"log\")\n",
    "plt.axis([1,1E5,1E-1,1E+1])\n",
    "ax.set(xlabel='1/u', ylabel='w(u)',\n",
    "       title='Theis drawdown')\n",
    "ax.grid(which=\"both\")\n",
    "plt.legend(('well function','measured'))\n",
    "   \n",
    "plt.show()"
   ]
  },
  {
   "cell_type": "code",
   "execution_count": null,
   "metadata": {
    "collapsed": true
   },
   "outputs": [],
   "source": []
  }
 ],
 "metadata": {
  "kernelspec": {
   "display_name": "Python 3",
   "language": "python",
   "name": "python3"
  },
  "language_info": {
   "codemirror_mode": {
    "name": "ipython",
    "version": 3
   },
   "file_extension": ".py",
   "mimetype": "text/x-python",
   "name": "python",
   "nbconvert_exporter": "python",
   "pygments_lexer": "ipython3",
   "version": "3.6.1"
  },
  "toc": {
   "base_numbering": 1,
   "nav_menu": {},
   "number_sections": true,
   "sideBar": true,
   "skip_h1_title": false,
   "title_cell": "Table of Contents",
   "title_sidebar": "Contents",
   "toc_cell": false,
   "toc_position": {},
   "toc_section_display": true,
   "toc_window_display": false
  },
  "varInspector": {
   "cols": {
    "lenName": 16,
    "lenType": 16,
    "lenVar": 40
   },
   "kernels_config": {
    "python": {
     "delete_cmd_postfix": "",
     "delete_cmd_prefix": "del ",
     "library": "var_list.py",
     "varRefreshCmd": "print(var_dic_list())"
    },
    "r": {
     "delete_cmd_postfix": ") ",
     "delete_cmd_prefix": "rm(",
     "library": "var_list.r",
     "varRefreshCmd": "cat(var_dic_list()) "
    }
   },
   "position": {
    "height": "216.667px",
    "left": "2296.33px",
    "right": "20px",
    "top": "120px",
    "width": "243.667px"
   },
   "types_to_exclude": [
    "module",
    "function",
    "builtin_function_or_method",
    "instance",
    "_Feature"
   ],
   "window_display": true
  }
 },
 "nbformat": 4,
 "nbformat_minor": 1
}
