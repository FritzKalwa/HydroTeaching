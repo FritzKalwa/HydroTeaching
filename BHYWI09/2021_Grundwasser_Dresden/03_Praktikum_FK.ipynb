{
 "cells": [
  {
   "cell_type": "markdown",
   "metadata": {},
   "source": [
    "<img src='./img/TUD_logo.png' align='right' width='15%'></img>"
   ]
  },
  {
   "cell_type": "markdown",
   "metadata": {},
   "source": [
    "<a href=\"./02_Uebung.ipynb\"> 03 - Praktikum - Eigenständiges Experiment (Darcy-Versuch)</a>"
   ]
  },
  {
   "cell_type": "code",
   "execution_count": null,
   "metadata": {},
   "outputs": [],
   "source": [
    "# Experimente in Eigenregie - Charakterisierung Porenraum und Darcy-Versuch\n",
    "<hr>\n",
    "\n",
    "### Inhalte / Übersicht\n",
    "\n",
    "#### [1 Zielstellung und Vorüberlegung](#1)\n",
    "* [Kontrollfragen in Abschnitt 1](#K_1)\n",
    "\n",
    "#### [2 Theoretische Grundlagen](#2)\n",
    "* [Kontrollfragen in Abschnitt 2](#K_2)\n",
    "\n",
    "#### [3 Darcy-Versuch: Aufbau](#3)\n",
    "* [3.1 Benötige Materialien](#3.1)\n",
    "* [3.2 Vorbereitungen](#3.2)\n",
    "* [3.3 Einbau des Sediments](#3.3)\n",
    "\n",
    "#### [4 Darcy-Versuch: Durchführung](#4)\n",
    "* [4.1 Vorbereitung des Experimentes](#4_1)\n",
    "* [4.2 Durchführung des Experimentes](#4_2)\n",
    "* [4.3 Vergleich mit einer anderen Sedimentprobe](#4_3)\n",
    "\n",
    "#### [5 Porenraumbestimmung](#5)\n",
    "* [5.1 Benötigte Materialien](#5.1)\n",
    "* [5.2 Experimentelle Bestimmung des Porenraums](#5.2)\n",
    "    \n",
    "#### [7 Gesättigte und ungesättigte Verhältnisse](#7)\n",
    "\n",
    "### Empfohlene Literatur / weitere Informationen\n",
    "\n",
    "* [Woessner und Poeter (2021): Hydrogeologic Properties of Earth Materials and Principles of Groundwater Flow (Open Book)](https://gw-project.org/books/hydrogeologic-properties-of-earth-materials-and-principles-of-groundwater-flow/)\n",
    "* [Selker and Or, Soil Hydrology and Biophysics, Oregon State Univ.](https://open.oregonstate.education/soilhydrologyandbiophysics/chapter/hydrodynamics/)\n",
    "\n",
    "\n",
    "### Lernziele\n",
    "\n",
    "<div class=\"alert alert-block alert-success\">\n",
    "    <b>Wenn Sie das Material durcharbeiten, werden Sie folgende Dinge lernen:</b>\n",
    "    <ol>\n",
    "        <li>Sie können die einzelnen Größen der Darcy-Gleichung erläutern</li>\n",
    "        <li>Sie können die Korngröße eines Sedimentes grob mit einer hydraulischen Leitfähigkeit verbinden</li> \n",
    "        <li>Sie können selbstständig die hydraulische Leitfähigkeit eines Sediments bestimmen</li>\n",
    "    </ol>\n",
    "</div>\n",
    "\n",
    "<hr>"
   ]
  },
  {
   "cell_type": "code",
   "execution_count": null,
   "metadata": {},
   "outputs": [],
   "source": [
    "\n",
    "## <a id='1'></a>1 Zielstellung und Vorüberlegungen\n",
    "\n",
    "Sie haben inzwischen viel über Grundwasserströmung, Piezometerhöhen und Druckgradienten gehört. Um diese etwas abstrakten Begriffe ein wenig besser zu begreifen, bietet es sich an, das Experiment nachzustellen, dass Henry Darcy 1856 dazu brachte, die berühmte \"Darcy-Gleichung\" aufzustellen.\n",
    "\n",
    "<img src=\"img/Darcy_original.png\" width = '350'>\n",
    "<figcaption>\n",
    "    <b>Abb.1:</b> Abbildung des originalen Darcy Experimentes, 1856.\n",
    "    <a href=\"https://open.oregonstate.education/soilhydrologyandbiophysics/chapter/hydrodynamics/\" target=\"_blank\">(von: Selker and Or, Soil Hydrology and Biophysics, Oregon State Univ.</a>\n",
    "</figcaption> \n",
    "\n",
    "Dieses Experiment stellt die Grundlagen (fast) aller hydraulischen Untersuchungen und Modellierungsansätzen im Grundwasserkontext dar. Dazu zählen sowohl großskalige Pumpversuche, als auch numerische Grundwasserströmungsmodelle.\n",
    "Im klassischen Darcy-Experiment werden Sedimentsäulen auf ihre hydraulische Durchlässigkeit untersucht, also darauf, wie gut das Wasser durch das Sediment strömt. Dazu können ungestörte (Kern-)Proben aus dem Untergrund verwendet oder Sedimentsäulen aber auch aus losem Aquifermaterial (sog. \"gestörte Proben\") aufgebaut werden.\n",
    "Üblicherweise wird so ein Experiment im Labor unter kontrollierten Bedingungen mit Hilfe eines großen Zylinders, geregelter Wasserzufuhr und Piezometern durchgeführt. Wir wollen Ihnen jedoch zeigen, wie Sie das Ganze auch bei sich zu Hause mit einfachen Mitteln nachstellen können. Das folgende Experiment soll also mit möglichst wenigen, im besten Falle schon im Haushalt vorhandenen Hilfsmitteln, aufbaubar und durchführbar sein. Hierbei ist Ihre Kreativität gefragt, um die Ihnen zu Verfügung stehenden Materialien und Hilfsmittel so zu verwenden, dass Sie bestmögliche Ergebnisse erzielen."
   ]
  },
  {
   "cell_type": "code",
   "execution_count": null,
   "metadata": {},
   "outputs": [],
   "source": [
    "## <a id='2'></a>  2 Theoretische Grundlagen\n",
    "\n",
    "Das Darcy-Gesetz beschreibt den linearen Zusammenhang zwischen Druckgradient und Strömungsgeschwindigkeit: \n",
    "\n",
    "\\begin{equation}\n",
    "q = -K \\frac{\\Delta{h}} {\\Delta{l}}\n",
    "\\end{equation}\n",
    "\n",
    "Hierbeit stellt $q$ die Strömungsgeschwindigkeit dar, $\\Delta{h}$ repräsentiert den Druckhöhenunterschied zwischen den beiden Säulenenden und $\\Delta{l}$ die Fließweglänge (=Länge der Säule). $K$ beschreibt die hydraulische Durchlässigkeit (auch $K-Wert$ oder $k_f-Wert$ genannt). Dies stellt den interessantesten Parameter eines porösen Mediums dar, den wir üblicherweise in einem Säulenexperiment wie diesem bestimmen wollen, doch dazu gleich mehr.\n",
    "Während sich der Druckhöhenunterschied an Anfang und Ende der Säule relativ einfach über die Messung der Wasserspiegel an den beiden Stellen erfassen lässt und auch die Längenmessung der Säule keine große Herausforderung darstellt, ist die Messung der Strömungsgeschwindigkeit nicht auf einfache Weise direkt möglich.\n",
    "Wir errechnen Sie uns deshalb indirekt über den gemessenen Volumenstrom $Q$, den wir einfach zur Querschnittsfläche der Säule $A$ ins Verhältnis setzen, und somit nur noch auslitern müssen, wie viel Wasservolumen pro Sekunde/Minute/o.Ä. aus der Säule herausläuft:\n",
    "\n",
    "\\begin{equation}\n",
    "q= \\frac{Q} {A}\n",
    "\\end{equation}\n",
    "\n",
    "Der $K-Wert$ kann um mehrere Größenordnungen schwanken, je nachdem wie groß die Porenräume sind, die durchströmt werden. Üblicherweise wird der Wert, da er eine Leitfähigkeit (analog zur elektrischen Leitfähigkeit) darstellt, in gröberen Sedimenten (z.B. Sand oder Kies) größer, da die größeren Poren hier deutlich weniger Fließwiderstand bieten als die kleineren Poren in feinen Sedimenten (z.B. Schluff oder Ton). Auf der folgenden Abbildung sehen Sie beispielhaft ein paar zu erwartende Leitfähigkeiten für bestimmte Sedimente:\n",
    "\n",
    "<img src=\"img/Bild27.png\" width=\"290\">\n",
    "<figcaption>Abb.2 - K-Werte unterschiedlicher Sedimente. Wagner, Einführung in die Geoströmungstechnik, TU-Freiberg</figcaption>\n",
    "\n",
    "Da aber jedes Sediment anders ist und gröbere Sedimente oft einen gewissen Anteil an Feinsediment enthalten (wie auch umgekehrt), empfiehlt es sich, neben einer Korngrößenanalyse das Sediment immer auch hydraulisch zu untersuchen. Genau das machen wir mit unserem Darcy-Experiment."
   ]
  },
  {
   "cell_type": "markdown",
   "metadata": {},
   "source": [
    "<div class=\"alert alert-block alert-info\">\n",
    "Mit dem folgenden Slider können Sie sehen, wie sich ihr Durchfluss unter verschiedenen Bedingungen ändert. Der ausgegebene Wert entspricht dem Durchfluss Q [$m^3$/s]. Die Startwerte sind so gewählt, dass die den möglichen Einstellungen des Experimentes entsprechen.\n",
    "</div>"
   ]
  },
  {
   "cell_type": "code",
   "execution_count": 13,
   "metadata": {},
   "outputs": [
    {
     "data": {
      "application/vnd.jupyter.widget-view+json": {
       "model_id": "3383b16c7728414fba732502fd2e1b9e",
       "version_major": 2,
       "version_minor": 0
      },
      "text/plain": [
       "interactive(children=(FloatLogSlider(value=0.0005, description='K [m/s]:', max=-2.0, min=-8.0, readout_format=…"
      ]
     },
     "metadata": {},
     "output_type": "display_data"
    }
   ],
   "source": [
    "from ipywidgets import interact, interactive, fixed, interact_manual\n",
    "from IPython.display import display\n",
    "from IPython.display import clear_output\n",
    "from ipynb.fs.full.functions import create_multipleChoice_widget\n",
    "\n",
    "import os\n",
    "import ipywidgets as widgets\n",
    "\n",
    "def Q(K,A,h,l):\n",
    "    print(\"spezifischer Durchfluss q = %8.2e\"% (K * (h/l)),       \" m/s\")\n",
    "    print(\"spezifischer Durchfluss q = %8.4f\"% (K * (h/l)*86400), \" m/d\")\n",
    "    print(\"             Durchfluss Q = %8.3f\"% (K * A * (h/l)*1000), \"l/s\")\n",
    "    print(\"             Durchfluss Q = %8.3f\"% (K * A * (h/l)*1000*60), \"l/min\")\n",
    "    print(\"             Durchfluss Q = %8.3f\"% (K * A * (h/l)*1000*60*60), \"l/h\")\n",
    "\n",
    "w = interactive(Q,K=widgets.FloatLogSlider(min=-8, max=-2,value=0.0005, step=0.0001,description='K [m/s]:',readout_format='8.2e',),\n",
    "                        A=widgets.FloatLogSlider(min=-4, max=-2, value=0.0050, step=0.001,description='A [$m^2$]:'),\n",
    "                        h=widgets.FloatLogSlider(min=-2, max=-0.2, value=0.2, step=0.001,description='$\\Delta$h [m]:'),\n",
    "                        l=widgets.FloatLogSlider(min=-2, max=-0.3, value=0.1, step=0.001,description='$\\Delta$l [m]:'),\n",
    "                       )\n",
    "display(w)"
   ]
  },
  {
   "cell_type": "markdown",
   "metadata": {},
   "source": [
    "<div class=\"alert alert-block alert-success\">\n",
    "    <a id='K_1'><b>Kontrollfragen:</b> Bitte bearbeiten Sie die folgenden Fragen, um Ihren Lernfortschritt zu kontrollieren.\n",
    "</div>"
   ]
  },
  {
   "cell_type": "code",
   "execution_count": null,
   "metadata": {},
   "outputs": [],
   "source": [
    "B1_Frage1 = \"Frage 1: Wann hat Henry Darcy die Grundwasserströmung untersucht?\"\n",
    "B1_A1_A = \"17. Jh.\"\n",
    "B1_A1_B = \"18. Jh.\"\n",
    "B1_A1_C = \"19. Jh.\"\n",
    "B1_A1_D = \"20. Jh.\"\n",
    "\n",
    "B1_Frage2 = \"Frage 2: Wie verändert sich der Durchfluss Q, wenn die Höhe der Sandschicht verdoppelt wird?\"\n",
    "B1_A2_A = \"Q unterscheidet sich kaum\"\n",
    "B1_A2_B = \"Q ist halb so hoch\"\n",
    "B1_A2_C = \"Q ist doppelt so hoch\"\n",
    "B1_A2_D = \"Q sinkt exponentiell ab\"\n",
    "\n",
    "B1_Frage3 = \"Frage 3: Wie verändert sich der Durchfluss Q, wenn $\\Delta h$ halbiert wird?\"\n",
    "B1_A3_A = \"Q unterscheidet sich kaum\"\n",
    "B1_A3_B = \"Q ist halb so hoch\"\n",
    "B1_A3_C = \"Q ist doppelt so hoch\"\n",
    "B1_A3_D = \"Q sinkt exponentiell ab\"\n",
    "\n",
    "B1_Frage4 = \"Frage 4: Nehmen Sie an, das Wasser benötigt in ihrem Versuch 10 Sekunden um durch die Sandschicht zu filtrieren. Wie lange würde es ganz grob geschätzt dauern, wenn Sie den Sand durch Ton ersetzen?\"\n",
    "B1_A4_A = \"länger als 1 Stunde\"\n",
    "B1_A4_B = \"länger als 10 Stunden\"\n",
    "B1_A4_C = \"länger als 1 Tag\"\n",
    "B1_A4_D = \"länger als 10 Tage\"\n",
    "\n",
    "B1_Q1 = create_multipleChoice_widget(B1_Frage1,[B1_A1_A,B1_A1_B,B1_A1_C,B1_A1_D],B1_A1_C)\n",
    "B1_Q2 = create_multipleChoice_widget(B1_Frage2,[B1_A2_A,B1_A2_B,B1_A2_C,B1_A2_D],B1_A2_B)\n",
    "B1_Q3 = create_multipleChoice_widget(B1_Frage3,[B1_A3_A,B1_A3_B,B1_A3_C,B1_A3_D],B1_A3_B)\n",
    "B1_Q4 = create_multipleChoice_widget(B1_Frage4,[B1_A4_A,B1_A4_B,B1_A4_C,B1_A4_D],B1_A4_D)\n",
    "\n",
    "display(B1_Q1)\n",
    "display(B1_Q2)\n",
    "display(B1_Q3)\n",
    "display(B1_Q4)"
   ]
  },
  {
   "cell_type": "code",
   "execution_count": 21,
   "metadata": {},
   "outputs": [
    {
     "data": {
      "application/vnd.jupyter.widget-view+json": {
       "model_id": "433bea62050c44909211fba22c0e0d32",
       "version_major": 2,
       "version_minor": 0
      },
      "text/plain": [
       "VBox(children=(Output(), RadioButtons(options=(('Kies', 0), ('Sand', 1), ('Schluff', 2), ('Ton', 3)), value=0)…"
      ]
     },
     "metadata": {},
     "output_type": "display_data"
    },
    {
     "data": {
      "application/vnd.jupyter.widget-view+json": {
       "model_id": "ecad88ccff744a298243d1285f8a1987",
       "version_major": 2,
       "version_minor": 0
      },
      "text/plain": [
       "VBox(children=(Output(), RadioButtons(options=(('Kies', 0), ('Sand', 1), ('Schluff', 2), ('Ton', 3)), value=0)…"
      ]
     },
     "metadata": {},
     "output_type": "display_data"
    },
    {
     "data": {
      "application/vnd.jupyter.widget-view+json": {
       "model_id": "85a7c0f58fc64dcf920a8b4cb915b7cc",
       "version_major": 2,
       "version_minor": 0
      },
      "text/plain": [
       "VBox(children=(Output(), RadioButtons(options=(('5%', 0), ('10%', 1), ('30%', 2), ('50%', 3)), value=0), Butto…"
      ]
     },
     "metadata": {},
     "output_type": "display_data"
    },
    {
     "data": {
      "application/vnd.jupyter.widget-view+json": {
       "model_id": "5623950211e348aaae4d18518127bd4f",
       "version_major": 2,
       "version_minor": 0
      },
      "text/plain": [
       "VBox(children=(Output(), RadioButtons(options=(('3 g', 0), ('30 g', 1), ('300 g', 2), ('3000 g', 3)), value=0)…"
      ]
     },
     "metadata": {},
     "output_type": "display_data"
    }
   ],
   "source": [
    "B2_Frage1 = \"Welches Sediment hat die größte totale Porosität?\"\n",
    "B2_A1_A = \"Kies\"\n",
    "B2_A1_B = \"Sand\"\n",
    "B2_A1_C = \"Schluff\"\n",
    "B2_A1_D = \"Ton\"\n",
    "\n",
    "B2_Frage2 = \"Welches Sediment hat die größte mobile Porosität?\"\n",
    "B2_A2_A = \"Kies\"\n",
    "B2_A2_B = \"Sand\"\n",
    "B2_A2_C = \"Schluff\"\n",
    "B2_A2_D = \"Ton\"\n",
    "\n",
    "B2_Frage3 = \"Wie groß schätzen Sie die mobile Porosität eines Sandes?\"\n",
    "B2_A3_A = \"5%\"\n",
    "B2_A3_B = \"10%\"\n",
    "B2_A3_C = \"30%\"\n",
    "B2_A3_D = \"50%\"\n",
    "\n",
    "B2_Frage4 = \"Wie viel wiegen 300 ml Wasser?\"\n",
    "B2_A4_A = \"3 g\"\n",
    "B2_A4_B = \"30 g\"\n",
    "B2_A4_C = \"300 g\"\n",
    "B2_A4_D = \"3000 g\"\n",
    "\n",
    "B2_Q1 = create_multipleChoice_widget(B2_Frage1,[B2_A1_A,B2_A1_B,B2_A1_C,B2_A1_D],B2_A1_D)\n",
    "B2_Q2 = create_multipleChoice_widget(B2_Frage2,[B2_A2_A,B2_A2_B,B2_A2_C,B2_A2_D],B2_A2_B)\n",
    "B2_Q3 = create_multipleChoice_widget(B2_Frage3,[B2_A3_A,B2_A3_B,B2_A3_C,B2_A3_D],B2_A3_C)\n",
    "B2_Q4 = create_multipleChoice_widget(B2_Frage4,[B2_A4_A,B2_A4_B,B2_A4_C,B2_A4_D],B2_A4_C)\n",
    "\n",
    "display(B2_Q1)\n",
    "display(B2_Q2)\n",
    "display(B2_Q3)\n",
    "display(B2_Q4)"
   ]
  },
  {
   "cell_type": "markdown",
   "metadata": {},
   "source": [
    "## <a id='3'></a> 3 Aufbau des Darcy-Experimentes\n",
    "\n",
    "### <a id='3_1'></a> 3.1 Benötigte Materialien \n",
    "Zunächst benötigen Sie ein Sediment, das Sie untersuchen können. Versuchen Sie, in Ihrer Umgebung eine kleine Menge (ca. 300-500 ml) sandigen Sedimentes zu finden. Achten Sie darauf, dass sich in Ihrem Sediment möglichst wenig größere Steine befinden. Außerdem sollten sich auch möglichst wenig feinere Partikel (Ton, Organik, o.Ä.) im Sediment befinden. Alles, was zu sehr \"matscht\" scheidet also aus. Wenn Sie kein \"natürliches\" Sediment finden, können Sie im Zweifelsfall auch eine Probe aus einem Sandkasten für Kinder nehmen. **Bitte in dem Fall darauf achten, dass Sie wirklich nicht mehr als die benötigten 0,3-0,5 l entnehmen!**\n",
    "<br>Reiben Sie Ihre Sedimentprobe zu Beginn zwischen den Fingern und versuchen Sie grob festzustellen, welche Sedimentart dominiert. Als Faustregel können Sie sagen, dass alles, was größer ist als ein Streichholzkopf als \"Kies\" bezeichnet wird. Alles zwischen Streichholzkopfgröße und Weizengrieß bezeichnet man als Grobsand und alles was eher an Mehl erinnert, bezeichnet man als Feinsand. Notieren Sie Ihre Einschätzung und schauen Sie in Abbildung 2 nach, welchen K-Wert Sie erwarten würden.\n",
    "<br>Um den K-Wert zu bestimmen, wird eigentlich eine Säule mit gleichbleibendem Fließquerschnitt benötigt, die sich an beiden Enden wasserdicht abschließen lässt. In unserem Fall versuchen wir es etwas anders und wählen eine handelsübliche PET-Flasche, die idealerweise die Form eines Zylinders aufweist, also ohne Verengungen oder Auswölbungen gestaltet ist. Aus dieser wird der Boden herausgeschnitten und der Deckel perforiert. Danach wird die \"Säule\" mit Sediment befüllt und kopfüber auf einem Ständer in eine Schüssel gestellt, sodass Wasser, das durch die aufgeschnittene Öffnung hinzugegeben wird durch die Säule in die Schüssel fließen kann. Hier eine Liste der benötigten Gegenstände (sie können aber auch kreativ davon abweichen): \n",
    "\n",
    "* eine PET-Flasche (idealerweise Einweg)\n",
    "* eine etwa 5-8 cm hohe Schüssel mit ebenem Boden\n",
    "* ein Bandmaß oder Zollstock\n",
    "* ein Messer (idealerweise ein Cuttermesser)\n",
    "* ein Smartphone oder eine Stoppuhr\n",
    "* ein wasserdurchlässiges Netzgewebe (z.B. ein Kaffee- oder Teefilter)\n",
    "* eine Küchenwaage\n",
    "* einen Permanentmarker\n",
    "* eine Hand voll Kies (alternativ auch getrocknete Erbsen oder Weizenkörner)\n",
    "* das Sediment, das sie untersuchen wollen - Die Methode ist besser für sandige Sedimente geeignet, also alles zwischen \n",
    "* ein \"Sieb\" zur gleichmäßigen Verteilung des zugegebenen Wassers auf der Sedimentoberfläche (z.B. ein löchriger Joghurtbecher)\n",
    "* ein (wasserdurchlässiger) Ständer für die umgedrehte Flasche, z.B. ein weiterer löchriger Becher, ein Tee-Stövchen, o.Ä.\n",
    "* ein \"Verdichter\": Also einen Stab, o.Ä., der einen Durchmesser von 3-5 cm hat. Hier eignen sich z.B. die handelsüblichen Gewürzgläser oder auch die Rückseite eines Schraubenziehers.\n",
    "\n",
    "\n",
    "<img src=\"img/Bild1.png\" width=\"600\">\n",
    "<figcaption><b>Abb.3:</b> Benötigte Materialien und Geräte</figcaption>"
   ]
  },
  {
   "cell_type": "markdown",
   "metadata": {},
   "source": [
    "### <a id='3_2'></a> 3.2 Vorbereitungen \n",
    "Die finale Konstruktion wird ein bisschen wackelig sein und es wird Wasser aus der Schüssel auslaufen. Deshalb empfiehlt es sich, den Aufbau in einem Waschbecken oder (noch besser) in der Badewanne durchzuführen.\n",
    "Zuallererst muss der Boden der Flasche mit dem Cuttermesser abgetrennt werden. Den abgetrennten Boden versehen Sie mit 1-2 mm großen Löchern (z.B. mit einem (erhitzten) Nagel oder einem Akkubohrer). Falls Sie einen Joghurtbecher als \"Sieb\" oder einen anderen löchrigen Becher als \"Ständer\" verwenden, können Sie die Löcher dort im gleichen Zuge machen.\n",
    "Hier sehen Sie ein Ausführungsbeispiel (links: Flaschenboden, Mitte: \"Sieb\", rechts: \"Ständer\"):\n",
    "\n",
    "<img src=\"img/Bild3.jfif\" width=\"450\">\n",
    "<figcaption><b>Abb.20:</b> Vorbereitung der Flaschen und Becher</figcaption>"
   ]
  },
  {
   "cell_type": "markdown",
   "metadata": {},
   "source": [
    "### <a id='3_3'></a> 3.3 Einbau der Sedimente \n",
    "Setzen Sie nun den abgesägten Flaschenboden verkehrt herum in die umgedrehte Flasche ein, drücken Sie ihn bis ganz nach unten und füllen Sie eine 2-4 cm mächtige Kiesschicht ein. Nun gilt es, das zu untersuchende Sediment einzufüllen, ohne dass es sich mit der Kiesschicht vermischt. Dafür müssen Sie (je nach Flaschen- und Filtergröße) ein bisschen improvisieren: Sie können z.B. ihren Kaffe-/Teefilter so zurechtschneiden, dass er die beiden Schichten sicher trennt oder einen Teil der Sedimentschicht in den Filter eingeben, diesen fest auf die Kiesschicht pressen und danach das restliche Sediment einfüllen. Dazu feuchten Sie das Sediment leicht an (bei 300 ml Sediment ca. 50 ml Wasser), füllen zunächst eine Schicht von 2-3 cm ein. Diese verdichten Sie im Anschluss, indem Sie die Sedimentoberfläche mit dem Verdichter mehrmals abklopfen. Wie viel Kraft Sie dabei einsetzen hängt von der Stabilität der Konstruktion ab. Grundsätzlich gilt: Je mehr, desto realitätsnäher. Bei unserem provisorischen Versuch, ist aber vorerst auch leichtes Klopfen ausreichend. \n",
    "<br>\n",
    "Wiederholen Sie diesen Schritt nun mehrmals, bis Ihre Sedimentsäule (ohne Kies) min. 10 cm lang ist. eines Geben Sie hierzu immer so viel Sediment dazu, dass die Säule um ca. 2-3 cm mit  so dass die Höhe der Sedimentschicht ungefähr zwischen 5-10 cm beträgt. Messen und notieren Sie die Länge der finalen Sedimentsäule (**ohne** Kiesschicht!). Nun haben Sie ihr $\\Delta{l}$.\n",
    "<br>\n",
    "\n",
    "So könnte ihr Aufbau beispielsweise aussehen:\n",
    " \n",
    "<img src=\"img/Bild4.png\" width=\"450\">\n",
    "<figcaption><b>Abb.4: </b> Mit Kies und Sand/Kies befüllte Flasche </figcaption>"
   ]
  },
  {
   "cell_type": "markdown",
   "metadata": {},
   "source": [
    "## <a id='4'></a> 4 Darcy-Experiment: Durchführung\n",
    "### <a id='4_1'></a> 4. 1 Vorbereitung des Experimentes\n",
    "Auch die Durchführung des Experimentes sollten Sie in einer Badewanne, der Dusche, dem Waschbecken oder draußen im Freien durchführen, um sich die Arbeit mit dem Feudel zu sparen.  \n",
    "\n",
    "* Zunächst stellen Sie die Schüssel auf dem Boden ab und setzen den \"Ständer\" mit der umgedrehten und mit Sand befüllten Flasche in die Mitte der Schüssel.  \n",
    "\n",
    "Das Darcy-Gesetz ist nur unter gesättigten Bedingungen gültig. Es gilt also, die zu untersuchende Sedimentschicht möglichst gut aufzusättigen.\n",
    "\n",
    "* Befüllen Sie die Flasche deshalb stetig mit Wasser, sodass die \"Säule\" kontinuierlich durchströmt wird. Versuchen Sie, das Sediment mit mindestens dem 5-fachen des \"Säulenvolumens\" zu durchströmen, besser mit dem 10-fachen (also bei 300 ml Sediment: 1,5-3 l Wasser).\n",
    "\n",
    "Die Schüssel sollte nach einiger Zeit bis zum Rand mit Wasser gefüllt sein und überlaufen. Falls die Schüssel so groß sein sollte, dass Sie sie auch nach Durchspülung mit dem 10-fachen Probenvolumen nicht bis zum Rand füllen konnten, können Sie das fehlende Wasser auch direkt in die Schüssel geben.\n",
    "\n",
    "* Nehmen Sie ihr Maßband und messen Sie entlang der Flasche eine Distanz von 20 cm ab, beginnend vom Wasserstand der Schüssel bis hin zur abgesägten Öffnung. Falls Ihre Flasche deutlich kürzer/länger ist, können Sie auch 15, bzw. 30 cm vom Wasserspiegel abmessen. Markieren Sie mit dem Permanentmarker die Position mit einem Strich.\n",
    "* Machen Sie einen weiteren Strich jeweiles 2 cm oberhalb und unterhalb des ersten Striches.\n",
    "\n",
    "Wenn Sie nun kontinuierlich Wasser nachgeben und darauf achten, dass der Wasserspiegel sich immer mehr oder weniger an der Position des Striches befindet, stellen Sie einen Druckhöhenunterschied (=$\\Delta{h}$) von 0,2 m (bzw. 0,15/0,3 m) sicher. Wenn Sie nun diesen Druckhöhenunterschied durch die Länge Ihrer Sedimentsäule ($\\Delta{l}$) teilen (siehe Kapitel 3.3), erhalten Sie den hydraulischen Gradienten $\\Delta{h}$/$\\Delta{l}$.\n",
    "\n",
    "\n",
    "Eine grobe Skizze des Versuchsdurchgangs sieht folgendermaßen aus:\n",
    "\n",
    " <img src=\"img/Bild5.png\" width=\"600\">\n",
    " <figcaption>Abb.5: Skizze Versuchsaufbau</figcaption>\n",
    " \n",
    " Sie kennen nun den Druckhöhenunterschied, die Länge und die Querschnittsfläche des durchströmen Mediums. Um die Darcy Gleichung anwenden zu können und die hydraulische Leitfähigkeit zu bestimmen, muss nur noch der Durchfluss pro Zeit ermittelt werden.\n",
    "\n",
    "* Füllen Sie zu diesem Zweck eine weitere leere PET-Flasche mit Wasser."
   ]
  },
  {
   "cell_type": "markdown",
   "metadata": {},
   "source": [
    "### <a id='4_2'></a> 4.2 Durchführung des Experimentes \n",
    "Wiegen Sie die mit Wasser gefüllte Flasche mit der Küchenwaage und notieren Sie sich das Gewicht. \n",
    "Befüllen Sie mit dieser Flasche nun in regelmäßigen Abständen Ihre Säule, sodass der Wasserstand leicht über der Markierung liegt. Halten Sie die Stoppuhr bereit, denn sobald der sinkende Wasserpegel die Markierung erreicht, muss die Zeit gemessen werden. Nun gilt es, den Wasserstand im Mittel bei ungefähr 20 cm zu halten. Dazu füllen Sie Ihre Säule bis zum Strich 2 cm oberhalb der 20 cm-Markierung mit Wasser, warten bis der Wasserstand zum Stricht 2 cm unterhalb der 20 cm-Markierung abgefallen ist und füllen dann wieder bis zum oberen Strich auf. Je nach Sedimentzusammensetzung kann das bedeuten, dass Sie alle 5-30 Sekunden frisches Wasser zugeben müssen.\n",
    "<br>\n",
    "Es ist es Ihnen überlassen, wie lange Sie den Versuch durchführen. Es wäre aber auch hier empfehlenswert, mindestens so lange abzuwarten, dass das 3-fache des Sedimentprobenvolumens durch die Säule geflossen ist.\n",
    "Nachdem Sie sich dazu entschieden haben den Versuch zu stoppen, notieren Sie sich die verlaufene Zeit und wiegen die PET-Flasche erneut. Wenn Sie jetzt die Gewichtsdifferenz der Flasche durch die gemessene Zeit teilen, können Sie den Durchfluss errechnen (bedenken Sie: **1 ml = 1 g Wasser** )\n",
    "\n",
    "Führen Sie diesen Versuch min. drei Mal durch und mitteln Sie den gemessenen Durchfluss ($Q$).\n",
    "<br> **Nun haben Sie alle Parameter erhoben, die Sie zur Bestimmung der hydraulischen Leitfähigkeit benötigen**"
   ]
  },
  {
   "cell_type": "markdown",
   "metadata": {},
   "source": [
    "### <a id='4_3'></a> 4.3 Vergleich mit einer anderen Sedimentprobe\n",
    "Kontaktieren Sie eine weitere Person aus Ihrem Studium und tauschen Sie Ihre Sedimentproben aus. Vergleichen Sie die beiden Proben vorher, indem Sie die trockenen Proben zwischen den Fingern reiben und versuchen, festzustellen, in welcher der beiden Proben das gröbere Material dominiert. \n",
    "\n",
    "* Welche Veränderung des Durchflusses erwarten Sie? In welcher Größenordnung könnte dieser Unterschied liegen? \n",
    "\n",
    "Führen Sie im Anschluss exakt den selben Versuch noch einmal mit der anderen Sedimentprobe durch. \n",
    "\n",
    "* Überprüfen Sie Ihre persönliche Einschätzung und tauschen Sie sich mit Ihren Kollegen über die Ergebnisse aus. Wie stark variieren die Ergebnisse insgesamt?\n",
    "* Ordnen Sie Ihre Probe anhand der hydraulischen Leitfähigkeit einem Sedimenttyp zu."
   ]
  },
  {
   "cell_type": "markdown",
   "metadata": {},
   "source": [
    "## Anmerkung:\n",
    "Grundsätzlich sind alle Ansätze, die uns dabei helfen, das Fließverhalten von Wasser (und anderen Flüssigkeiten) in einem porösen Medium zu erklären, Vereinfachungen der Realität. Deshalb gilt es immer, wenn wir uns mit Strömungsprozessen im Grundwasser auseinandersetzen, unsere Vereinfachungen zu überprüfen. Im vorliegenden Fall versuchen wir die Fortbewegung des Wassers durch alle Poren des Materials mit einer einzelnen Zahl (dem K-Wert) zu beschreiben. Diese Vereinfachung ist in vielen Fällen angemessen, zumal die Datenlage oftmals keinen anderen Ansatz ermöglicht. Je nachdem, wie komplex das zu klärende Problem ist, kann aber auch eine andere Betrachtungsweise der Grundwasserströmung vonnöten sein. \n",
    "\n",
    "Informationen dazu erhalten Sie in der Literatur, z. B. in [Woessner und Poeter: Hydrogeologic Properties of Earth Materials and Principles of Groundwater Flow. Open Book of the GW-Project.org](https://books.gw-project.org/hydrogeologic-properties-of-earth-materials-and-principles-of-groundwater-flow/).\n"
   ]
  },
  {
   "cell_type": "markdown",
   "metadata": {},
   "source": [
    "# <a id='5'></a> 5 Porenraumbestimmung\n",
    "\n",
    "\n",
    "### 5.1 <a id='5.1'></a> Benötigte Materialien\n",
    "\n",
    "Um den Porenraum von Lockersedimenten zu charakterisieren, benötigen Sie:\n",
    "* zwei Kaffeepötte (oder ähnliche Gefäße),\n",
    "* eine einfache Küchenwaage,\n",
    "* Wasser,\n",
    "* Lockersedimente (z. B. Sande mit unterschiedlicher Korngröße, Kies).\n",
    "\n",
    "Wir benötigen ca. 'einen halben Liter' der Sedimente, um das Gefäß zu füllen.\n",
    "Diese Sedimente sollten Sie in ihrem näheren Umfeld finden können (Spielplatz, Baumarkt).\n",
    "Verwenden Sie möglichst trockene Sedimente (wir gehen davon aus, dass die Sedimente komplett trocken sind).\n",
    "Trocknen Sie die Sedimente ggf. im Vorfeld (Sonne, Ofen bei ca. 100 Grad Celsius).\n",
    "\n",
    "### 5.2 <a id='5.2'></a> Experimentelle Bestimmung des Porenraums\n",
    "\n",
    "Mit den folgenden Anweisungen können Sie den Porenraum (totale und mobile Porosität) Ihrer Sedimente charakterisieren.\n",
    "\n",
    "* Notieren Sie Ihre Erwartungswerte für die totale und mobile Porosität,\n",
    "* Bestimmen Sie das Volumen des Gefäßes $V_t$, in welches Sie die Sedimente für den Versuch füllen möchten.\n",
    "Ermitteln Sie das Volumen über die Wassermenge (bzw. das Gewicht des Wassers), welches das Gefäß bei kompletter Füllung fasst.\n",
    "* Leeren Sie das Gefäß, trocknen Sie dieses ab und füllen Sie anschliessend das Gefäß komplett mit Sediment.\n",
    "* Erfassen Sie die Wassermenge $V_1$, welche in das komplett mit Sediment gefüllte Gefäß passt (z. B. mit Hilfe der gravimetrisch ermittelten Differenz der Massen).\n",
    "* Erfassen Sie die Wassermenge $V_2$, welche aus dem komplett mit Sediment gefüllte Gefäß wieder ausfliesst (z. B. mit Hilfe der gravimetrisch ermittelten Differenz der Massen).\n",
    "* Mit Hilfe der folgenden Gleichungen können Sie nun die totale und mobile Porosität berechnen:\n",
    "\n",
    "\\begin{equation}\n",
    "n_{t} = \\frac{V_1} {V_t}\n",
    "\\end{equation}  \n",
    "\n",
    "\n",
    "\\begin{equation}\n",
    "n_{mob} = \\frac{V_2} {V_t}\n",
    "\\end{equation}\n",
    "\n",
    "* Vergleichen Sie die experimentell ermittelten Porositäten mit Ihren Erwartungswerten und analysieren Sie ggf. Unsicherheiten und Fehlerquellen.\n",
    "\n",
    "Für die Berechnung können Sie auch nachfolgendes Skript verwenden."
   ]
  },
  {
   "cell_type": "code",
   "execution_count": 60,
   "metadata": {},
   "outputs": [
    {
     "name": "stdout",
     "output_type": "stream",
     "text": [
      "Berechnung der totalen (n_t) und mobilen (n_mob) Porosität:\n"
     ]
    },
    {
     "data": {
      "application/vnd.jupyter.widget-view+json": {
       "model_id": "2c13f47e34c54125868bd6d5023ec90c",
       "version_major": 2,
       "version_minor": 0
      },
      "text/plain": [
       "interactive(children=(BoundedFloatText(value=0.3, description='V_1 [dm^3]', max=1000.0, step=1e-15), BoundedFl…"
      ]
     },
     "metadata": {},
     "output_type": "display_data"
    }
   ],
   "source": [
    "from IPython.display import display\n",
    "import ipywidgets as widgets\n",
    "import matplotlib.pyplot as plt\n",
    "\n",
    "print('Berechnung der totalen (n_t) und mobilen (n_mob) Porosität:')\n",
    "\n",
    "def n(V_1,V_2,V_t):\n",
    "    n_t = V_1/V_t\n",
    "    n_mobil = V_2/V_t\n",
    "    print(\"    n_t = %1.2f\"% n_t)\n",
    "    print(\"n_mobil = %1.2f\"% n_mobil)\n",
    "    \n",
    "    plt.style.use('seaborn-bright')\n",
    "    labels = 'Nutzporenraum', 'Haftwasserraum'\n",
    "    sizes = [n_mobil/n_t, 1-(n_mobil/n_t)]\n",
    "    colors = ['lightblue', 'green']\n",
    "\n",
    "\n",
    "    plt.pie(sizes,\n",
    "            labels=labels,\n",
    "            colors=colors,\n",
    "            autopct='%1.2f%%',\n",
    "            startangle=90)\n",
    "\n",
    "    plt.axis('equal')\n",
    "\n",
    "    plt.show()\n",
    "\n",
    "w = interactive(n,      V_1=widgets.BoundedFloatText(\n",
    "                        value=0.3,\n",
    "                        min=0,\n",
    "                        max=1000.0,\n",
    "                        step=0.000000000000001,\n",
    "                        description='V_1 [dm^3]',\n",
    "                        ),\n",
    "                        V_2=widgets.BoundedFloatText(\n",
    "                        value=0.25,\n",
    "                        min=0,\n",
    "                        max=1000.0,\n",
    "                        step=0.000000000000001,\n",
    "                        description='V_2 [dm^3]',\n",
    "                        ),\n",
    "                        V_t=widgets.BoundedFloatText(\n",
    "                        value=1,\n",
    "                        min=0,\n",
    "                        max=1000.0,\n",
    "                        step=0.000000000000001,\n",
    "                        description='V_t [dm^3]',\n",
    "                        )\n",
    "                       )\n",
    "display(w)\n"
   ]
  },
  {
   "cell_type": "code",
   "execution_count": null,
   "metadata": {},
   "outputs": [],
   "source": [
    "## <a id='6'></a> Trockenroh- bzw. Lagerungsdichte\n",
    "\n",
    "MARKER"
   ]
  },
  {
   "cell_type": "code",
   "execution_count": null,
   "metadata": {},
   "outputs": [],
   "source": [
    "## <a id='7'></a> 7 Gesättigte und ungesättigte Verhältnisse \n",
    "Was denken Sie? Ist der Durchfluss unter gesättigten oder unter ungesättigten Bedingungen höher?  \n",
    "\n",
    "Um Ihre Vermutung zu bestätigen, führen Sie den folgenden Versuch durch:\n",
    "* Platzieren Sie die mit Sand gefüllte Flasche zusammen mit dem Plastikbecher in der Schüssel.\n",
    "* Zusätzlich benötigen Sie 300 ml Wasser und eine Stoppuhr.\n",
    "* Lassen Sie die Stoppuhr laufen und füllen das Wasser nach und nach in die Flasche, immer gerade so viel, dass der Wasserspiegel einen Zentimeter über dem Sand steht.\n",
    "* Stoppen Sie die Zeit, wenn das Wasser aufgebraucht ist und der Wasserspiegel die Höhe der Sandschicht erreicht. Notieren Sie die Dauer. \n",
    "\n",
    "Lassen sie für den zweiten Teil des Versuches eine weitere Menge an Wasser durch die Sandschicht laufen und rühren Sie dabei den Sand gut durch. Daraufhin wird das Experiment wie zuvor durchgeführt, die 300 ml Wasser werden abgemessen und unter den selben Bedingungen in die mit feuchtem Sand beladene Flasche eingefüllt. Sobald der Wasserspiegel die Zentimetermarke unterschreitet und bis auf die Sandschicht absinkt, stoppen Sie die Zeit.  \n",
    "\n",
    "Inwiefern unterscheiden sich die Zeiten aus den beiden Versuchen? Hat sich Ihre Vermutung bestätigt?"
   ]
  },
  {
   "cell_type": "markdown",
   "metadata": {},
   "source": [
    "Berechnen Sie noch einmal die hydraulische Leitfähigkeit, aber diesmal unter veränderten Startbedingungen: \n",
    "* Verdoppeln Sie die Höhe der Sandschicht bei gleichbleibender Druckhöhe \n",
    "* Halbieren Sie die die Druckhöhe bei gleichbleibender Höhe der Sandschicht\n",
    "\n",
    "Was fällt Ihnen bei Betrachtung der Ergebnisse auf? In welcher Korrelation stehen sie zueinander? "
   ]
  },
  {
   "cell_type": "markdown",
   "metadata": {},
   "source": [
    "<hr>\n",
    "&copy; 2021 | Bruno Scheffel / Thomas Reimann\n",
    "<a rel=\"license\" href=\"http://creativecommons.org/licenses/by/4.0/\"><img style=\"float: right\" alt=\"Creative Commons Lizenzvertrag\" style=\"border-width:0\" src=\"https://i.creativecommons.org/l/by/4.0/88x31.png\" /></a>"
   ]
  }
 ],
 "metadata": {
  "kernelspec": {
   "display_name": "Python 3",
   "language": "python",
   "name": "python3"
  },
  "language_info": {
   "codemirror_mode": {
    "name": "ipython",
    "version": 3
   },
   "file_extension": ".py",
   "mimetype": "text/x-python",
   "name": "python",
   "nbconvert_exporter": "python",
   "pygments_lexer": "ipython3",
   "version": "3.7.4"
  }
 },
 "nbformat": 4,
 "nbformat_minor": 4
}
