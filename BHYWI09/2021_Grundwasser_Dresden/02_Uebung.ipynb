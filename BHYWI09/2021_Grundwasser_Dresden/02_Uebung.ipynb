{
 "cells": [
  {
   "cell_type": "markdown",
   "metadata": {},
   "source": [
    "<img src='./img/TUD_logo.png' align='right' width='200'></img>"
   ]
  },
  {
   "cell_type": "markdown",
   "metadata": {},
   "source": [
    "<a href=\"./01_Grundlagen.ipynb\"><< 01 - Grundlagen</a><span style=\"float:right;\"><a href=\"./03_Praktikum.ipynb\">03 - Praktikum - Eigenständiges Experiment / Darcy-Versuch>></a></span>"
   ]
  },
  {
   "cell_type": "markdown",
   "metadata": {},
   "source": [
    "# Übung am Beispiel Dresdens \n",
    "\n",
    "## Übersicht\n",
    "Die Stadt Dresden hat eine interaktive Karte mit Messwerten der Grundwassermesstellen bereitgestellt. Unter diesem Link können Sie die Karte mit Ihrem Webbrowser aufrufen: https://stadtplan.dresden.de/?TH=UWA_GRUWA_MESS.\n",
    "\n",
    "1. Ihre Aufgabe ist es nun, die Messdaten im Stadtbezirk Laubegast auszuwerten und die Fließrichtung des Grundwassers zu bestimmen. Ziehen Sie auch die Elbe in Ihre Beobachtungen mit ein: Herrschen effluente oder influente Verhältnisse? \n",
    "\n",
    "2. Sie möchten die Neigung des auf die Elbe aus südlicher Richtung zulaufenden Grundwasserleiters bestimmen. Wählen Sie dafür das Werkzeug \"Messen\" aus und bestimmen Sie den Gradienten i, nachdem Sie die Entfernung von zwei Grundwassermessstellen abgemessen haben.\n",
    "\n",
    "Nutzen Sie diesen Bereich:  \n",
    "\n",
    "<img src=\"img/Bild10.png\" width=\"650\">\n",
    "<figcaption>Abb.15: Stadteil Laubegast, interaktive geohydraulische Karte Dresden.  entnommen aus:https://stadtplan.dresden.de/?TH=UWA_GRUWA_MESS </figcaption>\n",
    "\n",
    "## Hydraulische Leitfähigkeit\n",
    "\n",
    "Damit verbleibt der Faktor $K$ in Darcys Auswertung der Experimente stehen. Der $K$-Wert ist die hydraulische Leitfähigkeit (oder auch Durchlässigkeitsbeiwert genannt) des durchströmten Mediums und wird in der Dimension [L/T] (z. B. in m/s) angegeben.\n",
    "\n",
    "Er wird von verschiedenen Komponenten wie der Porosität, der Größe und Struktur des Mediums, oder auch der Dichte der Flüssigkeit beeinflusst.\n",
    "\n",
    "Je nach Lockergestein unterscheiden sich die hydraulischen Leitfähigkeiten unter Umständen sehr deutlich.\n",
    "So kann Ton eine um mehrere Größenordnungen kleinere hydraulische Leitfähigkeit als Kies aufweisen. \n",
    "\n",
    "<img src=\"img/Bild24.png\" width=\"450\">\n",
    "<figcaption>Abb.16 - Darstellung der unterschiedlichen hydraulischen Leitfähigkeiten, Keith., Einführung in die Physische Geographie,https://slideplayer.org/slide/648838/1/images/16</figcaption>\n",
    "\n",
    "Weiterhin legte Darcy den Grundstein für die sogenannte: \"Darcy-Geschwindigkeit\" $v_f$, auch Filtergeschwindigkeit genannt. Sie wird in m/s angegeben.\n",
    "\n",
    "Doch **Achtung!** \n",
    "Hierbei handelt es sich nur um eine scheinbare Geschwindigkeit. Denn die Poren und der damit verbundene Umweg, den das durch den Sand fließende  Wasser nehmen muss, wird nicht mit einberechnet. Der tatsächliche Fließweg ist deutlich länger. \n",
    "<div>\n",
    "   <img=src=\"img/Bild25.png\" width=\"450\">\n",
    "    <figcaption>Abb.17 - tatsächlicher Fließweg im porösen Medium. Boley, Geotechnik 1, 2017</figcaption>\n",
    "</div>\n",
    "\"Darcy-Geschwindigkeit\":\n",
    "\n",
    "$v_f= \\frac{Q} {A}$\n",
    "\n",
    "\n",
    "Die tatsächliche Abstandsgeschwindigkeit $v_a$ ergibt sich aus dem Quotienten der \"Darcy-Geschwindigkeit\" $v_f$ und der effektiven Porosität $n_e$.\n",
    "\n",
    "$v_a = \\frac{v_f } {n_e}$"
   ]
  },
  {
   "cell_type": "markdown",
   "metadata": {},
   "source": [
    "<hr>\n",
    "&copy; 2021 | Bruno Scheffel / Thomas Reimann\n",
    "<a rel=\"license\" href=\"http://creativecommons.org/licenses/by/4.0/\"><img style=\"float: right\" alt=\"Creative Commons Lizenzvertrag\" style=\"border-width:0\" src=\"https://i.creativecommons.org/l/by/4.0/88x31.png\" /></a>"
   ]
  },
  {
   "cell_type": "code",
   "execution_count": null,
   "metadata": {},
   "outputs": [],
   "source": []
  }
 ],
 "metadata": {
  "kernelspec": {
   "display_name": "Python 3",
   "language": "python",
   "name": "python3"
  },
  "language_info": {
   "codemirror_mode": {
    "name": "ipython",
    "version": 3
   },
   "file_extension": ".py",
   "mimetype": "text/x-python",
   "name": "python",
   "nbconvert_exporter": "python",
   "pygments_lexer": "ipython3",
   "version": "3.7.4"
  }
 },
 "nbformat": 4,
 "nbformat_minor": 4
}
