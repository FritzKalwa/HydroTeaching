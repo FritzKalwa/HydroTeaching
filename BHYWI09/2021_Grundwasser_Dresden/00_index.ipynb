{
 "cells": [
  {
   "cell_type": "markdown",
   "metadata": {},
   "source": [
    "<img src='./img/TUD_logo.png' align='right' width='30%'></img>"
   ]
  },
  {
   "cell_type": "code",
   "execution_count": null,
   "metadata": {},
   "outputs": [],
   "source": [
    "# Grundwasser `'in und um Dresden'`"
   ]
  },
  {
   "cell_type": "markdown",
   "metadata": {},
   "source": [
    "### Eine `interaktive` und `praktische` Einführung in die Grundwasserbewirtschaftung bzw. Hydrogeologie\n",
    "\n",
    "\n",
    "#### Autoren\n",
    "* [Bruno Scheffel](https://jwagemann.com) | Student der Wasserwirtschaft an der TU Dresden\n",
    "* [Thomas Reimann](https://tu-dresden.de/bu/umwelt/hydro/igw) | wiss. Mitarbeiter am Institut für Grundwasserwirtschaft der TU Dresden\n",
    "\n",
    "#### Weitere Beiträge von\n",
    "* [Julia Wagemann](https://jwagemann.com) | Independent consultant and Phd student at University of Marburg - Gestaltung und Organisation / Layout der interaktiven Dokumente\n",
    "\n",
    "####  Zugang zu den interaktiven Dokumenten\n",
    "Die interaktiven Jupyter Notebooks sind verfügbar auf [GitHub](https://github.com/ThoReimann/HydroTeaching)."
   ]
  },
  {
   "cell_type": "markdown",
   "metadata": {},
   "source": [
    "<hr>"
   ]
  },
  {
   "cell_type": "markdown",
   "metadata": {},
   "source": [
    "## Warum geht es in diesem Lehrmaterial?"
   ]
  },
  {
   "cell_type": "markdown",
   "metadata": {},
   "source": [
    "\n",
    "Das Lehrmaterial möchte eine `interaktive` und `praktische` Einführung in die Grundwasserbewirtschaftung und Hydrogeologie geben. Dabei fokusieren wir auf die lokalen Begebenheiten im Dresdener Umfeld. Die interaktiven Dokumente in Form von Jupyter Notebooks erlauben es, dass Sie sich eigenständig mit den Inhalten auseinander setzen. Dazu enthalten die interaktiven Jupyter Notebooks Text, Bilder, Video aber auch interaktive Grafiken und Berechnungen sowie Kontrollfragen.\n",
    "\n",
    "Neben den eher theoretischen Grundlagen enthält das Lehrmaterial aber auch eine Anleitung für ein praktisches Experiment, dass Sie eigenständig mit einfachen Materialien durchführen können.\n",
    "\n",
    "Mit dem Lehrmaterial möchten wir Sie motivieren, sich mit dem interessanten und herausfordernden Thema Grundwasserbewirtschaftung auseinander zu setzen. Ebenso möchten wir Ihnen mit den Experimenten einen praktischen Zugang zu der teilweise abstrakten Materie `Grundwasser` erlauben. Viel Erfolg und Viel Spass!"
   ]
  },
  {
   "cell_type": "markdown",
   "metadata": {},
   "source": [
    "## Inhalt"
   ]
  },
  {
   "cell_type": "code",
   "execution_count": null,
   "metadata": {},
   "outputs": [],
   "source": [
    "Die interaktiven Dokumente sind wie folgt strukturiert:\n",
    "\n",
    "* [01 - Grundlagen der Grundwasserbewirtschaftung und Hydrogeologie](01_Grundlagen.ipynb)\n",
    "* [02 - Übung zum Grundwasser in Dresden](02_Uebung.ipynb)\n",
    "* [03 - Praktikum - Eigenständiges Experiment (Darcy-Versuch)](03_Praktikum.ipynb)"
   ]
  },
  {
   "cell_type": "markdown",
   "metadata": {},
   "source": [
    "<hr>\n",
    "&copy; 2020 | Bruno Scheffel / Thomas Reimann\n",
    "<a rel=\"license\" href=\"http://creativecommons.org/licenses/by/4.0/\"><img style=\"float: right\" alt=\"Creative Commons Lizenzvertrag\" style=\"border-width:0\" src=\"https://i.creativecommons.org/l/by/4.0/88x31.png\" /></a>"
   ]
  },
  {
   "cell_type": "code",
   "execution_count": null,
   "metadata": {},
   "outputs": [],
   "source": []
  }
 ],
 "metadata": {
  "kernelspec": {
   "display_name": "Python 3",
   "language": "python",
   "name": "python3"
  },
  "language_info": {
   "codemirror_mode": {
    "name": "ipython",
    "version": 3
   },
   "file_extension": ".py",
   "mimetype": "text/x-python",
   "name": "python",
   "nbconvert_exporter": "python",
   "pygments_lexer": "ipython3",
   "version": "3.7.4"
  }
 },
 "nbformat": 4,
 "nbformat_minor": 2
}
