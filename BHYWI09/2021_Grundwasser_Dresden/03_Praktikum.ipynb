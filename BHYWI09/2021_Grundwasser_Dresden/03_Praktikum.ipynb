{
 "cells": [
  {
   "cell_type": "markdown",
   "metadata": {},
   "source": [
    "<img src='./img/TUD_logo.png' align='right' width='200'></img>"
   ]
  },
  {
   "cell_type": "markdown",
   "metadata": {},
   "source": [
    "<a href=\"./02_Uebung.ipynb\"><< 02 - Übung zum Grundwasser in Dresden</a><span style=\"float:right;\"></a></span>"
   ]
  },
  {
   "cell_type": "markdown",
   "metadata": {},
   "source": [
    "# Darcy Experiment - zum Selbstaufbau\n",
    "\n",
    "## Zielstellung und Vorüberlegungen\n",
    "\n",
    "Das Ziel dieses Experimentes ist es, Sie an die grundlegenden Prozesse der Wasserbewegungen im Untergrund heranzuführen. Da Ihnen der Versuchsaufbau nach Darcy sowie die zugehörige Darcy Gleichung bereits vertraut sind, bietet sich hierbei ein Experiment zur praktischen Erläuterung an.\n",
    "\n",
    "<img src=\"img/Bild2.jfif\" width = '200'>\n",
    "<figcaption>Abb.18 - Abbildung des originalen Darcy Experimentes, 1856. https://encrypted-tbn0.gstatic.com/images?q=tbn:ANd9GcTH4zWmobIF73AmbY1QxzW5Dsc9AF8SAGnF6A&usqp=CAU</figcaption> \n",
    "\n",
    "\\begin{equation}\n",
    "q= \\frac{Q} {A} = -K \\cdot i = -K \\frac{\\Delta{h}} {\\Delta{l}}\n",
    "\\end{equation}\n",
    "\n",
    "Üblicherweise wird der Darcy-Versuch unter kontrollierten Bedingungen mit Hilfe eines großen Zylinders, geregelter Wasserzufuhr und Piezometern durchgeführt. Unter besonderen Umständen jedoch, wie beispielsweise der COVID-19 Epidemie, können nicht immer zentral organisierte Laborpraktika arrangiert werden.\n",
    "\n",
    "An dieser Stelle bietet sich die Möglichkeit eines selbstgebauten Versuches für Sie zu Hause an. Das folgende Experiment soll folglich für jeden Studierenden mit möglichst wenigen, im besten Falle schon im Haushalt vorhandenen Hilfsmitteln, aufgebaut und ausgeführt werden können. Hierbei ist Ihre Kreativität gefragt, um die Ihnen zu Verfügung stehenden Materialien und Hilfsmittel so zu verwenden, dass Sie bestmögliche Ergebnisse erzielen.\n",
    "\n",
    "Alle für diese Experimente benötigten Materialen sollten in Ihrem nächstegelegenen Baumarkt zu finden sein oder bereits zu Hause vorhanden sein."
   ]
  },
  {
   "cell_type": "markdown",
   "metadata": {},
   "source": [
    "<div class=\"alert alert-block alert-success\">\n",
    "Mit dem folgenden Slider können Sie sehen, wie sich ihr Durchfluss unter verschiedenen Bedingungen ändert. Der ausgegebene Wert entspricht dem Durchfluss Q [$m^3$/s]. Die Startwerte sind so gewählt, dass die den möglichen Einstellungen des Experimentes entsprechen.\n",
    "</div>"
   ]
  },
  {
   "cell_type": "code",
   "execution_count": 4,
   "metadata": {},
   "outputs": [
    {
     "data": {
      "application/vnd.jupyter.widget-view+json": {
       "model_id": "af3796e102634c7b963eaf429d2af898",
       "version_major": 2,
       "version_minor": 0
      },
      "text/plain": [
       "interactive(children=(FloatLogSlider(value=0.0005, description='K [m/s]:', max=0.01, min=-10.0, step=0.0001), …"
      ]
     },
     "metadata": {},
     "output_type": "display_data"
    }
   ],
   "source": [
    "from ipywidgets import interact, interactive, fixed, interact_manual\n",
    "from IPython.display import display\n",
    "from IPython.display import clear_output\n",
    "from ipynb.fs.full.functions import create_multipleChoice_widget\n",
    "\n",
    "import ipywidgets as widgets\n",
    "import numpy as np\n",
    "import math as m\n",
    "import matplotlib.pyplot as plt\n",
    "import forallpeople as si\n",
    "import sys\n",
    "\n",
    "def Q(K,A,h,l):\n",
    "    print(\"spezifischer Durchfluss q = %8.2e\"% (K * A * (h/l)), \"m/s bzw. %8.2f\"% (K * A * (h/l)*86400), \" m/d\")\n",
    "\n",
    "w = interactive(Q,K=widgets.FloatLogSlider(min=-10, max=0.01,value=0.0005, step=0.0001,description='K [m/s]:'),\n",
    "                        A=widgets.FloatLogSlider(min=-4, max=-2, value=0.0050, step=0.001,description='A [$m^2$]:'),\n",
    "                        h=widgets.FloatLogSlider(min=-2, max=-0.2, value=0.2, step=0.001,description='$\\Delta$h [m]:'),\n",
    "                        l=widgets.FloatLogSlider(min=-2, max=-0.3, value=0.1, step=0.001,description='$\\Delta$l [m]:'),\n",
    "                       )\n",
    "display(w)"
   ]
  },
  {
   "cell_type": "markdown",
   "metadata": {},
   "source": [
    "## Aufbau des Experimentes\n",
    "\n",
    "Anstelle des Darcy Zylinders wählen wir eine handelsübliche PET-Flasche. Idealerweise soll die Flasche die Form eines Zylinders aufweisen, der Durchmesser der Flasche sollte im gesamten Mittelteil konstant bleiben, das heißt es dürfen keine Verengungen oder Auswölbungen vorhanden sein. Sie benötigen folgende Materialien: \n",
    "* mehrere PET-Flaschen\n",
    "* ein Bandmaß oder einen Zollstock\n",
    "* ein Messer (idealerweise Cuttermesser)\n",
    "* ein Smartphone oder eine Stoppuhr\n",
    "* einen Plastikbecher\n",
    "* einen Jogurtbecher \n",
    "* ein wasserdurchlässiges Netzgewebe (es sollte engmaschig genug sein, um den Sand abzuhalten)\n",
    "* eine Küchenwaage\n",
    "* einen Permanentmarker\n",
    "* Kies\n",
    "* zwei Sande unterschiedlicher Korngröße\n",
    "* eine etwa 5-8 cm hohe Schüssel mit ebenem Boden\n",
    "\n",
    "<img src=\"img/Bild1.png\" width=\"600\">\n",
    "<figcaption>Abb.19 - benötigte Materialien und Geräte</figcaption>\n",
    "\n",
    "Zuallererst muss der Boden der Flasche mit dem Cuttermesser abgetrennt werden. Als nächstes versehen Sie die beiden Becher und den abgetrennten Boden mit Löchern.\n",
    "Eine gute Methode um eine gleichmäßige Verteilung zu erreichen, ist das Einbrennen mit einem erhitzen Metall, beispielsweise eines Nagels. Der Plastikbecher wird als Ständer dienen, um ein Umkippen der Flasche zu vermeiden und einen geregelten Wasseraustausch zu gewärleisten. Der durchlöcherte Jogurtbecher wird nur für die gleichmäßige Verteilung des einzufüllenden Wassers benötigt und kann genauso gut gegen einen Gegenstand mit gleichwertiger Funktion ausgetauscht werden. Nachdem Sie dies getan haben, sollte es wiefolgt aussehen:\n",
    "\n",
    "<img src=\"img/Bild3.jfif\" width=\"450\">\n",
    "<figcaption>Abb.20 - Vorbereitung der Flaschen und Becher</figcaption>\n",
    "\n",
    "Setzen Sie nun den abgesägten Flaschenboden verkehrt herum in die umgedrehte Flasche ein, drücken Sie ihn bis ganz nach unten und befüllen Sie die Mulde mit Kies. Der nächste Schritt erfordert ein wenig Fingerspitzengefühl. Sie wollen ihr Netzgewebe so zurechtschneiden, dass es auf der Kiesschicht aufliegt und gleichzeitig einen Mantel für den später hinzugegebenen Sand dient. Haben sie hierbei Probleme, ist es ratsam das Netz an die innere Flaschenwand anzukleben. Setzen Sie also das Netzgewebe ein und füllen Sie die Flasche mit dem gröberen Sand auf, so dass die Höhe der Sandschicht ungefähr zwischen 5-7 cm beträgt.\n",
    "Setzen Sie dann den Experimentieraufbau wie in dieser Abbildung zu sehen, zusammen:\n",
    " \n",
    "<img src=\"img/Bild4.png\" width=\"450\">\n",
    "<figcaption>Abb.21 - mit Kies und Sand/Kies befüllte Flasche </figcaption>\n",
    "\n",
    "\n",
    "## Gesättigte und ungesättigte Verhältnisse \n",
    "Was denken Sie? Ist der Durchfluss unter gesättigten oder unter ungesättigten Bedingungen höher? Um Ihre Vermutung zu bestätigen, führen Sie den folgenden Versuch durch. Platzieren Sie die mit Sand gefüllte Flasche zusammen mit dem Plastikbecher in der Schüssel. Zusätzlich benötigen Sie 300 ml Wasser und eine Stoppuhr. Lassen Sie die Stoppuhr laufen und füllen das Wasser nach und nach in die Flasche, immer gerade so viel, dass der Wasserspiegel einen Zentimeter über dem Sand steht. Stoppen Sie die Zeit, wenn das Wasser aufgebraucht ist und der Wasserspiegel die Höhe der Sandschicht erreicht. Notieren Sie die Dauer. \n",
    "\n",
    "Lassen sie für den zweiten Teil des Versuches eine weitere Menge an Wasser durch die Sandschicht laufen und rühren Sie dabei den Sand gut durch. Daraufhin wird das Experiment wie zuvor durchgeführt, die 300 ml Wasser werden abgemessen und unter den selben Bedingungen in die mit feuchtem Sand beladene Flasche eingefüllt. Sobald der Wasserspiegel die Zentimetermarke unterschreitet und bis auf die Sandschicht absinkt, stoppen Sie die Zeit. \n",
    "\n",
    "Inwiefern unterscheiden sich die Zeiten aus den beiden Versuchen? Hat sich Ihre Vermutung bestätigt? \n",
    "\n",
    "## Versuch nach Darcy - Ermittlung der hydraulischen Leitfähigkeit\n",
    "### Vorbereitung des Experimentes\n",
    "Es ist empfehlenswert dieses Experiment in Ihrer Badewanne, der Dusche, dem Waschbecken oder draußen im Freien durchzuführen, da es zu einem Wasserabfluss kommen wird. Zunächst stellen Sie die Schüssel auf dem Boden ab und setzen den Plastikbecher mit der umgedrehten und mit Sand befüllten Flasche in die Mitte der Schüssel. \n",
    "Für die Anwendbarkeit des Darcy Gesetzes wird eine gesättigte Sandschicht benötigt. Befüllen Sie deshalb die Flasche mit Wasser und geben Sie weiter Wasser nach, sodass ein stetiger Fluss entsteht. Dabei ist es angebracht den Sand umzurühren, auf diese Weise können im Sand eingeschlossene, für unser Experiment unerwünschte, Luftblasen entfernt werden. \n",
    "Die Schüssel sollte nach einiger Zeit bis zum Rand mit Wasser gefüllt sein.\n",
    "\n",
    "Nehmen Sie ihr Maßband und messen Sie entlang der Flasche eine Distanz von 20 cm ab, beginnend vom Wasserstand der Schüssel bis hin zum oberen Drittel der Flasche. Markieren Sie mit dem Permanentmarker die Position mit einem Strich. Nutzen Sie das Maßband um den Umfang zu messen und daraus die Querschnittsfläche der Flasche zu berechnen. Sie kennen nun den Druckhöhenunterschied, Die Länge und den Querschnitt des durchströmen Mediums. Um die Darcy Gleichung anwenden zu können und die hydraulische Leitfähigkeit zu bestimmen, muss nur noch der Durchfluss pro Zeit ermittelt werden.\n",
    "Füllen Sie zwei leere PET-Flaschen mit Wasser.\n",
    "Eine grobe Skizze des Versuchsdurchgangs sieht folgendermaßen aus:\n",
    "\n",
    " <img src=\"img/Bild5.png\" width=\"600\">\n",
    " <figcaption>Abb.22: Skizze Versuchsaufbau</figcaption>\n",
    "\n",
    "### Durchführung des Experimentes \n",
    "Wiegen sie nun die erste Flasche mit der Küchenwaage und notieren Sie sich das Gewicht. \n",
    "Befüllen Sie als nächstes mit der zweiten Flasche die Darcy-Flasche, sodass der Wasserstand weit über der Markierung liegt. Halten Sie die Stoppuhr bereit, denn sobald der sinkende Wasserpegel die Markierung erreicht, muss die Zeit gemessen werden. Hierbei ist es Ihnen überlassen, wie lange Sie den Versuch durchführen werden. Zu beachten ist jedoch, dass eine längere Durchlaufzeit ein genaueres Ergebnis liefern wird. Sobald sie Anfangen die Zeit zu messen, sollten Sie im gleichmäßigen Abstand Wasser aus der ersten Flasche nachfüllen, sodass der Wasserpegel immer erhalten bleibt und das Ergebnis nicht verfälscht wird.\n",
    "Nachdem Sie sich dazu entschieden haben den Versuch zu stoppen, notieren Sie sich die verlaufene Zeit und wiegen die PET-Flasche erneut. Mit der Differenz der Gewichte und der gemessenen Zeit ist es dann möglich, den Durchfluss zu errechnen. \n",
    "\n",
    "Führen Sie diesen Versuch mehrere Male durch und ermitteln sie den mittleren Durchfluss. Damit sind Ihnen alle notwendigen Werte bekannt um die hydraulische Leitfähigkeit mit Hilfe der Darcy Gleichung zu berechnen. \n",
    "\n",
    "Führen Sie im Anschluss exakt den selben Versuch nocheinmal durch (er wird zur gleichen Zeit abgebrochen), doch diesmal mit der anderen, feineren Sandprobe.  \n",
    "\n",
    "* Welche Veränderung des Durchflusses erwarten Sie? Wird der Unterschied minimal oder doch gravierend sein? \n",
    "* Berechnen Sie auch hier die hydraulische Leitfähigkeit. \n",
    "* Ordnen Sie Ihre Probe an Hand der hydraulischen Leitfähigkeit einem Sedimenttyp zu:\n",
    " \n",
    " <img src=\"img/Bild27.png\" width=\"290\">\n",
    " <figcaption>Abb.23 - K-Werte unterschiedlicher Sedimente. Wagner, Einführung in die Geoströmungstechnik, TU-Freiberg</figcaption>\n",
    "\n",
    "Berechnen Sie noch einmal die hydraulische Leitfähigkeit, aber diesmal unter veränderten Startbedingungen: \n",
    "* Verdoppeln Sie die Höhe der Sandschicht bei gleichbleibender Druckhöhe \n",
    "* Halbieren Sie die die Druckhöhe bei gleichbleibender Höhe der Sandschicht\n",
    "\n",
    "Was fällt Ihnen bei Betrachtung der Ergebnisse auf? In welcher Korrelation stehen sie zueinander? "
   ]
  },
  {
   "cell_type": "markdown",
   "metadata": {},
   "source": [
    "## Kontrollfragen"
   ]
  },
  {
   "cell_type": "code",
   "execution_count": 3,
   "metadata": {},
   "outputs": [
    {
     "data": {
      "application/vnd.jupyter.widget-view+json": {
       "model_id": "715d8dfb2cf54c7093abccba3eba0328",
       "version_major": 2,
       "version_minor": 0
      },
      "text/plain": [
       "VBox(children=(Output(), RadioButtons(options=(('Q unterscheidet sich kaum', 0), ('Q ist halb so hoch', 1), ('…"
      ]
     },
     "metadata": {},
     "output_type": "display_data"
    },
    {
     "data": {
      "application/vnd.jupyter.widget-view+json": {
       "model_id": "364fb87e5c744917a4627660ec36085c",
       "version_major": 2,
       "version_minor": 0
      },
      "text/plain": [
       "VBox(children=(Output(), RadioButtons(options=(('Q unterscheidet sich kaum', 0), ('Q ist halb so hoch', 1), ('…"
      ]
     },
     "metadata": {},
     "output_type": "display_data"
    },
    {
     "data": {
      "application/vnd.jupyter.widget-view+json": {
       "model_id": "b02088e2e32c4ee0b90a9dfe1bffc623",
       "version_major": 2,
       "version_minor": 0
      },
      "text/plain": [
       "VBox(children=(Output(), RadioButtons(options=(('länger als 1 Stunde', 0), ('länger als 10 Stunden', 1), ('län…"
      ]
     },
     "metadata": {},
     "output_type": "display_data"
    }
   ],
   "source": [
    "Frage1 = \"Frage 1: Wie verändert sich der Durchfluss Q, wenn die Höhe der Sandschicht verdoppelt wird?\"\n",
    "A1_1 = \"Q unterscheidet sich kaum\"\n",
    "A1_2 = \"Q ist halb so hoch\"\n",
    "A1_3 = \"Q ist doppelt so hoch\"\n",
    "A1_4 = \"Q sinkt exponentiell ab\"\n",
    "\n",
    "Frage2 = \"Frage 2: Wie verändert sich der Durchfluss Q, wenn $\\Delta h$ halbiert wird?\"\n",
    "A2_1 = \"Q unterscheidet sich kaum\"\n",
    "A2_2 = \"Q ist halb so hoch\"\n",
    "A2_3 = \"Q ist doppelt so hoch\"\n",
    "A2_4 = \"Q sinkt exponentiell ab\"\n",
    "\n",
    "Frage3 = \"Frage 3: Nehmen Sie an, das Wasser benötigt in ihrem Versuch 10 Sekunden um durch die Sandschicht zu filtrieren. Wie lange würde es ganz grob geschätzt dauern, wenn Sie den Sand durch Ton ersetzen?\"\n",
    "A3_1 = \"länger als 1 Stunde\"\n",
    "A3_2 = \"länger als 10 Stunden\"\n",
    "A3_3 = \"länger als 1 Tag\"\n",
    "A3_4 = \"länger als 10 Tage\"\n",
    "\n",
    "Q1 = create_multipleChoice_widget(Frage1,[A1_1,A1_2,A1_3,A1_4],A1_2)\n",
    "Q2 = create_multipleChoice_widget(Frage2,[A2_1,A2_2,A2_3,A2_4],A2_2)\n",
    "Q3 = create_multipleChoice_widget(Frage3,[A3_1,A3_2,A3_3,A3_4],A3_4)\n",
    "\n",
    "display(Q1)\n",
    "display(Q2)\n",
    "display(Q3)"
   ]
  },
  {
   "cell_type": "markdown",
   "metadata": {},
   "source": [
    "<hr>\n",
    "&copy; 2021 | Bruno Scheffel / Thomas Reimann\n",
    "<a rel=\"license\" href=\"http://creativecommons.org/licenses/by/4.0/\"><img style=\"float: right\" alt=\"Creative Commons Lizenzvertrag\" style=\"border-width:0\" src=\"https://i.creativecommons.org/l/by/4.0/88x31.png\" /></a>"
   ]
  },
  {
   "cell_type": "code",
   "execution_count": null,
   "metadata": {},
   "outputs": [],
   "source": []
  }
 ],
 "metadata": {
  "kernelspec": {
   "display_name": "Python 3",
   "language": "python",
   "name": "python3"
  },
  "language_info": {
   "codemirror_mode": {
    "name": "ipython",
    "version": 3
   },
   "file_extension": ".py",
   "mimetype": "text/x-python",
   "name": "python",
   "nbconvert_exporter": "python",
   "pygments_lexer": "ipython3",
   "version": "3.8.5"
  }
 },
 "nbformat": 4,
 "nbformat_minor": 4
}
