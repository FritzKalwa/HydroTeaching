{
 "cells": [
  {
   "cell_type": "markdown",
   "metadata": {},
   "source": [
    "<img src='./img/TUD_logo.png' align='right' width='15%'></img>"
   ]
  },
  {
   "cell_type": "markdown",
   "metadata": {},
   "source": [
    "<a href=\"./02_Uebung.ipynb\"> 02 - Übung zum Grundwasser in Dresden</a>"
   ]
  },
  {
   "cell_type": "markdown",
   "metadata": {},
   "source": [
    "# Experimente in Eigenregie - Charakterisierung Porenraum und Darcy-Versuch\n",
    "<hr>\n",
    "\n",
    "### Inhalte / Übersicht\n",
    "\n",
    "#### [1 Zielstellung und Vorüberlegung](#1)\n",
    "* [Kontrollfragen in Abschnitt 1](#K_1)\n",
    "\n",
    "#### [2 Charakterisierung des Porenraums](#2)\n",
    "* [2.1 Wiederholung und Grundlagen](#2.1)\n",
    "* [2.2 Benötige Materialien](#2.2)\n",
    "* [2.3 Experimentelle Bestimmung des Porenraums](#2.3)\n",
    "* [Kontrollfragen in Abschnitt 2](#K_2)\n",
    "\n",
    "#### [3 Aufbau des Experiments](#3)\n",
    "\n",
    "#### [4 Aufbau des Experiments](#4)\n",
    "* [4.1](#4_1)\n",
    "* [4.2](#4_2)\n",
    "\n",
    "\n",
    "### Empfohlene Literatur / weitere Informationen\n",
    "\n",
    "* [Woessner und Poeter (2021): Hydrogeologic Properties of Earth Materials and Principles of Groundwater Flow (Open Book)](https://gw-project.org/books/hydrogeologic-properties-of-earth-materials-and-principles-of-groundwater-flow/)\n",
    "* [Selker and Or, Soil Hydrology and Biophysics, Oregon State Univ.](https://open.oregonstate.education/soilhydrologyandbiophysics/chapter/hydrodynamics/)\n",
    "\n",
    "\n",
    "### Lernziele\n",
    "\n",
    "<div class=\"alert alert-block alert-success\">\n",
    "    <b>Wenn Sie das Material durcharbeiten, werden Sie folgende Dinge lernen:</b>\n",
    "    <ol>\n",
    "        <li>Sie können die einzelnen Größen der Darcy-Gleichung erläutern</li>\n",
    "        <li>Lernziel</li> \n",
    "    </ol>\n",
    "</div>\n",
    "\n",
    "<hr>"
   ]
  },
  {
   "cell_type": "markdown",
   "metadata": {},
   "source": [
    "\n",
    "## <a id='1'></a>1 Zielstellung und Vorüberlegungen\n",
    "\n",
    "Das Ziel dieses Experimentes ist es, Sie an die grundlegenden Prozesse der Wasserbewegungen im Untergrund heranzuführen. Da Ihnen der Versuchsaufbau nach Darcy sowie die zugehörige Darcy Gleichung bereits vertraut sind, bietet sich hierbei ein Experiment zur praktischen Erläuterung an.\n",
    "\n",
    "<img src=\"img/darcy_orig.png\" width = '350'>\n",
    "<figcaption>\n",
    "    <b>Abb.18:</b> Abbildung des originalen Darcy Experimentes, 1856.\n",
    "    <a href=\"https://open.oregonstate.education/soilhydrologyandbiophysics/chapter/hydrodynamics/\" target=\"_blank\">(von: Selker and Or, Soil Hydrology and Biophysics, Oregon State Univ.</a>\n",
    "</figcaption> \n",
    "\n",
    "\\begin{equation}\n",
    "q= \\frac{Q} {A} = -K \\cdot i = -K \\frac{\\Delta{h}} {\\Delta{l}}\n",
    "\\end{equation}\n",
    "\n",
    " \n",
    "<img src=\"img/Bild27.png\" width=\"290\">\n",
    "<figcaption>Abb.23 - K-Werte unterschiedlicher Sedimente. Wagner, Einführung in die Geoströmungstechnik, TU-Freiberg</figcaption>\n",
    "\n",
    "Üblicherweise wird der Darcy-Versuch unter kontrollierten Bedingungen mit Hilfe eines großen Zylinders, geregelter Wasserzufuhr und Piezometern durchgeführt. Unter besonderen Umständen jedoch, wie beispielsweise der COVID-19 Epidemie, können nicht immer zentral organisierte Laborpraktika arrangiert werden.\n",
    "\n",
    "An dieser Stelle bietet sich die Möglichkeit eines selbstgebauten Versuches für Sie zu Hause an. Das folgende Experiment soll folglich für jeden Studierenden mit möglichst wenigen, im besten Falle schon im Haushalt vorhandenen Hilfsmitteln, aufgebaut und ausgeführt werden können. Hierbei ist Ihre Kreativität gefragt, um die Ihnen zu Verfügung stehenden Materialien und Hilfsmittel so zu verwenden, dass Sie bestmögliche Ergebnisse erzielen.\n",
    "\n",
    "Alle für diese Experimente benötigten Materialen sollten in Ihrem nächstegelegenen Baumarkt zu finden sein oder bereits zu Hause vorhanden sein."
   ]
  },
  {
   "cell_type": "markdown",
   "metadata": {},
   "source": [
    "<div class=\"alert alert-block alert-info\">\n",
    "Mit dem folgenden Slider können Sie sehen, wie sich ihr Durchfluss unter verschiedenen Bedingungen ändert. Der ausgegebene Wert entspricht dem Durchfluss Q [$m^3$/s]. Die Startwerte sind so gewählt, dass die den möglichen Einstellungen des Experimentes entsprechen.\n",
    "</div>"
   ]
  },
  {
   "cell_type": "code",
   "execution_count": 34,
   "metadata": {},
   "outputs": [
    {
     "data": {
      "application/vnd.jupyter.widget-view+json": {
       "model_id": "3d1c3f7c8b4546c982b7a191e1b99801",
       "version_major": 2,
       "version_minor": 0
      },
      "text/plain": [
       "interactive(children=(FloatLogSlider(value=0.0005, description='K [m/s]:', max=-2.0, min=-8.0, step=0.0001), F…"
      ]
     },
     "metadata": {},
     "output_type": "display_data"
    }
   ],
   "source": [
    "from ipywidgets import interact, interactive, fixed, interact_manual\n",
    "from IPython.display import display\n",
    "from IPython.display import clear_output\n",
    "from ipynb.fs.full.functions import create_multipleChoice_widget\n",
    "\n",
    "import os\n",
    "import ipywidgets as widgets\n",
    "\n",
    "def Q(K,A,h,l):\n",
    "    print(\"spezifischer Durchfluss q = %8.2e\"% (K * (h/l)),       \" m/s\")\n",
    "    print(\"spezifischer Durchfluss q = %8.4f\"% (K * (h/l)*86400), \" m/d\")\n",
    "    print(\"             Durchfluss Q = %8.3f\"% (K * A * (h/l)*1000), \"l/s\")\n",
    "    print(\"             Durchfluss Q = %8.3f\"% (K * A * (h/l)*1000*60), \"l/min\")\n",
    "    print(\"             Durchfluss Q = %8.3f\"% (K * A * (h/l)*1000*60*60), \"l/h\")\n",
    "\n",
    "w = interactive(Q,K=widgets.FloatLogSlider(min=-8, max=-2,value=0.0005, step=0.0001,description='K [m/s]:'),\n",
    "                        A=widgets.FloatLogSlider(min=-4, max=-2, value=0.0050, step=0.001,description='A [$m^2$]:'),\n",
    "                        h=widgets.FloatLogSlider(min=-2, max=-0.2, value=0.2, step=0.001,description='$\\Delta$h [m]:'),\n",
    "                        l=widgets.FloatLogSlider(min=-2, max=-0.3, value=0.1, step=0.001,description='$\\Delta$l [m]:'),\n",
    "                       )\n",
    "display(w)"
   ]
  },
  {
   "cell_type": "markdown",
   "metadata": {},
   "source": [
    "<div class=\"alert alert-block alert-success\">\n",
    "    <a id='K_1'><b>Kontrollfragen:</b> Bitte bearbeiten Sie die folgenden Fragen, um Ihren Lernfortschritt zu kontrollieren.\n",
    "</div>"
   ]
  },
  {
   "cell_type": "code",
   "execution_count": 38,
   "metadata": {},
   "outputs": [
    {
     "data": {
      "application/vnd.jupyter.widget-view+json": {
       "model_id": "822d013560414641859065acde711524",
       "version_major": 2,
       "version_minor": 0
      },
      "text/plain": [
       "VBox(children=(Output(), RadioButtons(options=(('17. Jh.', 0), ('18. Jh.', 1), ('19. Jh.', 2), ('20. Jh.', 3))…"
      ]
     },
     "metadata": {},
     "output_type": "display_data"
    },
    {
     "data": {
      "application/vnd.jupyter.widget-view+json": {
       "model_id": "9779ed1cf7074145867a8bce8333a0d8",
       "version_major": 2,
       "version_minor": 0
      },
      "text/plain": [
       "VBox(children=(Output(), RadioButtons(options=(('Q unterscheidet sich kaum', 0), ('Q ist halb so hoch', 1), ('…"
      ]
     },
     "metadata": {},
     "output_type": "display_data"
    },
    {
     "data": {
      "application/vnd.jupyter.widget-view+json": {
       "model_id": "8d9c546de79c45448bac84a231abf854",
       "version_major": 2,
       "version_minor": 0
      },
      "text/plain": [
       "VBox(children=(Output(), RadioButtons(options=(('Q unterscheidet sich kaum', 0), ('Q ist halb so hoch', 1), ('…"
      ]
     },
     "metadata": {},
     "output_type": "display_data"
    },
    {
     "data": {
      "application/vnd.jupyter.widget-view+json": {
       "model_id": "d52314b878b94b95a3af3124c8f92a3d",
       "version_major": 2,
       "version_minor": 0
      },
      "text/plain": [
       "VBox(children=(Output(), RadioButtons(options=(('länger als 1 Stunde', 0), ('länger als 10 Stunden', 1), ('län…"
      ]
     },
     "metadata": {},
     "output_type": "display_data"
    }
   ],
   "source": [
    "B1_Frage1 = \"Frage 1: Wann hat Henry Darcy die Grundwasserströmung untersucht?\"\n",
    "B1_A1_A = \"17. Jh.\"\n",
    "B1_A1_B = \"18. Jh.\"\n",
    "B1_A1_C = \"19. Jh.\"\n",
    "B1_A1_D = \"20. Jh.\"\n",
    "\n",
    "B1_Frage2 = \"Frage 2: Wie verändert sich der Durchfluss Q, wenn die Höhe der Sandschicht verdoppelt wird?\"\n",
    "B1_A2_A = \"Q unterscheidet sich kaum\"\n",
    "B1_A2_B = \"Q ist halb so hoch\"\n",
    "B1_A2_C = \"Q ist doppelt so hoch\"\n",
    "B1_A2_D = \"Q sinkt exponentiell ab\"\n",
    "\n",
    "B1_Frage3 = \"Frage 3: Wie verändert sich der Durchfluss Q, wenn $\\Delta h$ halbiert wird?\"\n",
    "B1_A3_A = \"Q unterscheidet sich kaum\"\n",
    "B1_A3_B = \"Q ist halb so hoch\"\n",
    "B1_A3_C = \"Q ist doppelt so hoch\"\n",
    "B1_A3_D = \"Q sinkt exponentiell ab\"\n",
    "\n",
    "B1_Frage4 = \"Frage 4: Nehmen Sie an, das Wasser benötigt in ihrem Versuch 10 Sekunden um durch die Sandschicht zu filtrieren. Wie lange würde es ganz grob geschätzt dauern, wenn Sie den Sand durch Ton ersetzen?\"\n",
    "B1_A4_A = \"länger als 1 Stunde\"\n",
    "B1_A4_B = \"länger als 10 Stunden\"\n",
    "B1_A4_C = \"länger als 1 Tag\"\n",
    "B1_A4_D = \"länger als 10 Tage\"\n",
    "\n",
    "B1_Q1 = create_multipleChoice_widget(B1_Frage1,[B1_A1_A,B1_A1_B,B1_A1_C,B1_A1_D],B1_A1_C)\n",
    "B1_Q2 = create_multipleChoice_widget(B1_Frage2,[B1_A2_A,B1_A2_B,B1_A2_C,B1_A2_D],B1_A2_B)\n",
    "B1_Q3 = create_multipleChoice_widget(B1_Frage3,[B1_A3_A,B1_A3_B,B1_A3_C,B1_A3_D],B1_A3_B)\n",
    "B1_Q4 = create_multipleChoice_widget(B1_Frage4,[B1_A4_A,B1_A4_B,B1_A4_C,B1_A4_D],B1_A4_D)\n",
    "\n",
    "display(B1_Q1)\n",
    "display(B1_Q2)\n",
    "display(B1_Q3)\n",
    "display(B1_Q4)"
   ]
  },
  {
   "cell_type": "markdown",
   "metadata": {},
   "source": [
    "## <a id='2'></a> 2 Charakterisierung des Porenraums\n",
    "\n",
    "### <a id='2_1'></a> 2.1 Wiederholung der Grundlagen\n",
    "\n",
    "Den Porenraum der Lockersedimente charakterisiert u. a. die Porosität, welche in totale und mobile (auch als effektive bezeichnet) Porosität unterteilt werden.\n",
    "\n",
    "Die theoretischen Grundlagen finden Sie in den Lernmaterialien des Kurses oder in der allgemeinen Literatur, z. B. in [Woessner und Poeter: Hydrogeologic Properties of Earth Materials and Principles of Groundwater Flow. Open Book of the GW-Project.org](https://books.gw-project.org/hydrogeologic-properties-of-earth-materials-and-principles-of-groundwater-flow/).\n",
    "\n",
    "<div class=\"alert alert-block alert-success\">\n",
    "    <a id='K_2'></a><b>Kontrollfragen:</b> Bitte bearbeiten Sie die folgenden Fragen, um Ihren Lernfortschritt zu kontrollieren.\n",
    "</div>"
   ]
  },
  {
   "cell_type": "code",
   "execution_count": 36,
   "metadata": {},
   "outputs": [
    {
     "data": {
      "application/vnd.jupyter.widget-view+json": {
       "model_id": "906c5e63b504456e9c3bec2be901ece8",
       "version_major": 2,
       "version_minor": 0
      },
      "text/plain": [
       "VBox(children=(Output(), RadioButtons(options=(('Kies', 0), ('Sand', 1), ('Schluff', 2), ('Ton', 3)), value=0)…"
      ]
     },
     "metadata": {},
     "output_type": "display_data"
    },
    {
     "data": {
      "application/vnd.jupyter.widget-view+json": {
       "model_id": "5f52141cb23446fa82cd51f6fc353bf1",
       "version_major": 2,
       "version_minor": 0
      },
      "text/plain": [
       "VBox(children=(Output(), RadioButtons(options=(('Kies', 0), ('Sand', 1), ('Schluff', 2), ('Ton', 3)), value=0)…"
      ]
     },
     "metadata": {},
     "output_type": "display_data"
    },
    {
     "data": {
      "application/vnd.jupyter.widget-view+json": {
       "model_id": "a71cbe30f1264055a983fea6a35a3c18",
       "version_major": 2,
       "version_minor": 0
      },
      "text/plain": [
       "VBox(children=(Output(), RadioButtons(options=(('5%', 0), ('10%', 1), ('30%', 2), ('50%', 3)), value=0), Butto…"
      ]
     },
     "metadata": {},
     "output_type": "display_data"
    },
    {
     "data": {
      "application/vnd.jupyter.widget-view+json": {
       "model_id": "7bff28b596dc4772803de7ed6d7a87a2",
       "version_major": 2,
       "version_minor": 0
      },
      "text/plain": [
       "VBox(children=(Output(), RadioButtons(options=(('3 g', 0), ('30 g', 1), ('300 g', 2), ('3000 g', 3)), value=0)…"
      ]
     },
     "metadata": {},
     "output_type": "display_data"
    }
   ],
   "source": [
    "B2_Frage1 = \"Welches Sediment hat die größte totale Porosität?\"\n",
    "B2_A1_A = \"Kies\"\n",
    "B2_A1_B = \"Sand\"\n",
    "B2_A1_C = \"Schluff\"\n",
    "B2_A1_D = \"Ton\"\n",
    "\n",
    "B2_Frage2 = \"Welches Sediment hat die größte mobile Porosität?\"\n",
    "B2_A2_A = \"Kies\"\n",
    "B2_A2_B = \"Sand\"\n",
    "B2_A2_C = \"Schluff\"\n",
    "B2_A2_D = \"Ton\"\n",
    "\n",
    "B2_Frage3 = \"Wie groß schätzen Sie die mobile Porosität eines Sandes?\"\n",
    "B2_A3_A = \"5%\"\n",
    "B2_A3_B = \"10%\"\n",
    "B2_A3_C = \"30%\"\n",
    "B2_A3_D = \"50%\"\n",
    "\n",
    "B2_Frage4 = \"Wie viel wiegen 300 ml Wasser?\"\n",
    "B2_A4_A = \"3 g\"\n",
    "B2_A4_B = \"30 g\"\n",
    "B2_A4_C = \"300 g\"\n",
    "B2_A4_D = \"3000 g\"\n",
    "\n",
    "B2_Q1 = create_multipleChoice_widget(B2_Frage1,[B2_A1_A,B2_A1_B,B2_A1_C,B2_A1_D],B2_A1_D)\n",
    "B2_Q2 = create_multipleChoice_widget(B2_Frage2,[B2_A2_A,B2_A2_B,B2_A2_C,B2_A2_D],B2_A2_B)\n",
    "B2_Q3 = create_multipleChoice_widget(B2_Frage3,[B2_A3_A,B2_A3_B,B2_A3_C,B2_A3_D],B2_A3_C)\n",
    "B2_Q4 = create_multipleChoice_widget(B2_Frage4,[B2_A4_A,B2_A4_B,B2_A4_C,B2_A4_D],B2_A4_C)\n",
    "\n",
    "display(B2_Q1)\n",
    "display(B2_Q2)\n",
    "display(B2_Q3)\n",
    "display(B2_Q4)"
   ]
  },
  {
   "cell_type": "markdown",
   "metadata": {},
   "source": [
    "### <a id='2_2'></a> 2.2 Benötigte Materialien\n",
    "Um den Porenraum von Lockersedimenten zu charakterisieren benötigen Sie:\n",
    "* zwei Kaffeepöte (oder ähnliche Gefäße),\n",
    "* eine einfache Küchenwaage,\n",
    "* Wasser,\n",
    "* Lockersedimente (z. B. Sande mit unterschiedlicher Korngröße, Kies).\n",
    "\n",
    "Wir benötigen ca. 'einen halben Liter' der Sedimente, um das Gefäß zu füllen. Diese Sedimente sollten Sie in ihrem näheren Umfeld finden können (Spielplatz, Baumarkt). Verwenden Sie möglichst trockene Sedimente (wir gehen davon aus, dass die Sedimente komplett trocken sind). Trocknen Sie die Sedimente ggf. im Vorfeld (Sonne, Ofen bei ca. 105 Grad Celsius).\n",
    "\n",
    "### <a id='2_3'></a> 2.3 Experimentelle Bestimmung des Porenraums\n",
    "\n",
    "Mit den folgenden Anweisungen können Sie den Porenraum (totale und mobile Porosität) Ihrer Sedimente charakterisieren.\n",
    "\n",
    "* Notieren Sie Ihre Erwartungswerte für die totale und mobile Porosität,\n",
    "* Bestimmen Sie das Volumen des Gefäßes $V_t$, in welches Sie die Sedimente für den Versuch füllen möchten. Ermitteln Sie das Volumen über die Wassermenge (bzw. das Gewicht des Wassers), welches das Gefäß bei kompletter Füllung fasst.\n",
    "* Leeren Sie das Gefäß, trocknen Sie dieses ab und füllen Sie anschliessend das Gefäß komplett mit Sediment.\n",
    "* Erfassen Sie die Wassermenge $V_1$, welche in das komplett mit Sediment gefüllte Gefäß passt (z. B. mit Hilfe der gravimetrisch ermittelten Differenz der Massen).\n",
    "* Erfassen Sie die Wassermenge $V_2$, welche aus dem komplett mit Sediment gefüllte Gefäß wieder ausfliesst (z. B. mit Hilfe der gravimetrisch ermittelten Differenz der Massen).\n",
    "* Mit Hilfe der folgenden Gleichungen können Sie nun die totale und mobile Porosität berechnen:\n",
    "\n",
    "\\begin{equation}\n",
    "n_{t} = \\frac{V_1} {V_t}\n",
    "\\end{equation}  \n",
    "\n",
    "\n",
    "\\begin{equation}\n",
    "n_{mob} = \\frac{V_2} {V_t}\n",
    "\\end{equation}\n",
    "\n",
    "* Vergleichen Sie die experimentell ermittelten Porositäten mit Ihren Erwartungswerten und analysieren Sie ggf. Unsicherheiten und Fehlerquellen."
   ]
  },
  {
   "cell_type": "markdown",
   "metadata": {},
   "source": [
    "## <a id='3'></a> 3 Aufbau des Darcy-Experimentes\n",
    "\n",
    "### <a id='3_1'></a> 3.1 Benötigte Materialien \n",
    "Anstelle des Darcy-Zylinders wählen wir eine handelsübliche PET-Flasche. Idealerweise soll die Flasche die Form eines Zylinders aufweisen, der Durchmesser der Flasche sollte im gesamten Mittelteil konstant bleiben, das heißt es dürfen keine Verengungen oder Auswölbungen vorhanden sein. Sie benötigen folgende Materialien: \n",
    "* mehrere PET-Flaschen\n",
    "* ein Bandmaß oder einen Zollstock\n",
    "* ein Messer (idealerweise Cuttermesser)\n",
    "* ein Smartphone oder eine Stoppuhr\n",
    "* einen Plastikbecher\n",
    "* einen Jogurtbecher \n",
    "* ein wasserdurchlässiges Netzgewebe (es sollte engmaschig genug sein, um den Sand abzuhalten)\n",
    "* eine Küchenwaage\n",
    "* einen Permanentmarker\n",
    "* Kies\n",
    "* zwei Sande unterschiedlicher Korngröße\n",
    "* eine etwa 5-8 cm hohe Schüssel mit ebenem Boden\n",
    "\n",
    "<img src=\"img/Bild1.png\" width=\"600\">\n",
    "<figcaption><b>Abb.19:</b> Benötigte Materialien und Geräte</figcaption>\n",
    "\n",
    "### <a id='3_2'></a> 3.2 Vorbereitungen \n",
    "Zuallererst muss der Boden der Flasche mit dem Cuttermesser abgetrennt werden. Als nächstes versehen Sie die beiden Becher und den abgetrennten Boden mit Löchern.\n",
    "Eine gute Methode um eine gleichmäßige Verteilung zu erreichen, ist das Einbrennen mit einem erhitzen Metall, beispielsweise eines Nagels. Der Plastikbecher wird als Ständer dienen, um ein Umkippen der Flasche zu vermeiden und einen geregelten Wasseraustausch zu gewärleisten. Der durchlöcherte Jogurtbecher wird nur für die gleichmäßige Verteilung des einzufüllenden Wassers benötigt und kann genauso gut gegen einen Gegenstand mit gleichwertiger Funktion ausgetauscht werden. Nachdem Sie dies getan haben, sollte es wiefolgt aussehen:\n",
    "\n",
    "<img src=\"img/Bild3.jfif\" width=\"450\">\n",
    "<figcaption><b>Abb.20:</b> Vorbereitung der Flaschen und Becher</figcaption>\n",
    "\n",
    "### <a id='3_3'></a> 3.3 Einbau der Sedimente \n",
    "Setzen Sie nun den abgesägten Flaschenboden verkehrt herum in die umgedrehte Flasche ein, drücken Sie ihn bis ganz nach unten und befüllen Sie die Mulde mit Kies. Der nächste Schritt erfordert ein wenig Fingerspitzengefühl. Sie wollen ihr Netzgewebe so zurechtschneiden, dass es auf der Kiesschicht aufliegt und gleichzeitig einen Mantel für den später hinzugegebenen Sand dient. Haben sie hierbei Probleme, ist es ratsam das Netz an die innere Flaschenwand anzukleben. Setzen Sie also das Netzgewebe ein und füllen Sie die Flasche mit dem gröberen Sand auf, so dass die Höhe der Sandschicht ungefähr zwischen 5-7 cm beträgt.\n",
    "Setzen Sie dann den Experimentieraufbau wie in dieser Abbildung zu sehen, zusammen:\n",
    " \n",
    "<img src=\"img/Bild4.png\" width=\"450\">\n",
    "<figcaption><b>Abb.21: </b> Mit Kies und Sand/Kies befüllte Flasche </figcaption>\n"
   ]
  },
  {
   "cell_type": "markdown",
   "metadata": {},
   "source": [
    "## <a id='4'></a> 4 Gesättigte und ungesättigte Verhältnisse \n",
    "Was denken Sie? Ist der Durchfluss unter gesättigten oder unter ungesättigten Bedingungen höher?  \n",
    "\n",
    "Um Ihre Vermutung zu bestätigen, führen Sie den folgenden Versuch durch:\n",
    "* Platzieren Sie die mit Sand gefüllte Flasche zusammen mit dem Plastikbecher in der Schüssel.\n",
    "* Zusätzlich benötigen Sie 300 ml Wasser und eine Stoppuhr.\n",
    "* Lassen Sie die Stoppuhr laufen und füllen das Wasser nach und nach in die Flasche, immer gerade so viel, dass der Wasserspiegel einen Zentimeter über dem Sand steht.\n",
    "* Stoppen Sie die Zeit, wenn das Wasser aufgebraucht ist und der Wasserspiegel die Höhe der Sandschicht erreicht. Notieren Sie die Dauer. \n",
    "\n",
    "Lassen sie für den zweiten Teil des Versuches eine weitere Menge an Wasser durch die Sandschicht laufen und rühren Sie dabei den Sand gut durch. Daraufhin wird das Experiment wie zuvor durchgeführt, die 300 ml Wasser werden abgemessen und unter den selben Bedingungen in die mit feuchtem Sand beladene Flasche eingefüllt. Sobald der Wasserspiegel die Zentimetermarke unterschreitet und bis auf die Sandschicht absinkt, stoppen Sie die Zeit.  \n",
    "\n",
    "Inwiefern unterscheiden sich die Zeiten aus den beiden Versuchen? Hat sich Ihre Vermutung bestätigt?"
   ]
  },
  {
   "cell_type": "markdown",
   "metadata": {},
   "source": [
    "## <a id='5'></a> 5 Versuch nach Darcy - Ermittlung der hydraulischen Leitfähigkeit\n",
    "### <a id='5_1'></a> 5. 1 Vorbereitung des Experimentes\n",
    "Es ist empfehlenswert dieses Experiment in Ihrer Badewanne, der Dusche, dem Waschbecken oder draußen im Freien durchzuführen, da es zu einem Wasserabfluss kommen wird.  \n",
    "\n",
    "* Zunächst stellen Sie die Schüssel auf dem Boden ab und setzen den Plastikbecher mit der umgedrehten und mit Sand befüllten Flasche in die Mitte der Schüssel.  \n",
    "\n",
    "Für die Anwendbarkeit des Darcy Gesetzes wird eine gesättigte Sandschicht benötigt.\n",
    "\n",
    "* Befüllen Sie deshalb die Flasche mit Wasser und geben Sie weiter Wasser nach, sodass ein stetiger Fluss entsteht. Dabei ist es angebracht den Sand umzurühren, auf diese Weise können im Sand eingeschlossene, für unser Experiment unerwünschte, Luftblasen entfernt werden.  \n",
    "\n",
    "Die Schüssel sollte nach einiger Zeit bis zum Rand mit Wasser gefüllt sein.\n",
    "\n",
    "* Nehmen Sie ihr Maßband und messen Sie entlang der Flasche eine Distanz von 20 cm ab, beginnend vom Wasserstand der Schüssel bis hin zum oberen Drittel der Flasche.\n",
    "* Markieren Sie mit dem Permanentmarker die Position mit einem Strich.\n",
    "* Nutzen Sie das Maßband um den Umfang zu messen und daraus die Querschnittsfläche der Flasche zu berechnen.  \n",
    "\n",
    "Sie kennen nun den Druckhöhenunterschied, Die Länge und den Querschnitt des durchströmen Mediums. Um die Darcy Gleichung anwenden zu können und die hydraulische Leitfähigkeit zu bestimmen, muss nur noch der Durchfluss pro Zeit ermittelt werden.\n",
    "\n",
    "* Füllen Sie zwei leere PET-Flaschen mit Wasser.\n",
    "\n",
    "Eine grobe Skizze des Versuchsdurchgangs sieht folgendermaßen aus:\n",
    "\n",
    " <img src=\"img/Bild5.png\" width=\"600\">\n",
    " <figcaption>Abb.22: Skizze Versuchsaufbau</figcaption>\n",
    "\n",
    "### <a id='4_2'></a> 4.2 Durchführung des Experimentes \n",
    "Wiegen sie nun die erste Flasche mit der Küchenwaage und notieren Sie sich das Gewicht. \n",
    "Befüllen Sie als nächstes mit der zweiten Flasche die Darcy-Flasche, sodass der Wasserstand weit über der Markierung liegt. Halten Sie die Stoppuhr bereit, denn sobald der sinkende Wasserpegel die Markierung erreicht, muss die Zeit gemessen werden. Hierbei ist es Ihnen überlassen, wie lange Sie den Versuch durchführen werden. Zu beachten ist jedoch, dass eine längere Durchlaufzeit ein genaueres Ergebnis liefern wird. Sobald sie Anfangen die Zeit zu messen, sollten Sie im gleichmäßigen Abstand Wasser aus der ersten Flasche nachfüllen, sodass der Wasserpegel immer erhalten bleibt und das Ergebnis nicht verfälscht wird.\n",
    "Nachdem Sie sich dazu entschieden haben den Versuch zu stoppen, notieren Sie sich die verlaufene Zeit und wiegen die PET-Flasche erneut. Mit der Differenz der Gewichte und der gemessenen Zeit ist es dann möglich, den Durchfluss zu errechnen. \n",
    "\n",
    "Führen Sie diesen Versuch mehrere Male durch und ermitteln sie den mittleren Durchfluss. Damit sind Ihnen alle notwendigen Werte bekannt um die hydraulische Leitfähigkeit mit Hilfe der Darcy Gleichung zu berechnen. \n",
    "\n",
    "Führen Sie im Anschluss exakt den selben Versuch nocheinmal durch (er wird zur gleichen Zeit abgebrochen), doch diesmal mit der anderen, feineren Sandprobe.  \n",
    "\n",
    "* Welche Veränderung des Durchflusses erwarten Sie? Wird der Unterschied minimal oder doch gravierend sein? \n",
    "* Berechnen Sie auch hier die hydraulische Leitfähigkeit. \n",
    "* Ordnen Sie Ihre Probe an Hand der hydraulischen Leitfähigkeit einem Sedimenttyp zu:\n",
    "\n",
    "Berechnen Sie noch einmal die hydraulische Leitfähigkeit, aber diesmal unter veränderten Startbedingungen: \n",
    "* Verdoppeln Sie die Höhe der Sandschicht bei gleichbleibender Druckhöhe \n",
    "* Halbieren Sie die die Druckhöhe bei gleichbleibender Höhe der Sandschicht\n",
    "\n",
    "Was fällt Ihnen bei Betrachtung der Ergebnisse auf? In welcher Korrelation stehen sie zueinander? "
   ]
  },
  {
   "cell_type": "markdown",
   "metadata": {},
   "source": [
    "<hr>\n",
    "&copy; 2021 | Bruno Scheffel / Thomas Reimann\n",
    "<a rel=\"license\" href=\"http://creativecommons.org/licenses/by/4.0/\"><img style=\"float: right\" alt=\"Creative Commons Lizenzvertrag\" style=\"border-width:0\" src=\"https://i.creativecommons.org/l/by/4.0/88x31.png\" /></a>"
   ]
  },
  {
   "cell_type": "code",
   "execution_count": null,
   "metadata": {},
   "outputs": [],
   "source": []
  }
 ],
 "metadata": {
  "kernelspec": {
   "display_name": "Python 3",
   "language": "python",
   "name": "python3"
  },
  "language_info": {
   "codemirror_mode": {
    "name": "ipython",
    "version": 3
   },
   "file_extension": ".py",
   "mimetype": "text/x-python",
   "name": "python",
   "nbconvert_exporter": "python",
   "pygments_lexer": "ipython3",
   "version": "3.7.4"
  }
 },
 "nbformat": 4,
 "nbformat_minor": 4
}
