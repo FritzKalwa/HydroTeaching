{
 "cells": [
  {
   "cell_type": "markdown",
   "metadata": {},
   "source": [
    "# Info\n",
    "\n",
    "This notebook supports the evaluation of the Soil Water Retention Curve, which describes the relationship between moisture and suction head. Further, notebook allows to investigate the relationships introduced by Mualem and van Genuchten <br>\n",
    "to describe water retention and hydraulic conductivity in the unsaturated zone for unconsolidated sediments. <br>"
   ]
  },
  {
   "cell_type": "code",
   "execution_count": 7,
   "metadata": {},
   "outputs": [],
   "source": [
    "import math\n",
    "import numpy as np\n",
    "from ipywidgets import *\n",
    "import matplotlib.pyplot as plt\n",
    "\n",
    "# given data (retention) - here you can use the approach to fit parameter to measured data\n",
    "\n",
    "p1=[2230.546345,577.472177,300.4391307,199.8371285,142.8205223,109.6375793,85.19965286,67.18768129,53.82569358,41.8841783,31.92533514,21.62546735,10.23974185]\n",
    "t1=[0.09,0.12,0.15,0.18,0.21,0.24,0.27,0.3,0.33,0.36,0.39,0.42,0.45]\n",
    "\n",
    "#definition of the function (conductivity)\n",
    "def RTC_VG_MUA(tr, ts, alpha, n, plot1, plot2):\n",
    "    x_max = 300\n",
    "    \n",
    "    # intermediate results \n",
    "    m   = 1-1/n                                         # van Genuchten parameter\n",
    "    PWP = tr + (ts - tr)/(1+(alpha*10**4.2)**n)**m      # permanent wilting point\n",
    "    FC  = tr + (ts - tr)/(1+(alpha*10**1.8)**n)**m      # field capacity\n",
    "    eFC = FC - PWP                                      # effective field capacity\n",
    "\n",
    "    # model output\n",
    "    t_plot  = []                                        # t  = theta = moisture content\n",
    "    p_plot  = []                                        # p  = phi   = suction head\n",
    "    kr_plot = []                                        # kr = rel. permeability\n",
    "    \n",
    "    for x in range (0, x_max):\n",
    "        t = tr + (ts-tr)*x/(x_max-1)                    # [-] moisture content; please note that range counts up to x_max-1\n",
    "        te = (t-tr)/(ts-tr)                            # [-] effective saturation      \n",
    "        if x == 0:\n",
    "            p     = math.inf                            # [cm] suction head\n",
    "            log_p = math.inf\n",
    "            kr    = 0                                   # [-] relative hydraulic conductivity\n",
    "        else: \n",
    "            p     = ((te**(-1/m)-1)**(1/n))/alpha                      \n",
    "            kr    = np.sqrt(te)*(1-(1-te**(1/m))**m)**2\n",
    "        t_plot.append(t)\n",
    "        p_plot.append(p)\n",
    "        kr_plot.append(kr)\n",
    "        \n",
    "    \n",
    "    fig = plt.figure(figsize=(9,6))\n",
    "    ax  = fig.add_subplot()\n",
    "    ax.plot(t_plot, p_plot, 'r', markersize=3)\n",
    "    ax.vlines(x= tr, ymin=1e-1, ymax=1e+5, linestyle='--')      \n",
    "    ax.hlines(y= 10**4.2, xmin=0, xmax=PWP, colors='g')    #upper green line\n",
    "    ax.vlines(x= PWP, ymin=1e-1, ymax=10**4.2, colors='g')\n",
    "    ax.hlines(y= 10**1.8, xmin=0, xmax=FC, colors='b')     #bottom green line\n",
    "    ax.vlines(x= FC, ymin=1e-1, ymax=10**1.8, colors='b')\n",
    "    if plot1 == 1:\n",
    "        ax.plot(t1, p1,'ro', markersize=3)\n",
    "    ax.set(xlabel='water content [-]', ylabel ='suction head [cm]', xlim = [0, 0.7], ylim = [1e-1,1e+5], yscale = 'log' )\n",
    "    ax.grid(which=\"both\", color='grey',linewidth=0.5)\n",
    "    plt.show()\n",
    "    \n",
    "    if plot2 == 1:\n",
    "        fig = plt.figure(figsize=(6,4))\n",
    "        ax  = fig.add_subplot()\n",
    "        ax.plot(t_plot, kr_plot, 'b', markersize = 3)\n",
    "        ax.set(xlabel='water content [-]', ylabel='rel hydraulic conductivity [cm/d]', xlim = [0, 0.7], ylim = [0,1] )\n",
    "        ax.grid(which=\"major\", color='grey',linewidth=0.5)\n",
    "        plt.show()\n",
    "    \n",
    "    print ('Van Genuchten             m:', '{:.5f}'.format(m) )\n",
    "    print ('Permanent Wilting Point PWP:', '{:.2f}'.format(PWP) )\n",
    "    print ('Field Capacity           FC:', '{:.2f}'.format(FC) )\n",
    "    print ('Eff. Field Capacity     eFC:', '{:.2f}'.format(eFC) )"
   ]
  },
  {
   "cell_type": "markdown",
   "metadata": {},
   "source": [
    "The Notebook displays the retention function in red. Optionally, measured data can be showed within the plot (e.g. to inversely fit parameters to measured data). Additionally, the relative permeability can be plotted in an extra diagramm in blue. Use the sliders below to show or hide (1/0) additional data and diagramms. Parameter can be modified by using the slider or by directly modifying the data (just move your mouse over the data and modify in the textbox).<br>\n",
    "\n",
    "In addition, the following quantities are computed: <br>\n",
    "\n",
    "van Genuchten parameter m = 1 - 1/n, permanent wilting point (PWP), field capacity (FC), and effective field capacity (eFC). <br>\n",
    "\n",
    "|symbol | input parameters\t\t\t    |units\t    |remarks\n",
    "|:------|:------------------------------|:----------|:----------------------\n",
    "|$\\theta_r$|residual moisture content\t\t|\t-\t    |enter number between 0 and 1 required\n",
    "|$\\theta_s$    |moisture content at saturation\t|\t-\t    |enter number between residual moisture content and 1 required\n",
    "|$\\alpha$|shape parameter a\t\t\t    |   1/cm\t|enter positive number\n",
    "|$n$    |shape parameter n\t\t\t    |   -\t    |enter number > 1"
   ]
  },
  {
   "cell_type": "code",
   "execution_count": 9,
   "metadata": {},
   "outputs": [
    {
     "data": {
      "application/vnd.jupyter.widget-view+json": {
       "model_id": "25463a6dabc2463e86b38b3d439ba79a",
       "version_major": 2,
       "version_minor": 0
      },
      "text/plain": [
       "interactive(children=(FloatSlider(value=0.05, description='$theta_r$ [-]:', max=0.4, min=0.01, step=0.01), Flo…"
      ]
     },
     "metadata": {},
     "output_type": "display_data"
    },
    {
     "data": {
      "text/plain": [
       "<function __main__.RTC_VG_MUA(tr, ts, alpha, n, plot1, plot2)>"
      ]
     },
     "execution_count": 9,
     "metadata": {},
     "output_type": "execute_result"
    }
   ],
   "source": [
    "interact(RTC_VG_MUA,\n",
    "         tr    = widgets.FloatSlider(value=0.05, min=0.01,    max=0.4, step=0.01, description='$theta_r$ [-]:', disabled=False),\n",
    "         ts    = widgets.FloatSlider(value=0.5 , min=0.2,     max=0.7, step=0.01, description='$theta_s$ [-]:', disabled=False),\n",
    "         alpha = widgets.FloatSlider(value=0.1 , min=0.01,    max=1,   step=0.02, description='$alpha$ [1/cm]:', disabled=False),\n",
    "         n     = widgets.FloatSlider(value=1.2 , min=1.01,    max=5,   step=0.05, description= 'n  [-]:', disabled=False),\n",
    "         plot1 = widgets.IntSlider  (value=0   , min=0,       max=1,   step=1,    description='Plot data ',disabled=False),\n",
    "         plot2 = widgets.IntSlider  (value=0   , min=0,       max=1,   step=1,    description='Plot $k_r$ ',disabled=False),\n",
    "         )\n"
   ]
  },
  {
   "cell_type": "markdown",
   "metadata": {},
   "source": []
  },
  {
   "cell_type": "code",
   "execution_count": null,
   "metadata": {},
   "outputs": [],
   "source": []
  }
 ],
 "metadata": {
  "kernelspec": {
   "display_name": "Python 3",
   "language": "python",
   "name": "python3"
  },
  "language_info": {
   "codemirror_mode": {
    "name": "ipython",
    "version": 3
   },
   "file_extension": ".py",
   "mimetype": "text/x-python",
   "name": "python",
   "nbconvert_exporter": "python",
   "pygments_lexer": "ipython3",
   "version": "3.7.6"
  }
 },
 "nbformat": 4,
 "nbformat_minor": 2
}
