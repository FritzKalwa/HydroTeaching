{
 "cells": [
  {
   "cell_type": "markdown",
   "metadata": {},
   "source": [
    "# Theis Type Curve & Data sheets\n",
    "This notebook is intended to draw the necessary plots for graphical pumping test evaluation methods. Plots will be saved in a subfolder. Size and appearance of the plots can be adapted."
   ]
  },
  {
   "cell_type": "markdown",
   "metadata": {},
   "source": [
    "## Introduction\n",
    "\n",
    "### General situation\n",
    "We consider a confined aquifer with constant transmissivity. If a well is pumping water out of the aquifer, radial flow towards the well is induced. The hydraulics are described by the following simplified flow equation. This equation accounts for 1D radial transient flow towards a fully penetrating well within a confined aquifer without further sinks and sources:\n",
    "\n",
    "$$ \\frac{\\partial^2 h}{\\partial r^2}+\\frac{1}{r}\\frac{\\partial h}{\\partial r}=\\frac{S}{T}\\frac{\\partial h}{\\partial t} $$\n",
    "\n",
    "### Solution by Theis\n",
    "Charles V. Theis presented a solution for this by deriving\n",
    "\n",
    "$$ s(r,t)=\\frac{Q}{4\\pi T}W(u) $$\n",
    "\n",
    "with the well function\n",
    "\n",
    "$$ W(u) = \\int_{u }^{+\\infty} \\frac{e^{-\\tilde u}}{\\tilde u}d\\tilde u $$\n",
    "\n",
    "and the dimensionless variable \n",
    "\n",
    "$$ u = \\frac{Sr^2}{4Tt} $$\n",
    "\n",
    "This equations are not easy to solve. Historically, values for the well function were provided by tables or as so called type-curve. The type-curve matching with experimental data for pumping test analysis can be considered as one of the basic hydrogeological methods.\n",
    "\n",
    "However, modern computer provide an easier and more convinient way to solve the 1D radial flow equation based on the Theis approach."
   ]
  },
  {
   "cell_type": "markdown",
   "metadata": {},
   "source": [
    "### Computation\n",
    "\n",
    "Subsequently, the computation is done by general mathematical routines. It is not necessary to understand all details (although the code reveals them). But the application of those methods for pumping test data is of great practical importance.\n",
    "\n",
    "- Subsequently, parts that are not essential for understanding are marked with *(italic text in brackets)*. You need to run those cells but you don't necessarily need read the code.\n",
    "\n",
    "- Necessary parts come in **bold text**."
   ]
  },
  {
   "cell_type": "markdown",
   "metadata": {},
   "source": [
    "*(First, the necessary Python functions are initiated.)*"
   ]
  },
  {
   "cell_type": "code",
   "execution_count": 301,
   "metadata": {},
   "outputs": [],
   "source": [
    "%matplotlib inline\n",
    "import numpy as np\n",
    "import matplotlib.pyplot as plt\n",
    "import scipy.special\n",
    "import os\n",
    "\n",
    "save_dir = ('C:/GVG460/T07/THEIS_CURVE/')\n",
    "\n",
    "if not os.path.isdir(save_dir):\n",
    "    os.makedirs(save_dir)"
   ]
  },
  {
   "cell_type": "markdown",
   "metadata": {},
   "source": [
    "**The following section stores the measured data.**\n",
    "\n",
    "This are two lists with time (in minutes) and drawdown (in meters). Make sure that those elements match each other (e.g. the first time is associated with the first drawdown value etc.). Here, the data from Fetter are used whereas here drawdown is given in meters (1 feet = 0.3048m).\n",
    "\n",
    "Currently, two data sets are provided (_hint: you can 'deactivate' data by commenting them out by using the **#**-symbol_)"
   ]
  },
  {
   "cell_type": "code",
   "execution_count": 363,
   "metadata": {},
   "outputs": [],
   "source": [
    "# DATA FROM FETTER (TABLE 5.1), TRANSFERED FROM FEET TO METER\n",
    "# Q = 42400 ft3/d, r = 824 ft\n",
    "m_time = [3,5,8,12,20,24,30,38,47,50,60,70,80,90,100,130,160,200,260,320,380,500] # time in minutes\n",
    "m_ddown = [0.093,0.216,0.401,0.648,0.987,1.110,1.264,1.449,1.573,1.635,1.758,1.881,1.943,2.066,2.159,2.313,2.560,2.621,2.837,2.991,3.146,3.362]   # drawdown in meters\n",
    "\n",
    "# DATA FROM SCHWARTZ & ZHANG\n",
    "# Q = 500 m3/d, r = 300 m\n",
    "#m_time = [1,1.27,1.61,2.04,2.59,3.29,4.18,5.3,6.72,8.53,10.83,13.74,17.43,22.12,28.07,35.62,45.2,57.36,72.79,92.37,117.21,148.74,188.74,239.5,303.92,385.66,489.39,621.02,788.05,1000] # time in minutes\n",
    "#m_ddown = [0.03,0.05,0.09,0.15,0.22,0.31,0.41,0.53,0.66,0.8,0.95,1.11,1.27,1.44,1.61,1.79,1.97,2.15,2.33,2.52,2.7,2.89,3.07,3.26,3.45,3.64,3.83,4.02,4.21,4.39]   # drawdown in meters"
   ]
  },
  {
   "cell_type": "markdown",
   "metadata": {},
   "source": [
    "*(Here the necessary functions like the well function $W(u)$ are defined. Later, those functions are used in the computation)*"
   ]
  },
  {
   "cell_type": "code",
   "execution_count": 364,
   "metadata": {},
   "outputs": [],
   "source": [
    "#Define a function, class, and object for Theis Well analysis\n",
    "\n",
    "def well_function(u):\n",
    "    return scipy.special.exp1(u)\n",
    "\n",
    "def theis_u(T,S,r,t):\n",
    "    u = r ** 2 * S / 4. / T / t\n",
    "    return u\n",
    "\n",
    "def theis_s(Q, T, u):\n",
    "    s = Q / 4. / np.pi / T * well_function(u)\n",
    "    return s\n",
    "\n",
    "def theis_wu(Q, T, s):\n",
    "    wu = s * 4. * np.pi * T / Q\n",
    "    return wu"
   ]
  },
  {
   "cell_type": "markdown",
   "metadata": {
    "collapsed": true
   },
   "source": [
    "*(Here, the methode computes the data for the well function. Those data can be used to generate a type curve.)*"
   ]
  },
  {
   "cell_type": "code",
   "execution_count": 365,
   "metadata": {},
   "outputs": [],
   "source": [
    "u_max = 10\n",
    "r_max = 1000000\n",
    "u  = [u_max for x in range(r_max)]\n",
    "um = [u_max for x in range(r_max)]\n",
    "u_inv  = [r_max/u_max for x in range(r_max)]\n",
    "um_inv = [r_max/u_max for x in range(r_max)]\n",
    "w_u  = [well_function(u_max/r_max) for x in range(r_max)]\n",
    "w_um = [well_function(u_max/r_max) for x in range(r_max)]\n",
    "\n",
    "for x in range(1,r_max,1):\n",
    "    if x>0:\n",
    "        u[x] = x*u_max/r_max\n",
    "        u_inv[x] = 1/u[x]\n",
    "        w_u[x] = well_function(u[x])"
   ]
  },
  {
   "cell_type": "markdown",
   "metadata": {},
   "source": [
    "## Plotting the Theis Type Curve\n",
    "The next section is to plot the Theis Type Curve. A matching point can be defined by providing 'easy' values for w(u) and 1/u"
   ]
  },
  {
   "cell_type": "code",
   "execution_count": 366,
   "metadata": {},
   "outputs": [
    {
     "data": {
      "text/plain": [
       "<function matplotlib.pyplot.show(*args, **kw)>"
      ]
     },
     "execution_count": 366,
     "metadata": {},
     "output_type": "execute_result"
    },
    {
     "data": {
      "image/png": "[encoded data removed]",
      "text/plain": [
       "<Figure size 648x432 with 1 Axes>"
      ]
     },
     "metadata": {
      "needs_background": "dark"
     },
     "output_type": "display_data"
    }
   ],
   "source": [
    "# W(u) is match_wu and 1/u is match_uinv\n",
    "match_u_inv=1\n",
    "match_wu=1\n",
    "matchgrid_x=[match_u_inv, match_u_inv]\n",
    "matchgrid_y=[match_wu, match_wu]\n",
    "matchgrid  =[0.001, 1000000]\n",
    "\n",
    "fig = plt.figure(figsize=(9,6))\n",
    "ax = fig.add_subplot(1, 1, 1)\n",
    "plt.subplots_adjust(left=0.1, bottom=0.1, right=0.9, top=0.9)  # adjust plot area\n",
    "\n",
    "#plot the data\n",
    "ax.plot(u_inv, w_u, color = 'black', linewidth = 2)\n",
    "ax.plot(match_u_inv, match_wu,'ro',markersize=6)\n",
    "ax.plot(matchgrid_x,matchgrid,color ='lime', linewidth = 1)\n",
    "ax.plot(matchgrid,matchgrid_y,color = 'lime', linewidth = 1)\n",
    "\n",
    "#set up the diagramm\n",
    "plt.yscale(\"log\")\n",
    "plt.xscale(\"log\")\n",
    "plt.axis([0.1,1E4,1E-2,1E+1])\n",
    "ax.set(xlabel='1/u', ylabel='w(u)',\n",
    "       title='Theis type curve for manual evaluation')\n",
    "ax.grid(which=\"both\",color='whitesmoke', linewidth=0.5)\n",
    "\n",
    "#box around plot\n",
    "ax.spines['top'].set_color('lightgrey')\n",
    "ax.spines['bottom'].set_color('lightgrey')\n",
    "ax.spines['right'].set_color('lightgrey')\n",
    "ax.spines['left'].set_color('lightgrey')\n",
    "\n",
    "ax.tick_params(which='both', colors='lightgrey')\n",
    "\n",
    "plt.savefig(save_dir+'TYPE_CURVE.png', dpi=300)\n",
    "plt.show"
   ]
  },
  {
   "cell_type": "markdown",
   "metadata": {},
   "source": [
    "**Subsequently, the given data for the processing of measured data are provided.**\n",
    "\n",
    "This are the given data like\n",
    "- pumping rate $Q$,\n",
    "- aquifer thickness $b$,\n",
    "- distance of the observation (where time and drawdown were measured) to the pumping well $r$.\n",
    "\n",
    "**These data can be adjusted for individual measurements.**\n",
    "\n",
    "First, plot and save the measured data"
   ]
  },
  {
   "cell_type": "code",
   "execution_count": 367,
   "metadata": {},
   "outputs": [
    {
     "data": {
      "image/png": "[encoded data removed]",
      "text/plain": [
       "<Figure size 648x432 with 1 Axes>"
      ]
     },
     "metadata": {
      "needs_background": "light"
     },
     "output_type": "display_data"
    }
   ],
   "source": [
    "fig = plt.figure(figsize=(9,6))\n",
    "ax = fig.add_subplot(1, 1, 1)\n",
    "plt.subplots_adjust(left=0.1, bottom=0.1, right=0.9, top=0.9)  # adjust plot area\n",
    "ax.plot(m_time, m_ddown,'bo', markersize=3)\n",
    "plt.yscale(\"log\")\n",
    "plt.xscale(\"log\")\n",
    "plt.axis([0.1,1E4,1E-2,1E+1])\n",
    "ax.set(xlabel='time t (min)', ylabel='drawdown s (m)',\n",
    "       title='Measured data')\n",
    "ax.grid(which=\"both\", color='grey',linewidth=0.5)\n",
    "plt.savefig(save_dir+'MEASURED.png', transparent='true', dpi=300)\n",
    "plt.show()"
   ]
  },
  {
   "cell_type": "code",
   "execution_count": 375,
   "metadata": {},
   "outputs": [
    {
     "data": {
      "image/png": "[encoded data removed]",
      "text/plain": [
       "<Figure size 648x432 with 1 Axes>"
      ]
     },
     "metadata": {
      "needs_background": "light"
     },
     "output_type": "display_data"
    }
   ],
   "source": [
    "fig = plt.figure(figsize=(9,6))\n",
    "ax = fig.add_subplot(1, 1, 1)\n",
    "plt.subplots_adjust(left=0.1, bottom=0.1, right=0.9, top=0.9)  # adjust plot area\n",
    "ax.plot(m_time, m_ddown,'bo', markersize=3)\n",
    "plt.xscale(\"log\")\n",
    "plt.axis([0.1,1E4,5,0])\n",
    "ax.set(xlabel='time t (min)', ylabel='drawdown s (m)',\n",
    "       title='Measured data - COOPER_JACOB_STRAIGHT')\n",
    "ax.grid(which=\"both\", color='grey',linewidth=0.5)\n",
    "plt.savefig(save_dir+'COOPER_JACOB_STRAIGHT.png', transparent='true', dpi=300)\n",
    "plt.show()"
   ]
  },
  {
   "cell_type": "markdown",
   "metadata": {},
   "source": [
    "## Manual fitting\n",
    "- Now you should go to the previously defined folder (variable 'save_dir' in the first code-box; presetting is C:/GVG460/T07...) where the type curve and the measured data are saved;\n",
    "- Print or load this figures to a suitable methode (for example in MS-Word or MS-EXCEL);\n",
    "- If the matching point and the range of the axis doesnt fit your data, adjust (in the previous code boxes) and replot;\n",
    "- make sure, that both figures come with the same amount of log-cycles on the x- and y-axis;\n",
    "- make sure, that both figures are of same size;\n",
    "- fit the type-curve and the measured-data-plot as best as possible;\n",
    "- Note the t and s value, where the matchpoint from the type-curve intersects the measured-data-plot;\n",
    "- this t and s values are necessary for further processing."
   ]
  },
  {
   "cell_type": "markdown",
   "metadata": {},
   "source": [
    "## Details of the computation\n",
    "By fitting the type curve and the measured data and under consideration of the matching point, the values of t and s can be derived from the plots. Those parameters can be used to further compute transmissivity T and storativity S by the following equations\n",
    "\n",
    "$$ T=\\frac{Q}{4\\pi s}W(u) $$\n",
    "\n",
    "and subsequently\n",
    "\n",
    "$$ S = \\frac{4Tt}{r^2}u $$\n",
    "\n",
    "\n",
    "\n",
    "## DATA PROCESSING & CHECK\n",
    "Under consideration of the pumping test data (extraction rate Q and distance r between pumping well and observation, the formation parameter can be computed. The next section is to check the manual parameter estimation. Estimated data (T and S) are set in a common plot. If the manual estimation was successful, measured data and type curve in the automatic plot will fit.\n",
    "\n",
    "**FIRST, DEFINE THE PARAMETERS AND THE MANUALLY ESTIMATED DATA (t / s) HERE. MAKE SURE THE UNITS ARE CONSISTENT (e.g. METERS / SECONDS)**"
   ]
  },
  {
   "cell_type": "code",
   "execution_count": 368,
   "metadata": {},
   "outputs": [],
   "source": [
    "# Test data here; probably convert from feet / minutes / days etc.\n",
    "r = 824*0.3048\n",
    "Q = 42400*0.3048**3/86400\n",
    "\n",
    "# Graphically estimated parameter here\n",
    "t_est = 4.2*60\n",
    "s_est = 0.81"
   ]
  },
  {
   "cell_type": "code",
   "execution_count": 369,
   "metadata": {},
   "outputs": [
    {
     "name": "stdout",
     "output_type": "stream",
     "text": [
      "Distance       r =  251.16 m\n",
      "Pumpingrate    Q =  1.39e-02 m3/s\n",
      "Transmissivity T =  1.37e-03 m2/s\n",
      "Storativity    S =  2.18e-05 [-]\n"
     ]
    }
   ],
   "source": [
    "# Compute Transmissivity and Storativity\n",
    "T = Q * match_wu/(4*np.pi*s_est)\n",
    "S = 4*t_est*T/r**2/match_u_inv\n",
    "\n",
    "print(\"Distance       r = \",'{:.2f}'.format(r), \"m\")\n",
    "print(\"Pumpingrate    Q = \",'{:.2e}'.format(Q), \"m3/s\")\n",
    "print(\"Transmissivity T = \",'{:.2e}'.format(T), \"m2/s\")\n",
    "print(\"Storativity    S = \",'{:.2e}'.format(S), \"[-]\")"
   ]
  },
  {
   "cell_type": "markdown",
   "metadata": {},
   "source": [
    "**Plot the match between type curve and measured data to check the manual estimation**\n"
   ]
  },
  {
   "cell_type": "code",
   "execution_count": 370,
   "metadata": {},
   "outputs": [
    {
     "data": {
      "image/png": "[encoded data removed]",
      "text/plain": [
       "<Figure size 648x432 with 1 Axes>"
      ]
     },
     "metadata": {
      "needs_background": "light"
     },
     "output_type": "display_data"
    }
   ],
   "source": [
    "#GENERATE THE TYPE CURVE AND PLOT THE MEASURED DATA\n",
    "x = 0\n",
    "for t in m_time:\n",
    "    um[x] = theis_u(T,S,r,t*60)\n",
    "    um_inv[x] = 1/um[x]\n",
    "    w_um[x] = theis_wu(Q,T,m_ddown[x])\n",
    "    x = x+1\n",
    "\n",
    "fig = plt.figure(figsize=(9,6))\n",
    "ax = fig.add_subplot(1, 1, 1)\n",
    "ax.plot(u_inv, w_u)\n",
    "ax.plot(um_inv, w_um,'ro')\n",
    "plt.yscale(\"log\")\n",
    "plt.xscale(\"log\")\n",
    "plt.axis([1,1E4,1E-2,1E+1])\n",
    "plot_text = \"T= \" + str('{:.2e}'.format(T))+ \" m/s  &  S = \" + str('{:.2e}'.format(S))+\" [-]\"\n",
    "plt.text(100, 0.1,plot_text,horizontalalignment='center',verticalalignment='top',multialignment='center', size='12')\n",
    "ax.set(xlabel='1/u', ylabel='w(u)',title='Theis drawdown')\n",
    "ax.grid(which=\"both\",color='whitesmoke')\n",
    "plt.legend(('well function','measured'), loc=4)\n",
    "plt.savefig(save_dir+'CHECK_THEIS_MANUAL.png', dpi=300)\n",
    "plt.show()"
   ]
  },
  {
   "cell_type": "code",
   "execution_count": null,
   "metadata": {},
   "outputs": [],
   "source": []
  }
 ],
 "metadata": {
  "kernelspec": {
   "display_name": "Python 3",
   "language": "python",
   "name": "python3"
  },
  "language_info": {
   "codemirror_mode": {
    "name": "ipython",
    "version": 3
   },
   "file_extension": ".py",
   "mimetype": "text/x-python",
   "name": "python",
   "nbconvert_exporter": "python",
   "pygments_lexer": "ipython3",
   "version": "3.7.6"
  },
  "toc": {
   "base_numbering": 1,
   "nav_menu": {},
   "number_sections": true,
   "sideBar": true,
   "skip_h1_title": false,
   "title_cell": "Table of Contents",
   "title_sidebar": "Contents",
   "toc_cell": false,
   "toc_position": {},
   "toc_section_display": true,
   "toc_window_display": false
  },
  "varInspector": {
   "cols": {
    "lenName": 16,
    "lenType": 16,
    "lenVar": 40
   },
   "kernels_config": {
    "python": {
     "delete_cmd_postfix": "",
     "delete_cmd_prefix": "del ",
     "library": "var_list.py",
     "varRefreshCmd": "print(var_dic_list())"
    },
    "r": {
     "delete_cmd_postfix": ") ",
     "delete_cmd_prefix": "rm(",
     "library": "var_list.r",
     "varRefreshCmd": "cat(var_dic_list()) "
    }
   },
   "position": {
    "height": "216.667px",
    "left": "2296.33px",
    "right": "20px",
    "top": "120px",
    "width": "243.667px"
   },
   "types_to_exclude": [
    "module",
    "function",
    "builtin_function_or_method",
    "instance",
    "_Feature"
   ],
   "window_display": true
  }
 },
 "nbformat": 4,
 "nbformat_minor": 1
}
